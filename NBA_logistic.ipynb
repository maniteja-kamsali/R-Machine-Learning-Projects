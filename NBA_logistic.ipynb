{
 "cells": [
  {
   "cell_type": "code",
   "execution_count": 4,
   "metadata": {},
   "outputs": [],
   "source": [
    "df=read.csv('C:/Users/MANI/Documents/R sem 2/logistic_regression/exercises-logistic-regression-exercise-1/exercises-logistic-regression-exercise-1/nba_logreg.csv')\n"
   ]
  },
  {
   "cell_type": "markdown",
   "metadata": {},
   "source": [
    "# Problem_statement: To predict the player will be playing after 5 years or not."
   ]
  },
  {
   "cell_type": "code",
   "execution_count": 133,
   "metadata": {},
   "outputs": [
    {
     "data": {
      "text/html": [
       "<table>\n",
       "<thead><tr><th scope=col>GP</th><th scope=col>MIN</th><th scope=col>PTS</th><th scope=col>FGM</th><th scope=col>FGA</th><th scope=col>FG.</th><th scope=col>X3P.Made</th><th scope=col>X3PA</th><th scope=col>X3P.</th><th scope=col>FTM</th><th scope=col>FTA</th><th scope=col>FT.</th><th scope=col>OREB</th><th scope=col>DREB</th><th scope=col>REB</th><th scope=col>AST</th><th scope=col>STL</th><th scope=col>BLK</th><th scope=col>TOV</th><th scope=col>TARGET_5Yrs</th></tr></thead>\n",
       "<tbody>\n",
       "\t<tr><td>36  </td><td>27.4</td><td>7.4 </td><td>2.6 </td><td>7.6 </td><td>34.7</td><td>0.5 </td><td>2.1 </td><td>25  </td><td>1.6 </td><td>2.3 </td><td>69.9</td><td>0.7 </td><td>3.4 </td><td>4.1 </td><td>1.9 </td><td>0.4 </td><td>0.4 </td><td>1.3 </td><td>0   </td></tr>\n",
       "\t<tr><td>35  </td><td>26.9</td><td>7.2 </td><td>2.0 </td><td>6.7 </td><td>29.6</td><td>0.7 </td><td>2.8 </td><td>23.5</td><td>2.6 </td><td>3.4 </td><td>76.5</td><td>0.5 </td><td>2.0 </td><td>2.4 </td><td>3.7 </td><td>1.1 </td><td>0.5 </td><td>1.6 </td><td>0   </td></tr>\n",
       "\t<tr><td>74  </td><td>15.3</td><td>5.2 </td><td>2.0 </td><td>4.7 </td><td>42.2</td><td>0.4 </td><td>1.7 </td><td>24.4</td><td>0.9 </td><td>1.3 </td><td>67.0</td><td>0.5 </td><td>1.7 </td><td>2.2 </td><td>1.0 </td><td>0.5 </td><td>0.3 </td><td>1.0 </td><td>0   </td></tr>\n",
       "\t<tr><td>58  </td><td>11.6</td><td>5.7 </td><td>2.3 </td><td>5.5 </td><td>42.6</td><td>0.1 </td><td>0.5 </td><td>22.6</td><td>0.9 </td><td>1.3 </td><td>68.9</td><td>1.0 </td><td>0.9 </td><td>1.9 </td><td>0.8 </td><td>0.6 </td><td>0.1 </td><td>1.0 </td><td>1   </td></tr>\n",
       "\t<tr><td>48  </td><td>11.5</td><td>4.5 </td><td>1.6 </td><td>3.0 </td><td>52.4</td><td>0   </td><td>0.1 </td><td>0   </td><td>1.3 </td><td>1.9 </td><td>67.4</td><td>1.0 </td><td>1.5 </td><td>2.5 </td><td>0.3 </td><td>0.3 </td><td>0.4 </td><td>0.8 </td><td>1   </td></tr>\n",
       "\t<tr><td>75  </td><td>11.4</td><td>3.7 </td><td>1.5 </td><td>3.5 </td><td>42.3</td><td>0.3 </td><td>1.1 </td><td>32.5</td><td>0.4 </td><td>0.5 </td><td>73.2</td><td>0.2 </td><td>0.7 </td><td>0.8 </td><td>1.8 </td><td>0.4 </td><td>0.0 </td><td>0.7 </td><td>0   </td></tr>\n",
       "</tbody>\n",
       "</table>\n"
      ],
      "text/latex": [
       "\\begin{tabular}{r|llllllllllllllllllll}\n",
       " GP & MIN & PTS & FGM & FGA & FG. & X3P.Made & X3PA & X3P. & FTM & FTA & FT. & OREB & DREB & REB & AST & STL & BLK & TOV & TARGET\\_5Yrs\\\\\n",
       "\\hline\n",
       "\t 36   & 27.4 & 7.4  & 2.6  & 7.6  & 34.7 & 0.5  & 2.1  & 25   & 1.6  & 2.3  & 69.9 & 0.7  & 3.4  & 4.1  & 1.9  & 0.4  & 0.4  & 1.3  & 0   \\\\\n",
       "\t 35   & 26.9 & 7.2  & 2.0  & 6.7  & 29.6 & 0.7  & 2.8  & 23.5 & 2.6  & 3.4  & 76.5 & 0.5  & 2.0  & 2.4  & 3.7  & 1.1  & 0.5  & 1.6  & 0   \\\\\n",
       "\t 74   & 15.3 & 5.2  & 2.0  & 4.7  & 42.2 & 0.4  & 1.7  & 24.4 & 0.9  & 1.3  & 67.0 & 0.5  & 1.7  & 2.2  & 1.0  & 0.5  & 0.3  & 1.0  & 0   \\\\\n",
       "\t 58   & 11.6 & 5.7  & 2.3  & 5.5  & 42.6 & 0.1  & 0.5  & 22.6 & 0.9  & 1.3  & 68.9 & 1.0  & 0.9  & 1.9  & 0.8  & 0.6  & 0.1  & 1.0  & 1   \\\\\n",
       "\t 48   & 11.5 & 4.5  & 1.6  & 3.0  & 52.4 & 0    & 0.1  & 0    & 1.3  & 1.9  & 67.4 & 1.0  & 1.5  & 2.5  & 0.3  & 0.3  & 0.4  & 0.8  & 1   \\\\\n",
       "\t 75   & 11.4 & 3.7  & 1.5  & 3.5  & 42.3 & 0.3  & 1.1  & 32.5 & 0.4  & 0.5  & 73.2 & 0.2  & 0.7  & 0.8  & 1.8  & 0.4  & 0.0  & 0.7  & 0   \\\\\n",
       "\\end{tabular}\n"
      ],
      "text/markdown": [
       "\n",
       "| GP | MIN | PTS | FGM | FGA | FG. | X3P.Made | X3PA | X3P. | FTM | FTA | FT. | OREB | DREB | REB | AST | STL | BLK | TOV | TARGET_5Yrs |\n",
       "|---|---|---|---|---|---|---|---|---|---|---|---|---|---|---|---|---|---|---|---|\n",
       "| 36   | 27.4 | 7.4  | 2.6  | 7.6  | 34.7 | 0.5  | 2.1  | 25   | 1.6  | 2.3  | 69.9 | 0.7  | 3.4  | 4.1  | 1.9  | 0.4  | 0.4  | 1.3  | 0    |\n",
       "| 35   | 26.9 | 7.2  | 2.0  | 6.7  | 29.6 | 0.7  | 2.8  | 23.5 | 2.6  | 3.4  | 76.5 | 0.5  | 2.0  | 2.4  | 3.7  | 1.1  | 0.5  | 1.6  | 0    |\n",
       "| 74   | 15.3 | 5.2  | 2.0  | 4.7  | 42.2 | 0.4  | 1.7  | 24.4 | 0.9  | 1.3  | 67.0 | 0.5  | 1.7  | 2.2  | 1.0  | 0.5  | 0.3  | 1.0  | 0    |\n",
       "| 58   | 11.6 | 5.7  | 2.3  | 5.5  | 42.6 | 0.1  | 0.5  | 22.6 | 0.9  | 1.3  | 68.9 | 1.0  | 0.9  | 1.9  | 0.8  | 0.6  | 0.1  | 1.0  | 1    |\n",
       "| 48   | 11.5 | 4.5  | 1.6  | 3.0  | 52.4 | 0    | 0.1  | 0    | 1.3  | 1.9  | 67.4 | 1.0  | 1.5  | 2.5  | 0.3  | 0.3  | 0.4  | 0.8  | 1    |\n",
       "| 75   | 11.4 | 3.7  | 1.5  | 3.5  | 42.3 | 0.3  | 1.1  | 32.5 | 0.4  | 0.5  | 73.2 | 0.2  | 0.7  | 0.8  | 1.8  | 0.4  | 0.0  | 0.7  | 0    |\n",
       "\n"
      ],
      "text/plain": [
       "  GP MIN  PTS FGM FGA FG.  X3P.Made X3PA X3P. FTM FTA FT.  OREB DREB REB AST\n",
       "1 36 27.4 7.4 2.6 7.6 34.7 0.5      2.1  25   1.6 2.3 69.9 0.7  3.4  4.1 1.9\n",
       "2 35 26.9 7.2 2.0 6.7 29.6 0.7      2.8  23.5 2.6 3.4 76.5 0.5  2.0  2.4 3.7\n",
       "3 74 15.3 5.2 2.0 4.7 42.2 0.4      1.7  24.4 0.9 1.3 67.0 0.5  1.7  2.2 1.0\n",
       "4 58 11.6 5.7 2.3 5.5 42.6 0.1      0.5  22.6 0.9 1.3 68.9 1.0  0.9  1.9 0.8\n",
       "5 48 11.5 4.5 1.6 3.0 52.4 0        0.1  0    1.3 1.9 67.4 1.0  1.5  2.5 0.3\n",
       "6 75 11.4 3.7 1.5 3.5 42.3 0.3      1.1  32.5 0.4 0.5 73.2 0.2  0.7  0.8 1.8\n",
       "  STL BLK TOV TARGET_5Yrs\n",
       "1 0.4 0.4 1.3 0          \n",
       "2 1.1 0.5 1.6 0          \n",
       "3 0.5 0.3 1.0 0          \n",
       "4 0.6 0.1 1.0 1          \n",
       "5 0.3 0.4 0.8 1          \n",
       "6 0.4 0.0 0.7 0          "
      ]
     },
     "metadata": {},
     "output_type": "display_data"
    }
   ],
   "source": [
    "head(df)"
   ]
  },
  {
   "cell_type": "code",
   "execution_count": null,
   "metadata": {},
   "outputs": [],
   "source": [
    "#df$GP <- factor(df$GP)\n",
    "#df$X3P.Made <- factor(df$X3P.Made)\n",
    "#df$X3PA <- factor(df$X3PA)\n",
    "#df$X3P. <- factor(df$X3P.)\n",
    "#df$TARGET_5Yrs <- factor(df$TARGET_5Yrs)"
   ]
  },
  {
   "cell_type": "markdown",
   "metadata": {},
   "source": [
    "# Converting the significant columns into factors for better classification for the model."
   ]
  },
  {
   "cell_type": "markdown",
   "metadata": {},
   "source": [
    "# Printing the head of data"
   ]
  },
  {
   "cell_type": "code",
   "execution_count": 134,
   "metadata": {},
   "outputs": [
    {
     "name": "stdout",
     "output_type": "stream",
     "text": [
      "'data.frame':\t1340 obs. of  20 variables:\n",
      " $ GP         : Factor w/ 70 levels \"11\",\"12\",\"14\",..: 24 23 62 46 36 63 50 36 53 30 ...\n",
      " $ MIN        : num  27.4 26.9 15.3 11.6 11.5 11.4 10.9 10.3 9.9 8.5 ...\n",
      " $ PTS        : num  7.4 7.2 5.2 5.7 4.5 3.7 6.6 5.7 2.4 3.7 ...\n",
      " $ FGM        : num  2.6 2 2 2.3 1.6 1.5 2.5 2.3 1 1.4 ...\n",
      " $ FGA        : num  7.6 6.7 4.7 5.5 3 3.5 5.8 5.4 2.4 3.5 ...\n",
      " $ FG.        : num  34.7 29.6 42.2 42.6 52.4 42.3 43.5 41.5 39.2 38.3 ...\n",
      " $ X3P.Made   : Factor w/ 23 levels \"0\",\"0.1\",\"0.2\",..: 6 8 5 2 1 4 1 5 2 2 ...\n",
      " $ X3PA       : Factor w/ 54 levels \"0\",\"0.1\",\"0.2\",..: 22 29 18 6 2 12 2 16 6 4 ...\n",
      " $ X3P.       : Factor w/ 254 levels \"0\",\"4.3\",\"4.5\",..: 82 72 78 66 1 149 251 125 70 58 ...\n",
      " $ FTM        : num  1.6 2.6 0.9 0.9 1.3 0.4 1.5 0.7 0.4 1 ...\n",
      " $ FTA        : num  2.3 3.4 1.3 1.3 1.9 0.5 1.8 0.8 0.5 1.4 ...\n",
      " $ FT.        : num  69.9 76.5 67 68.9 67.4 73.2 81.1 87.5 71.4 67.8 ...\n",
      " $ OREB       : num  0.7 0.5 0.5 1 1 0.2 0.5 0.8 0.2 0.4 ...\n",
      " $ DREB       : num  3.4 2 1.7 0.9 1.5 0.7 1.4 0.9 0.6 0.7 ...\n",
      " $ REB        : num  4.1 2.4 2.2 1.9 2.5 0.8 2 1.7 0.8 1.1 ...\n",
      " $ AST        : num  1.9 3.7 1 0.8 0.3 1.8 0.6 0.2 2.3 0.3 ...\n",
      " $ STL        : num  0.4 1.1 0.5 0.6 0.3 0.4 0.2 0.2 0.3 0.2 ...\n",
      " $ BLK        : num  0.4 0.5 0.3 0.1 0.4 0 0.1 0.1 0 0 ...\n",
      " $ TOV        : num  1.3 1.6 1 1 0.8 0.7 0.7 0.7 1.1 0.7 ...\n",
      " $ TARGET_5Yrs: Factor w/ 2 levels \"0\",\"1\": 1 1 1 2 2 1 2 2 1 1 ...\n"
     ]
    }
   ],
   "source": [
    "str(df)"
   ]
  },
  {
   "cell_type": "markdown",
   "metadata": {},
   "source": [
    "# Checking the structure of the data"
   ]
  },
  {
   "cell_type": "code",
   "execution_count": 8,
   "metadata": {},
   "outputs": [],
   "source": [
    "library(Amelia)"
   ]
  },
  {
   "cell_type": "markdown",
   "metadata": {},
   "source": [
    "# Using library amelia for missing values"
   ]
  },
  {
   "cell_type": "code",
   "execution_count": 10,
   "metadata": {},
   "outputs": [
    {
     "data": {
      "image/png": "[encoded data removed]",
      "text/plain": [
       "Plot with title \"NBA - Missings Map\""
      ]
     },
     "metadata": {},
     "output_type": "display_data"
    }
   ],
   "source": [
    "missmap(df, main=\"NBA - Missings Map\", \n",
    "        col=c(\"yellow\", \"black\"), legend=FALSE)"
   ]
  },
  {
   "cell_type": "code",
   "execution_count": 11,
   "metadata": {},
   "outputs": [
    {
     "name": "stderr",
     "output_type": "stream",
     "text": [
      "Registered S3 methods overwritten by 'ggplot2':\n",
      "  method         from \n",
      "  [.quosures     rlang\n",
      "  c.quosures     rlang\n",
      "  print.quosures rlang\n"
     ]
    }
   ],
   "source": [
    "library(ggplot2)"
   ]
  },
  {
   "cell_type": "code",
   "execution_count": 14,
   "metadata": {},
   "outputs": [
    {
     "data": {
      "image/png": "[encoded data removed]",
      "text/plain": [
       "plot without title"
      ]
     },
     "metadata": {},
     "output_type": "display_data"
    }
   ],
   "source": [
    "ggplot(df,aes(TARGET_5Yrs)) + geom_bar()"
   ]
  },
  {
   "cell_type": "markdown",
   "metadata": {},
   "source": [
    "# There are more guys who can play after 5 years also"
   ]
  },
  {
   "cell_type": "code",
   "execution_count": 144,
   "metadata": {},
   "outputs": [
    {
     "data": {
      "image/png": "[encoded data removed]",
      "text/plain": [
       "plot without title"
      ]
     },
     "metadata": {},
     "output_type": "display_data"
    }
   ],
   "source": [
    "ggplot(df,aes(X3P.Made)) + geom_bar(aes(fill=factor(X3P.Made)),alpha=0.5)"
   ]
  },
  {
   "cell_type": "markdown",
   "metadata": {},
   "source": [
    "# The above graph is showing the players how many 3 points made by the basket ball players."
   ]
  },
  {
   "cell_type": "code",
   "execution_count": 142,
   "metadata": {},
   "outputs": [
    {
     "data": {
      "image/png": "[encoded data removed]",
      "text/plain": [
       "plot without title"
      ]
     },
     "metadata": {},
     "output_type": "display_data"
    }
   ],
   "source": [
    "ggplot(df,aes(X3PA)) + geom_bar(aes(fill=factor(X3PA)),alpha=0.5) "
   ]
  },
  {
   "cell_type": "markdown",
   "metadata": {},
   "source": [
    "# The above graph shows that the points attempt made by players"
   ]
  },
  {
   "cell_type": "code",
   "execution_count": 145,
   "metadata": {},
   "outputs": [
    {
     "data": {
      "image/png": "[encoded data removed]",
      "text/plain": [
       "plot without title"
      ]
     },
     "metadata": {},
     "output_type": "display_data"
    }
   ],
   "source": [
    "ggplot(df,aes(PTS)) + geom_histogram(fill='blue',bins=20,alpha=0.5)"
   ]
  },
  {
   "cell_type": "markdown",
   "metadata": {},
   "source": [
    "# The mean of the points is between 0 and 10."
   ]
  },
  {
   "cell_type": "code",
   "execution_count": 115,
   "metadata": {},
   "outputs": [
    {
     "ename": "ERROR",
     "evalue": "Error in is_character(x): object 'Name' not found\n",
     "output_type": "error",
     "traceback": [
      "Error in is_character(x): object 'Name' not found\nTraceback:\n",
      "1. select(df, -Name)",
      "2. select.data.frame(df, -Name)",
      "3. tidyselect::vars_select(sel_vars(.data), !!!quos(...))",
      "4. vars_select_eval(.vars, quos)",
      "5. map_if(quos, !is_helper, eval_tidy, mask)",
      "6. map(.x[sel], .f, ...)",
      "7. .f(.x[[i]], ...)",
      "8. -Name",
      "9. is_character(x)"
     ]
    }
   ],
   "source": [
    "df <- select(df, -Name)"
   ]
  },
  {
   "cell_type": "markdown",
   "metadata": {},
   "source": [
    "# Drop the name column because it is not required for the model building "
   ]
  },
  {
   "cell_type": "code",
   "execution_count": 47,
   "metadata": {},
   "outputs": [],
   "source": [
    "library(caTools)\n",
    "set.seed(101)\n",
    "\n",
    "split = sample.split(df$TARGET_5Yrs, SplitRatio = 0.70)\n",
    "\n",
    "final.train = subset(df, split == TRUE)\n",
    "final.test = subset(df, split == FALSE)"
   ]
  },
  {
   "cell_type": "markdown",
   "metadata": {},
   "source": [
    "# splitting the data into final.train and final.test using sample.split function"
   ]
  },
  {
   "cell_type": "code",
   "execution_count": 117,
   "metadata": {},
   "outputs": [],
   "source": [
    "final.log.model <- glm(formula= TARGET_5Yrs ~ GP + X3P.Made , family = binomial(link='logit'),data = final.train)"
   ]
  },
  {
   "cell_type": "markdown",
   "metadata": {},
   "source": [
    "# Training the model using final.train data and the dependent variable is target_5 years and independent variable is games played (GP) and 3 points made."
   ]
  },
  {
   "cell_type": "code",
   "execution_count": 118,
   "metadata": {},
   "outputs": [
    {
     "data": {
      "text/plain": [
       "\n",
       "Call:\n",
       "glm(formula = TARGET_5Yrs ~ GP + X3P.Made, family = binomial(link = \"logit\"), \n",
       "    data = final.train)\n",
       "\n",
       "Deviance Residuals: \n",
       "    Min       1Q   Median       3Q      Max  \n",
       "-1.8881  -1.0624   0.6341   0.8684   1.8775  \n",
       "\n",
       "Coefficients:\n",
       "              Estimate Std. Error z value Pr(>|z|)    \n",
       "(Intercept) -2.3433023  0.2661287  -8.805   <2e-16 ***\n",
       "GP           0.0480641  0.0044478  10.806   <2e-16 ***\n",
       "X3P.Made     0.0002999  0.1973492   0.002    0.999    \n",
       "---\n",
       "Signif. codes:  0 '***' 0.001 '**' 0.01 '*' 0.05 '.' 0.1 ' ' 1\n",
       "\n",
       "(Dispersion parameter for binomial family taken to be 1)\n",
       "\n",
       "    Null deviance: 1245.4  on 937  degrees of freedom\n",
       "Residual deviance: 1107.4  on 935  degrees of freedom\n",
       "AIC: 1113.4\n",
       "\n",
       "Number of Fisher Scoring iterations: 4\n"
      ]
     },
     "metadata": {},
     "output_type": "display_data"
    }
   ],
   "source": [
    "summary(final.log.model)"
   ]
  },
  {
   "cell_type": "markdown",
   "metadata": {},
   "source": [
    "# Games played and 3 points made are the significant variables"
   ]
  },
  {
   "cell_type": "code",
   "execution_count": 120,
   "metadata": {},
   "outputs": [],
   "source": [
    "fitted.probabilities <- predict(final.log.model,newdata=final.test,type='response')"
   ]
  },
  {
   "cell_type": "markdown",
   "metadata": {},
   "source": [
    "# Using predict function and the data is final.test and storing the results in fitted.probabilities"
   ]
  },
  {
   "cell_type": "code",
   "execution_count": 121,
   "metadata": {},
   "outputs": [],
   "source": [
    "fitted.results <- ifelse(fitted.probabilities > 0.5,1,0)"
   ]
  },
  {
   "cell_type": "markdown",
   "metadata": {},
   "source": [
    "# Using ifelse condition setting the center value 0.5 and storing the values 0 and 1 in fitted.results."
   ]
  },
  {
   "cell_type": "code",
   "execution_count": 125,
   "metadata": {},
   "outputs": [
    {
     "name": "stdout",
     "output_type": "stream",
     "text": [
      "[1] \"Accuracy 0.696517412935323\"\n"
     ]
    }
   ],
   "source": [
    "misClasificError <- mean(fitted.results != final.test$TARGET_5Yrs)\n",
    "print(paste('Accuracy',1-misClasificError))"
   ]
  },
  {
   "cell_type": "code",
   "execution_count": 135,
   "metadata": {},
   "outputs": [
    {
     "data": {
      "text/plain": [
       "   \n",
       "    FALSE TRUE\n",
       "  0    69   84\n",
       "  1    38  211"
      ]
     },
     "metadata": {},
     "output_type": "display_data"
    }
   ],
   "source": [
    "table(final.test$TARGET_5Yrs, fitted.probabilities > 0.5)"
   ]
  },
  {
   "cell_type": "markdown",
   "metadata": {},
   "source": [
    "# confusion matrix\n",
    "69 - predicted true negative\n",
    "211 - predicted true positive"
   ]
  },
  {
   "cell_type": "code",
   "execution_count": 147,
   "metadata": {},
   "outputs": [],
   "source": [
    "TP = 211\n",
    "TN = 69\n",
    "FP = 38\n",
    "FN = 84"
   ]
  },
  {
   "cell_type": "markdown",
   "metadata": {},
   "source": [
    "# Error Rate"
   ]
  },
  {
   "cell_type": "code",
   "execution_count": 150,
   "metadata": {},
   "outputs": [
    {
     "data": {
      "text/html": [
       "0.303482587064677"
      ],
      "text/latex": [
       "0.303482587064677"
      ],
      "text/markdown": [
       "0.303482587064677"
      ],
      "text/plain": [
       "[1] 0.3034826"
      ]
     },
     "metadata": {},
     "output_type": "display_data"
    }
   ],
   "source": [
    "error.rate = (FP+FN) / (TP+TN+FN+FP)\n",
    "error.rate"
   ]
  },
  {
   "cell_type": "markdown",
   "metadata": {},
   "source": [
    "# 0.3 is the error rate that the number of all incorrect predictions made by the model"
   ]
  },
  {
   "cell_type": "markdown",
   "metadata": {},
   "source": [
    "# Accuracy"
   ]
  },
  {
   "cell_type": "code",
   "execution_count": 152,
   "metadata": {},
   "outputs": [
    {
     "data": {
      "text/html": [
       "0.696517412935323"
      ],
      "text/latex": [
       "0.696517412935323"
      ],
      "text/markdown": [
       "0.696517412935323"
      ],
      "text/plain": [
       "[1] 0.6965174"
      ]
     },
     "metadata": {},
     "output_type": "display_data"
    }
   ],
   "source": [
    "accuracy = (TP + TN) / (TP+TN+FN+FP)\n",
    "accuracy"
   ]
  },
  {
   "cell_type": "markdown",
   "metadata": {},
   "source": [
    "# 69% Total accuracy that the model predicted correct values"
   ]
  },
  {
   "cell_type": "markdown",
   "metadata": {},
   "source": [
    "# sensitivity"
   ]
  },
  {
   "cell_type": "code",
   "execution_count": 154,
   "metadata": {},
   "outputs": [
    {
     "data": {
      "text/html": [
       "0.715254237288136"
      ],
      "text/latex": [
       "0.715254237288136"
      ],
      "text/markdown": [
       "0.715254237288136"
      ],
      "text/plain": [
       "[1] 0.7152542"
      ]
     },
     "metadata": {},
     "output_type": "display_data"
    }
   ],
   "source": [
    "SN = (TP) / (TP + FN)\n",
    "SN"
   ]
  },
  {
   "cell_type": "markdown",
   "metadata": {},
   "source": [
    "# 71% sensitivity is the number of correct positive predictions made by the model."
   ]
  },
  {
   "cell_type": "markdown",
   "metadata": {},
   "source": [
    "# Specificity"
   ]
  },
  {
   "cell_type": "code",
   "execution_count": 156,
   "metadata": {},
   "outputs": [
    {
     "data": {
      "text/html": [
       "0.644859813084112"
      ],
      "text/latex": [
       "0.644859813084112"
      ],
      "text/markdown": [
       "0.644859813084112"
      ],
      "text/plain": [
       "[1] 0.6448598"
      ]
     },
     "metadata": {},
     "output_type": "display_data"
    }
   ],
   "source": [
    "SP = (TN) / (TN + FP)\n",
    "SP\n"
   ]
  },
  {
   "cell_type": "markdown",
   "metadata": {},
   "source": [
    "# 64% is the percentage of true negative predictions made by the model."
   ]
  },
  {
   "cell_type": "markdown",
   "metadata": {},
   "source": [
    "# Precision"
   ]
  },
  {
   "cell_type": "code",
   "execution_count": 166,
   "metadata": {},
   "outputs": [
    {
     "data": {
      "text/html": [
       "0.847389558232932"
      ],
      "text/latex": [
       "0.847389558232932"
      ],
      "text/markdown": [
       "0.847389558232932"
      ],
      "text/plain": [
       "[1] 0.8473896"
      ]
     },
     "metadata": {},
     "output_type": "display_data"
    }
   ],
   "source": [
    "prec = (TP) / (TP + FP)\n",
    "prec"
   ]
  },
  {
   "cell_type": "markdown",
   "metadata": {},
   "source": [
    "# when the model predicts yes.We calculate how often is it correct.So the model is 84% correct."
   ]
  },
  {
   "cell_type": "markdown",
   "metadata": {},
   "source": [
    "# False Positive Rate"
   ]
  },
  {
   "cell_type": "code",
   "execution_count": 168,
   "metadata": {},
   "outputs": [
    {
     "data": {
      "text/html": [
       "0.355140186915888"
      ],
      "text/latex": [
       "0.355140186915888"
      ],
      "text/markdown": [
       "0.355140186915888"
      ],
      "text/plain": [
       "[1] 0.3551402"
      ]
     },
     "metadata": {},
     "output_type": "display_data"
    }
   ],
   "source": [
    "FPR = (FP) / (TN +  FP)\n",
    "FPR"
   ]
  },
  {
   "cell_type": "markdown",
   "metadata": {},
   "source": [
    "# false positive rate is when its actually no how often does it predict yes.so the model has  35% predicted yes."
   ]
  },
  {
   "cell_type": "code",
   "execution_count": 129,
   "metadata": {},
   "outputs": [
    {
     "name": "stderr",
     "output_type": "stream",
     "text": [
      "Type 'citation(\"pROC\")' for a citation.\n",
      "\n",
      "Attaching package: 'pROC'\n",
      "\n",
      "The following objects are masked from 'package:stats':\n",
      "\n",
      "    cov, smooth, var\n",
      "\n"
     ]
    }
   ],
   "source": [
    "library(pROC)"
   ]
  },
  {
   "cell_type": "code",
   "execution_count": 132,
   "metadata": {},
   "outputs": [
    {
     "data": {
      "image/png": "[encoded data removed]",
      "text/plain": [
       "plot without title"
      ]
     },
     "metadata": {},
     "output_type": "display_data"
    }
   ],
   "source": [
    "test_roc = roc(final.test$TARGET_5Yrs ~ fitted.probabilities, plot =TRUE, print.auc = TRUE)"
   ]
  },
  {
   "cell_type": "markdown",
   "metadata": {},
   "source": [
    "# When Area under curve (AUC) is 0.76, it means there is 76% chance that model will be able to distinguish between positive class that is 1 and negative class that is 0 accurately.\n"
   ]
  }
 ],
 "metadata": {
  "kernelspec": {
   "display_name": "R",
   "language": "R",
   "name": "ir"
  },
  "language_info": {
   "codemirror_mode": "r",
   "file_extension": ".r",
   "mimetype": "text/x-r-source",
   "name": "R",
   "pygments_lexer": "r",
   "version": "3.6.1"
  }
 },
 "nbformat": 4,
 "nbformat_minor": 2
}
