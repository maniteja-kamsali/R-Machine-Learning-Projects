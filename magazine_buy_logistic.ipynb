{
 "cells": [
  {
   "cell_type": "code",
   "execution_count": 3,
   "metadata": {},
   "outputs": [],
   "source": [
    "df = read.csv('C:/Users/MANI/Documents/R sem 2/logistic_regression/Kid.csv')"
   ]
  },
  {
   "cell_type": "markdown",
   "metadata": {},
   "source": [
    "# Problem_statement: If the customer will buy the magazine or not."
   ]
  },
  {
   "cell_type": "code",
   "execution_count": 5,
   "metadata": {},
   "outputs": [
    {
     "data": {
      "text/html": [
       "<table>\n",
       "<thead><tr><th scope=col>Obs.No.</th><th scope=col>Buy</th><th scope=col>Income</th><th scope=col>Is.Female</th><th scope=col>Is.Married</th><th scope=col>Has.College</th><th scope=col>Is.Professional</th><th scope=col>Is.Retired</th><th scope=col>Unemployed</th><th scope=col>Residence.Length</th><th scope=col>Dual.Income</th><th scope=col>Minors</th><th scope=col>Own</th><th scope=col>House</th><th scope=col>White</th><th scope=col>English</th><th scope=col>Prev.Child.Mag</th><th scope=col>Prev.Parent.Mag</th></tr></thead>\n",
       "<tbody>\n",
       "\t<tr><td>1    </td><td>0    </td><td>24000</td><td>1    </td><td>0    </td><td>1    </td><td>1    </td><td>0    </td><td>0    </td><td>26   </td><td>0    </td><td>0    </td><td>0    </td><td>1    </td><td>0    </td><td>0    </td><td>0    </td><td>0    </td></tr>\n",
       "\t<tr><td>2    </td><td>1    </td><td>75000</td><td>1    </td><td>1    </td><td>1    </td><td>1    </td><td>0    </td><td>0    </td><td>15   </td><td>1    </td><td>0    </td><td>1    </td><td>1    </td><td>1    </td><td>1    </td><td>1    </td><td>0    </td></tr>\n",
       "\t<tr><td>3    </td><td>0    </td><td>46000</td><td>1    </td><td>1    </td><td>0    </td><td>0    </td><td>0    </td><td>0    </td><td>36   </td><td>1    </td><td>1    </td><td>1    </td><td>1    </td><td>1    </td><td>1    </td><td>0    </td><td>0    </td></tr>\n",
       "\t<tr><td>4    </td><td>1    </td><td>70000</td><td>0    </td><td>1    </td><td>0    </td><td>1    </td><td>0    </td><td>0    </td><td>55   </td><td>0    </td><td>0    </td><td>1    </td><td>1    </td><td>1    </td><td>1    </td><td>1    </td><td>0    </td></tr>\n",
       "\t<tr><td>5    </td><td>0    </td><td>43000</td><td>1    </td><td>0    </td><td>0    </td><td>0    </td><td>0    </td><td>0    </td><td>27   </td><td>0    </td><td>0    </td><td>0    </td><td>0    </td><td>1    </td><td>1    </td><td>0    </td><td>1    </td></tr>\n",
       "\t<tr><td>6    </td><td>0    </td><td>24000</td><td>1    </td><td>1    </td><td>0    </td><td>0    </td><td>0    </td><td>0    </td><td>41   </td><td>0    </td><td>0    </td><td>1    </td><td>1    </td><td>0    </td><td>0    </td><td>0    </td><td>0    </td></tr>\n",
       "</tbody>\n",
       "</table>\n"
      ],
      "text/latex": [
       "\\begin{tabular}{r|llllllllllllllllll}\n",
       " Obs.No. & Buy & Income & Is.Female & Is.Married & Has.College & Is.Professional & Is.Retired & Unemployed & Residence.Length & Dual.Income & Minors & Own & House & White & English & Prev.Child.Mag & Prev.Parent.Mag\\\\\n",
       "\\hline\n",
       "\t 1     & 0     & 24000 & 1     & 0     & 1     & 1     & 0     & 0     & 26    & 0     & 0     & 0     & 1     & 0     & 0     & 0     & 0    \\\\\n",
       "\t 2     & 1     & 75000 & 1     & 1     & 1     & 1     & 0     & 0     & 15    & 1     & 0     & 1     & 1     & 1     & 1     & 1     & 0    \\\\\n",
       "\t 3     & 0     & 46000 & 1     & 1     & 0     & 0     & 0     & 0     & 36    & 1     & 1     & 1     & 1     & 1     & 1     & 0     & 0    \\\\\n",
       "\t 4     & 1     & 70000 & 0     & 1     & 0     & 1     & 0     & 0     & 55    & 0     & 0     & 1     & 1     & 1     & 1     & 1     & 0    \\\\\n",
       "\t 5     & 0     & 43000 & 1     & 0     & 0     & 0     & 0     & 0     & 27    & 0     & 0     & 0     & 0     & 1     & 1     & 0     & 1    \\\\\n",
       "\t 6     & 0     & 24000 & 1     & 1     & 0     & 0     & 0     & 0     & 41    & 0     & 0     & 1     & 1     & 0     & 0     & 0     & 0    \\\\\n",
       "\\end{tabular}\n"
      ],
      "text/markdown": [
       "\n",
       "| Obs.No. | Buy | Income | Is.Female | Is.Married | Has.College | Is.Professional | Is.Retired | Unemployed | Residence.Length | Dual.Income | Minors | Own | House | White | English | Prev.Child.Mag | Prev.Parent.Mag |\n",
       "|---|---|---|---|---|---|---|---|---|---|---|---|---|---|---|---|---|---|\n",
       "| 1     | 0     | 24000 | 1     | 0     | 1     | 1     | 0     | 0     | 26    | 0     | 0     | 0     | 1     | 0     | 0     | 0     | 0     |\n",
       "| 2     | 1     | 75000 | 1     | 1     | 1     | 1     | 0     | 0     | 15    | 1     | 0     | 1     | 1     | 1     | 1     | 1     | 0     |\n",
       "| 3     | 0     | 46000 | 1     | 1     | 0     | 0     | 0     | 0     | 36    | 1     | 1     | 1     | 1     | 1     | 1     | 0     | 0     |\n",
       "| 4     | 1     | 70000 | 0     | 1     | 0     | 1     | 0     | 0     | 55    | 0     | 0     | 1     | 1     | 1     | 1     | 1     | 0     |\n",
       "| 5     | 0     | 43000 | 1     | 0     | 0     | 0     | 0     | 0     | 27    | 0     | 0     | 0     | 0     | 1     | 1     | 0     | 1     |\n",
       "| 6     | 0     | 24000 | 1     | 1     | 0     | 0     | 0     | 0     | 41    | 0     | 0     | 1     | 1     | 0     | 0     | 0     | 0     |\n",
       "\n"
      ],
      "text/plain": [
       "  Obs.No. Buy Income Is.Female Is.Married Has.College Is.Professional\n",
       "1 1       0   24000  1         0          1           1              \n",
       "2 2       1   75000  1         1          1           1              \n",
       "3 3       0   46000  1         1          0           0              \n",
       "4 4       1   70000  0         1          0           1              \n",
       "5 5       0   43000  1         0          0           0              \n",
       "6 6       0   24000  1         1          0           0              \n",
       "  Is.Retired Unemployed Residence.Length Dual.Income Minors Own House White\n",
       "1 0          0          26               0           0      0   1     0    \n",
       "2 0          0          15               1           0      1   1     1    \n",
       "3 0          0          36               1           1      1   1     1    \n",
       "4 0          0          55               0           0      1   1     1    \n",
       "5 0          0          27               0           0      0   0     1    \n",
       "6 0          0          41               0           0      1   1     0    \n",
       "  English Prev.Child.Mag Prev.Parent.Mag\n",
       "1 0       0              0              \n",
       "2 1       1              0              \n",
       "3 1       0              0              \n",
       "4 1       1              0              \n",
       "5 1       0              1              \n",
       "6 0       0              0              "
      ]
     },
     "metadata": {},
     "output_type": "display_data"
    }
   ],
   "source": [
    "head(df)"
   ]
  },
  {
   "cell_type": "code",
   "execution_count": 27,
   "metadata": {},
   "outputs": [
    {
     "name": "stdout",
     "output_type": "stream",
     "text": [
      "'data.frame':\t673 obs. of  18 variables:\n",
      " $ Obs.No.         : int  1 2 3 4 5 6 7 8 9 10 ...\n",
      " $ Buy             : int  0 1 0 1 0 0 0 0 0 0 ...\n",
      " $ Income          : int  24000 75000 46000 70000 43000 24000 26000 38000 39000 49000 ...\n",
      " $ Is.Female       : int  1 1 1 0 1 1 1 1 1 0 ...\n",
      " $ Is.Married      : int  0 1 1 1 0 1 1 1 0 1 ...\n",
      " $ Has.College     : int  1 1 0 0 0 0 1 0 1 0 ...\n",
      " $ Is.Professional : int  1 1 0 1 0 0 0 0 1 0 ...\n",
      " $ Is.Retired      : int  0 0 0 0 0 0 1 1 0 1 ...\n",
      " $ Unemployed      : int  0 0 0 0 0 0 0 0 0 0 ...\n",
      " $ Residence.Length: int  26 15 36 55 27 41 20 8 17 31 ...\n",
      " $ Dual.Income     : int  0 1 1 0 0 0 0 0 0 0 ...\n",
      " $ Minors          : int  0 0 1 0 0 0 1 0 0 0 ...\n",
      " $ Own             : int  0 1 1 1 0 1 1 1 0 1 ...\n",
      " $ House           : int  1 1 1 1 0 1 1 1 0 1 ...\n",
      " $ White           : int  0 1 1 1 1 0 1 1 1 1 ...\n",
      " $ English         : int  0 1 1 1 1 0 1 1 1 1 ...\n",
      " $ Prev.Child.Mag  : int  0 1 0 1 0 0 0 0 0 0 ...\n",
      " $ Prev.Parent.Mag : int  0 0 0 0 1 0 0 0 0 0 ...\n"
     ]
    }
   ],
   "source": [
    "str(df)"
   ]
  },
  {
   "cell_type": "code",
   "execution_count": 34,
   "metadata": {},
   "outputs": [],
   "source": [
    "library(dplyr)\n",
    "df <- select(df, -Obs.No.)"
   ]
  },
  {
   "cell_type": "markdown",
   "metadata": {},
   "source": [
    "# Dropped the column Obs.no(Observation numbers) because it is not required to build the model."
   ]
  },
  {
   "cell_type": "markdown",
   "metadata": {},
   "source": [
    "# Looking for missing values using amelia library"
   ]
  },
  {
   "cell_type": "code",
   "execution_count": 13,
   "metadata": {},
   "outputs": [],
   "source": [
    "library(Amelia)"
   ]
  },
  {
   "cell_type": "code",
   "execution_count": 14,
   "metadata": {},
   "outputs": [
    {
     "data": {
      "image/png": "[encoded data removed]",
      "text/plain": [
       "Plot with title \"Magazine data\""
      ]
     },
     "metadata": {},
     "output_type": "display_data"
    }
   ],
   "source": [
    "missmap(df, main=\"Magazine data\", \n",
    "        col=c(\"yellow\", \"black\"), legend=FALSE)"
   ]
  },
  {
   "cell_type": "markdown",
   "metadata": {},
   "source": [
    "# As there are no missing values in the data. We can build the model."
   ]
  },
  {
   "cell_type": "code",
   "execution_count": 16,
   "metadata": {},
   "outputs": [],
   "source": [
    "library(ggplot2)"
   ]
  },
  {
   "cell_type": "code",
   "execution_count": 17,
   "metadata": {},
   "outputs": [
    {
     "data": {
      "image/png": "[encoded data removed]",
      "text/plain": [
       "plot without title"
      ]
     },
     "metadata": {},
     "output_type": "display_data"
    }
   ],
   "source": [
    "ggplot(df,aes(Buy)) + geom_bar()"
   ]
  },
  {
   "cell_type": "markdown",
   "metadata": {},
   "source": [
    "# Visualizing the target variable Buy"
   ]
  },
  {
   "cell_type": "code",
   "execution_count": 19,
   "metadata": {},
   "outputs": [
    {
     "data": {
      "image/png": "[encoded data removed]",
      "text/plain": [
       "plot without title"
      ]
     },
     "metadata": {},
     "output_type": "display_data"
    }
   ],
   "source": [
    "ggplot(df,aes(Is.Retired)) + geom_bar()"
   ]
  },
  {
   "cell_type": "markdown",
   "metadata": {},
   "source": [
    "# There are less retired guys in the town."
   ]
  },
  {
   "cell_type": "code",
   "execution_count": 22,
   "metadata": {},
   "outputs": [
    {
     "data": {
      "image/png": "[encoded data removed]",
      "text/plain": [
       "plot without title"
      ]
     },
     "metadata": {},
     "output_type": "display_data"
    }
   ],
   "source": [
    "ggplot(df,aes(Is.Married)) + geom_bar()"
   ]
  },
  {
   "cell_type": "markdown",
   "metadata": {},
   "source": [
    "# There are more number of unmarried guys in the town."
   ]
  },
  {
   "cell_type": "code",
   "execution_count": 41,
   "metadata": {},
   "outputs": [],
   "source": [
    "library(caTools)\n",
    "set.seed(101)\n",
    "\n",
    "split = sample.split(df$Buy, SplitRatio = 0.80)\n",
    "\n",
    "final.train = subset(df, split == TRUE)\n",
    "final.test = subset(df, split == FALSE)"
   ]
  },
  {
   "cell_type": "markdown",
   "metadata": {},
   "source": [
    "# Splitting the data into train and test using sample.split function by 0.8 ratio."
   ]
  },
  {
   "cell_type": "code",
   "execution_count": 45,
   "metadata": {},
   "outputs": [],
   "source": [
    "final.log.model <- glm(formula= Buy ~ . , family = binomial(link='logit'),data = final.train)"
   ]
  },
  {
   "cell_type": "code",
   "execution_count": 46,
   "metadata": {},
   "outputs": [
    {
     "data": {
      "text/plain": [
       "\n",
       "Call:\n",
       "glm(formula = Buy ~ ., family = binomial(link = \"logit\"), data = final.train)\n",
       "\n",
       "Deviance Residuals: \n",
       "     Min        1Q    Median        3Q       Max  \n",
       "-2.63022  -0.08797  -0.00809  -0.00136   2.17218  \n",
       "\n",
       "Coefficients:\n",
       "                   Estimate Std. Error z value Pr(>|z|)    \n",
       "(Intercept)      -1.813e+01  2.508e+00  -7.228 4.90e-13 ***\n",
       "Income            2.035e-04  2.679e-05   7.597 3.04e-14 ***\n",
       "Is.Female         1.183e+00  5.082e-01   2.328  0.01990 *  \n",
       "Is.Married        3.442e-01  6.640e-01   0.518  0.60415    \n",
       "Has.College       1.067e-01  4.859e-01   0.220  0.82622    \n",
       "Is.Professional   1.999e-01  5.281e-01   0.379  0.70504    \n",
       "Is.Retired       -2.101e+00  1.041e+00  -2.018  0.04354 *  \n",
       "Unemployed        9.858e-01  6.118e+00   0.161  0.87199    \n",
       "Residence.Length  4.064e-02  1.677e-02   2.424  0.01537 *  \n",
       "Dual.Income       7.717e-01  5.763e-01   1.339  0.18055    \n",
       "Minors            1.679e+00  5.583e-01   3.007  0.00264 ** \n",
       "Own               1.036e+00  6.609e-01   1.568  0.11696    \n",
       "House            -9.010e-01  6.960e-01  -1.295  0.19547    \n",
       "White             1.784e+00  5.844e-01   3.052  0.00227 ** \n",
       "English           1.376e+00  9.733e-01   1.413  0.15751    \n",
       "Prev.Child.Mag    2.141e+00  8.617e-01   2.485  0.01297 *  \n",
       "Prev.Parent.Mag   1.220e-01  7.015e-01   0.174  0.86193    \n",
       "---\n",
       "Signif. codes:  0 '***' 0.001 '**' 0.01 '*' 0.05 '.' 0.1 ' ' 1\n",
       "\n",
       "(Dispersion parameter for binomial family taken to be 1)\n",
       "\n",
       "    Null deviance: 516.68  on 537  degrees of freedom\n",
       "Residual deviance: 148.70  on 521  degrees of freedom\n",
       "AIC: 182.7\n",
       "\n",
       "Number of Fisher Scoring iterations: 9\n"
      ]
     },
     "metadata": {},
     "output_type": "display_data"
    }
   ],
   "source": [
    "summary(final.log.model)"
   ]
  },
  {
   "cell_type": "markdown",
   "metadata": {},
   "source": [
    "# Training the model using final.train data the target variable is Buy. The independent variables income,white,is retired has less p value from summary function."
   ]
  },
  {
   "cell_type": "code",
   "execution_count": 48,
   "metadata": {},
   "outputs": [],
   "source": [
    "fitted.probabilities <- predict(final.log.model,newdata=final.test,type='response')"
   ]
  },
  {
   "cell_type": "code",
   "execution_count": 50,
   "metadata": {},
   "outputs": [],
   "source": [
    "fitted.results <- ifelse(fitted.probabilities > 0.5,1,0)"
   ]
  },
  {
   "cell_type": "code",
   "execution_count": 54,
   "metadata": {},
   "outputs": [
    {
     "name": "stdout",
     "output_type": "stream",
     "text": [
      "[1] \"Accuracy 0.940740740740741\"\n"
     ]
    }
   ],
   "source": [
    "misClasificError <- mean(fitted.results != final.test$Buy)\n",
    "print(paste('Accuracy',1-misClasificError))"
   ]
  },
  {
   "cell_type": "markdown",
   "metadata": {},
   "source": [
    "# So the accuracy of a model has 94% that it can predict accurately."
   ]
  },
  {
   "cell_type": "code",
   "execution_count": 55,
   "metadata": {},
   "outputs": [
    {
     "data": {
      "text/plain": [
       "   \n",
       "    FALSE TRUE\n",
       "  0   104    6\n",
       "  1     2   23"
      ]
     },
     "metadata": {},
     "output_type": "display_data"
    }
   ],
   "source": [
    "table(final.test$Buy, fitted.probabilities > 0.5)"
   ]
  },
  {
   "cell_type": "markdown",
   "metadata": {},
   "source": [
    "# confusion matrix\n",
    "predicted true negative - 104,\n",
    "predicted true positive - 23"
   ]
  },
  {
   "cell_type": "code",
   "execution_count": 56,
   "metadata": {},
   "outputs": [],
   "source": [
    "TP = 23\n",
    "TN = 104\n",
    "FP = 6\n",
    "FN = 2"
   ]
  },
  {
   "cell_type": "markdown",
   "metadata": {},
   "source": [
    "# Error Rate"
   ]
  },
  {
   "cell_type": "code",
   "execution_count": 57,
   "metadata": {},
   "outputs": [
    {
     "data": {
      "text/html": [
       "0.0592592592592593"
      ],
      "text/latex": [
       "0.0592592592592593"
      ],
      "text/markdown": [
       "0.0592592592592593"
      ],
      "text/plain": [
       "[1] 0.05925926"
      ]
     },
     "metadata": {},
     "output_type": "display_data"
    }
   ],
   "source": [
    "error.rate = (FP+FN) / (TP+TN+FN+FP)\n",
    "error.rate"
   ]
  },
  {
   "cell_type": "markdown",
   "metadata": {},
   "source": [
    "# 0.05 is the error rate that the number of all incorrect predictions made by the model"
   ]
  },
  {
   "cell_type": "markdown",
   "metadata": {},
   "source": [
    "# Sensitivity"
   ]
  },
  {
   "cell_type": "code",
   "execution_count": 59,
   "metadata": {},
   "outputs": [
    {
     "data": {
      "text/html": [
       "0.92"
      ],
      "text/latex": [
       "0.92"
      ],
      "text/markdown": [
       "0.92"
      ],
      "text/plain": [
       "[1] 0.92"
      ]
     },
     "metadata": {},
     "output_type": "display_data"
    }
   ],
   "source": [
    "SN = (TP) / (TP + FN)\n",
    "SN"
   ]
  },
  {
   "cell_type": "markdown",
   "metadata": {},
   "source": [
    "# 92% sensitivity is the number of correct positive predictions made by the model"
   ]
  },
  {
   "cell_type": "markdown",
   "metadata": {},
   "source": [
    "# Specificity"
   ]
  },
  {
   "cell_type": "code",
   "execution_count": 60,
   "metadata": {},
   "outputs": [
    {
     "data": {
      "text/html": [
       "0.945454545454545"
      ],
      "text/latex": [
       "0.945454545454545"
      ],
      "text/markdown": [
       "0.945454545454545"
      ],
      "text/plain": [
       "[1] 0.9454545"
      ]
     },
     "metadata": {},
     "output_type": "display_data"
    }
   ],
   "source": [
    "SP = (TN) / (TN + FP)\n",
    "SP"
   ]
  },
  {
   "cell_type": "markdown",
   "metadata": {},
   "source": [
    "# 94% is the percentage of true negative predictions made by the model."
   ]
  },
  {
   "cell_type": "markdown",
   "metadata": {},
   "source": [
    "# Precision"
   ]
  },
  {
   "cell_type": "code",
   "execution_count": 61,
   "metadata": {},
   "outputs": [
    {
     "data": {
      "text/html": [
       "0.793103448275862"
      ],
      "text/latex": [
       "0.793103448275862"
      ],
      "text/markdown": [
       "0.793103448275862"
      ],
      "text/plain": [
       "[1] 0.7931034"
      ]
     },
     "metadata": {},
     "output_type": "display_data"
    }
   ],
   "source": [
    "prec = (TP) / (TP + FP)\n",
    "prec"
   ]
  },
  {
   "cell_type": "markdown",
   "metadata": {},
   "source": [
    "# when the model predicts yes.We calculate how often it is correct.So the model is 79% correct.¶"
   ]
  },
  {
   "cell_type": "markdown",
   "metadata": {},
   "source": [
    "# False Positive Rate"
   ]
  },
  {
   "cell_type": "code",
   "execution_count": 62,
   "metadata": {},
   "outputs": [
    {
     "data": {
      "text/html": [
       "0.0545454545454545"
      ],
      "text/latex": [
       "0.0545454545454545"
      ],
      "text/markdown": [
       "0.0545454545454545"
      ],
      "text/plain": [
       "[1] 0.05454545"
      ]
     },
     "metadata": {},
     "output_type": "display_data"
    }
   ],
   "source": [
    "FPR = (FP) / (TN +  FP)\n",
    "FPR"
   ]
  },
  {
   "cell_type": "markdown",
   "metadata": {},
   "source": [
    "# false positive rate is when its actually no how often does it predict yes.so the model has 5% predicted yes."
   ]
  },
  {
   "cell_type": "code",
   "execution_count": 64,
   "metadata": {},
   "outputs": [],
   "source": [
    "library(pROC)"
   ]
  },
  {
   "cell_type": "code",
   "execution_count": 65,
   "metadata": {},
   "outputs": [
    {
     "data": {
      "image/png": "[encoded data removed]",
      "text/plain": [
       "plot without title"
      ]
     },
     "metadata": {},
     "output_type": "display_data"
    }
   ],
   "source": [
    "test_roc = roc(final.test$Buy ~ fitted.probabilities, plot =TRUE, print.auc = TRUE)"
   ]
  },
  {
   "cell_type": "markdown",
   "metadata": {},
   "source": [
    "# Area Under Curve got 97.5% so the model can able to distinguish between positive class 1 and negative class 0."
   ]
  }
 ],
 "metadata": {
  "kernelspec": {
   "display_name": "R",
   "language": "R",
   "name": "ir"
  },
  "language_info": {
   "codemirror_mode": "r",
   "file_extension": ".r",
   "mimetype": "text/x-r-source",
   "name": "R",
   "pygments_lexer": "r",
   "version": "3.6.1"
  }
 },
 "nbformat": 4,
 "nbformat_minor": 2
}
