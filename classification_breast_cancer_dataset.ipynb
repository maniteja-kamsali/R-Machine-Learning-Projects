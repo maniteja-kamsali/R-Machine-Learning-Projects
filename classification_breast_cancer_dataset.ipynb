{
 "cells": [
  {
   "cell_type": "code",
   "execution_count": 6,
   "metadata": {},
   "outputs": [],
   "source": [
    "df = read.csv('C:/Users/MANI/Documents/R sem 2/decision tree/cancerdata.csv')"
   ]
  },
  {
   "cell_type": "code",
   "execution_count": 7,
   "metadata": {},
   "outputs": [
    {
     "data": {
      "text/html": [
       "<table>\n",
       "<thead><tr><th scope=col>id</th><th scope=col>diagnosis</th><th scope=col>radius_mean</th><th scope=col>texture_mean</th><th scope=col>perimeter_mean</th><th scope=col>area_mean</th><th scope=col>smoothness_mean</th><th scope=col>compactness_mean</th><th scope=col>concavity_mean</th><th scope=col>concave.points_mean</th><th scope=col>...</th><th scope=col>radius_worst</th><th scope=col>texture_worst</th><th scope=col>perimeter_worst</th><th scope=col>area_worst</th><th scope=col>smoothness_worst</th><th scope=col>compactness_worst</th><th scope=col>concavity_worst</th><th scope=col>concave.points_worst</th><th scope=col>symmetry_worst</th><th scope=col>fractal_dimension_worst</th></tr></thead>\n",
       "<tbody>\n",
       "\t<tr><td>  842302</td><td>M       </td><td>17.99   </td><td>10.38   </td><td>122.80  </td><td>1001.0  </td><td>0.11840 </td><td>0.27760 </td><td>0.3001  </td><td>0.14710 </td><td>...     </td><td>25.38   </td><td>17.33   </td><td>184.60  </td><td>2019.0  </td><td>0.1622  </td><td>0.6656  </td><td>0.7119  </td><td>0.2654  </td><td>0.4601  </td><td>0.11890 </td></tr>\n",
       "\t<tr><td>  842517</td><td>M       </td><td>20.57   </td><td>17.77   </td><td>132.90  </td><td>1326.0  </td><td>0.08474 </td><td>0.07864 </td><td>0.0869  </td><td>0.07017 </td><td>...     </td><td>24.99   </td><td>23.41   </td><td>158.80  </td><td>1956.0  </td><td>0.1238  </td><td>0.1866  </td><td>0.2416  </td><td>0.1860  </td><td>0.2750  </td><td>0.08902 </td></tr>\n",
       "\t<tr><td>84300903</td><td>M       </td><td>19.69   </td><td>21.25   </td><td>130.00  </td><td>1203.0  </td><td>0.10960 </td><td>0.15990 </td><td>0.1974  </td><td>0.12790 </td><td>...     </td><td>23.57   </td><td>25.53   </td><td>152.50  </td><td>1709.0  </td><td>0.1444  </td><td>0.4245  </td><td>0.4504  </td><td>0.2430  </td><td>0.3613  </td><td>0.08758 </td></tr>\n",
       "\t<tr><td>84348301</td><td>M       </td><td>11.42   </td><td>20.38   </td><td> 77.58  </td><td> 386.1  </td><td>0.14250 </td><td>0.28390 </td><td>0.2414  </td><td>0.10520 </td><td>...     </td><td>14.91   </td><td>26.50   </td><td> 98.87  </td><td> 567.7  </td><td>0.2098  </td><td>0.8663  </td><td>0.6869  </td><td>0.2575  </td><td>0.6638  </td><td>0.17300 </td></tr>\n",
       "\t<tr><td>84358402</td><td>M       </td><td>20.29   </td><td>14.34   </td><td>135.10  </td><td>1297.0  </td><td>0.10030 </td><td>0.13280 </td><td>0.1980  </td><td>0.10430 </td><td>...     </td><td>22.54   </td><td>16.67   </td><td>152.20  </td><td>1575.0  </td><td>0.1374  </td><td>0.2050  </td><td>0.4000  </td><td>0.1625  </td><td>0.2364  </td><td>0.07678 </td></tr>\n",
       "\t<tr><td>  843786</td><td>M       </td><td>12.45   </td><td>15.70   </td><td> 82.57  </td><td> 477.1  </td><td>0.12780 </td><td>0.17000 </td><td>0.1578  </td><td>0.08089 </td><td>...     </td><td>15.47   </td><td>23.75   </td><td>103.40  </td><td> 741.6  </td><td>0.1791  </td><td>0.5249  </td><td>0.5355  </td><td>0.1741  </td><td>0.3985  </td><td>0.12440 </td></tr>\n",
       "</tbody>\n",
       "</table>\n"
      ],
      "text/latex": [
       "\\begin{tabular}{r|llllllllllllllllllllllllllllllll}\n",
       " id & diagnosis & radius\\_mean & texture\\_mean & perimeter\\_mean & area\\_mean & smoothness\\_mean & compactness\\_mean & concavity\\_mean & concave.points\\_mean & ... & radius\\_worst & texture\\_worst & perimeter\\_worst & area\\_worst & smoothness\\_worst & compactness\\_worst & concavity\\_worst & concave.points\\_worst & symmetry\\_worst & fractal\\_dimension\\_worst\\\\\n",
       "\\hline\n",
       "\t   842302 & M        & 17.99    & 10.38    & 122.80   & 1001.0   & 0.11840  & 0.27760  & 0.3001   & 0.14710  & ...      & 25.38    & 17.33    & 184.60   & 2019.0   & 0.1622   & 0.6656   & 0.7119   & 0.2654   & 0.4601   & 0.11890 \\\\\n",
       "\t   842517 & M        & 20.57    & 17.77    & 132.90   & 1326.0   & 0.08474  & 0.07864  & 0.0869   & 0.07017  & ...      & 24.99    & 23.41    & 158.80   & 1956.0   & 0.1238   & 0.1866   & 0.2416   & 0.1860   & 0.2750   & 0.08902 \\\\\n",
       "\t 84300903 & M        & 19.69    & 21.25    & 130.00   & 1203.0   & 0.10960  & 0.15990  & 0.1974   & 0.12790  & ...      & 23.57    & 25.53    & 152.50   & 1709.0   & 0.1444   & 0.4245   & 0.4504   & 0.2430   & 0.3613   & 0.08758 \\\\\n",
       "\t 84348301 & M        & 11.42    & 20.38    &  77.58   &  386.1   & 0.14250  & 0.28390  & 0.2414   & 0.10520  & ...      & 14.91    & 26.50    &  98.87   &  567.7   & 0.2098   & 0.8663   & 0.6869   & 0.2575   & 0.6638   & 0.17300 \\\\\n",
       "\t 84358402 & M        & 20.29    & 14.34    & 135.10   & 1297.0   & 0.10030  & 0.13280  & 0.1980   & 0.10430  & ...      & 22.54    & 16.67    & 152.20   & 1575.0   & 0.1374   & 0.2050   & 0.4000   & 0.1625   & 0.2364   & 0.07678 \\\\\n",
       "\t   843786 & M        & 12.45    & 15.70    &  82.57   &  477.1   & 0.12780  & 0.17000  & 0.1578   & 0.08089  & ...      & 15.47    & 23.75    & 103.40   &  741.6   & 0.1791   & 0.5249   & 0.5355   & 0.1741   & 0.3985   & 0.12440 \\\\\n",
       "\\end{tabular}\n"
      ],
      "text/markdown": [
       "\n",
       "| id | diagnosis | radius_mean | texture_mean | perimeter_mean | area_mean | smoothness_mean | compactness_mean | concavity_mean | concave.points_mean | ... | radius_worst | texture_worst | perimeter_worst | area_worst | smoothness_worst | compactness_worst | concavity_worst | concave.points_worst | symmetry_worst | fractal_dimension_worst |\n",
       "|---|---|---|---|---|---|---|---|---|---|---|---|---|---|---|---|---|---|---|---|---|\n",
       "|   842302 | M        | 17.99    | 10.38    | 122.80   | 1001.0   | 0.11840  | 0.27760  | 0.3001   | 0.14710  | ...      | 25.38    | 17.33    | 184.60   | 2019.0   | 0.1622   | 0.6656   | 0.7119   | 0.2654   | 0.4601   | 0.11890  |\n",
       "|   842517 | M        | 20.57    | 17.77    | 132.90   | 1326.0   | 0.08474  | 0.07864  | 0.0869   | 0.07017  | ...      | 24.99    | 23.41    | 158.80   | 1956.0   | 0.1238   | 0.1866   | 0.2416   | 0.1860   | 0.2750   | 0.08902  |\n",
       "| 84300903 | M        | 19.69    | 21.25    | 130.00   | 1203.0   | 0.10960  | 0.15990  | 0.1974   | 0.12790  | ...      | 23.57    | 25.53    | 152.50   | 1709.0   | 0.1444   | 0.4245   | 0.4504   | 0.2430   | 0.3613   | 0.08758  |\n",
       "| 84348301 | M        | 11.42    | 20.38    |  77.58   |  386.1   | 0.14250  | 0.28390  | 0.2414   | 0.10520  | ...      | 14.91    | 26.50    |  98.87   |  567.7   | 0.2098   | 0.8663   | 0.6869   | 0.2575   | 0.6638   | 0.17300  |\n",
       "| 84358402 | M        | 20.29    | 14.34    | 135.10   | 1297.0   | 0.10030  | 0.13280  | 0.1980   | 0.10430  | ...      | 22.54    | 16.67    | 152.20   | 1575.0   | 0.1374   | 0.2050   | 0.4000   | 0.1625   | 0.2364   | 0.07678  |\n",
       "|   843786 | M        | 12.45    | 15.70    |  82.57   |  477.1   | 0.12780  | 0.17000  | 0.1578   | 0.08089  | ...      | 15.47    | 23.75    | 103.40   |  741.6   | 0.1791   | 0.5249   | 0.5355   | 0.1741   | 0.3985   | 0.12440  |\n",
       "\n"
      ],
      "text/plain": [
       "  id       diagnosis radius_mean texture_mean perimeter_mean area_mean\n",
       "1   842302 M         17.99       10.38        122.80         1001.0   \n",
       "2   842517 M         20.57       17.77        132.90         1326.0   \n",
       "3 84300903 M         19.69       21.25        130.00         1203.0   \n",
       "4 84348301 M         11.42       20.38         77.58          386.1   \n",
       "5 84358402 M         20.29       14.34        135.10         1297.0   \n",
       "6   843786 M         12.45       15.70         82.57          477.1   \n",
       "  smoothness_mean compactness_mean concavity_mean concave.points_mean ...\n",
       "1 0.11840         0.27760          0.3001         0.14710             ...\n",
       "2 0.08474         0.07864          0.0869         0.07017             ...\n",
       "3 0.10960         0.15990          0.1974         0.12790             ...\n",
       "4 0.14250         0.28390          0.2414         0.10520             ...\n",
       "5 0.10030         0.13280          0.1980         0.10430             ...\n",
       "6 0.12780         0.17000          0.1578         0.08089             ...\n",
       "  radius_worst texture_worst perimeter_worst area_worst smoothness_worst\n",
       "1 25.38        17.33         184.60          2019.0     0.1622          \n",
       "2 24.99        23.41         158.80          1956.0     0.1238          \n",
       "3 23.57        25.53         152.50          1709.0     0.1444          \n",
       "4 14.91        26.50          98.87           567.7     0.2098          \n",
       "5 22.54        16.67         152.20          1575.0     0.1374          \n",
       "6 15.47        23.75         103.40           741.6     0.1791          \n",
       "  compactness_worst concavity_worst concave.points_worst symmetry_worst\n",
       "1 0.6656            0.7119          0.2654               0.4601        \n",
       "2 0.1866            0.2416          0.1860               0.2750        \n",
       "3 0.4245            0.4504          0.2430               0.3613        \n",
       "4 0.8663            0.6869          0.2575               0.6638        \n",
       "5 0.2050            0.4000          0.1625               0.2364        \n",
       "6 0.5249            0.5355          0.1741               0.3985        \n",
       "  fractal_dimension_worst\n",
       "1 0.11890                \n",
       "2 0.08902                \n",
       "3 0.08758                \n",
       "4 0.17300                \n",
       "5 0.07678                \n",
       "6 0.12440                "
      ]
     },
     "metadata": {},
     "output_type": "display_data"
    }
   ],
   "source": [
    "head(df)"
   ]
  },
  {
   "cell_type": "markdown",
   "metadata": {},
   "source": [
    "# problem statement: to classify the data that is benign or malignant."
   ]
  },
  {
   "cell_type": "code",
   "execution_count": 163,
   "metadata": {},
   "outputs": [
    {
     "name": "stdout",
     "output_type": "stream",
     "text": [
      "'data.frame':\t569 obs. of  32 variables:\n",
      " $ id                     : int  842302 842517 84300903 84348301 84358402 843786 844359 84458202 844981 84501001 ...\n",
      " $ diagnosis              : Factor w/ 2 levels \"B\",\"M\": 2 2 2 2 2 2 2 2 2 2 ...\n",
      " $ radius_mean            : num  18 20.6 19.7 11.4 20.3 ...\n",
      " $ texture_mean           : num  10.4 17.8 21.2 20.4 14.3 ...\n",
      " $ perimeter_mean         : num  122.8 132.9 130 77.6 135.1 ...\n",
      " $ area_mean              : num  1001 1326 1203 386 1297 ...\n",
      " $ smoothness_mean        : num  0.1184 0.0847 0.1096 0.1425 0.1003 ...\n",
      " $ compactness_mean       : num  0.2776 0.0786 0.1599 0.2839 0.1328 ...\n",
      " $ concavity_mean         : num  0.3001 0.0869 0.1974 0.2414 0.198 ...\n",
      " $ concave.points_mean    : num  0.1471 0.0702 0.1279 0.1052 0.1043 ...\n",
      " $ symmetry_mean          : num  0.242 0.181 0.207 0.26 0.181 ...\n",
      " $ fractal_dimension_mean : num  0.0787 0.0567 0.06 0.0974 0.0588 ...\n",
      " $ radius_se              : num  1.095 0.543 0.746 0.496 0.757 ...\n",
      " $ texture_se             : num  0.905 0.734 0.787 1.156 0.781 ...\n",
      " $ perimeter_se           : num  8.59 3.4 4.58 3.44 5.44 ...\n",
      " $ area_se                : num  153.4 74.1 94 27.2 94.4 ...\n",
      " $ smoothness_se          : num  0.0064 0.00522 0.00615 0.00911 0.01149 ...\n",
      " $ compactness_se         : num  0.049 0.0131 0.0401 0.0746 0.0246 ...\n",
      " $ concavity_se           : num  0.0537 0.0186 0.0383 0.0566 0.0569 ...\n",
      " $ concave.points_se      : num  0.0159 0.0134 0.0206 0.0187 0.0188 ...\n",
      " $ symmetry_se            : num  0.03 0.0139 0.0225 0.0596 0.0176 ...\n",
      " $ fractal_dimension_se   : num  0.00619 0.00353 0.00457 0.00921 0.00511 ...\n",
      " $ radius_worst           : num  25.4 25 23.6 14.9 22.5 ...\n",
      " $ texture_worst          : num  17.3 23.4 25.5 26.5 16.7 ...\n",
      " $ perimeter_worst        : num  184.6 158.8 152.5 98.9 152.2 ...\n",
      " $ area_worst             : num  2019 1956 1709 568 1575 ...\n",
      " $ smoothness_worst       : num  0.162 0.124 0.144 0.21 0.137 ...\n",
      " $ compactness_worst      : num  0.666 0.187 0.424 0.866 0.205 ...\n",
      " $ concavity_worst        : num  0.712 0.242 0.45 0.687 0.4 ...\n",
      " $ concave.points_worst   : num  0.265 0.186 0.243 0.258 0.163 ...\n",
      " $ symmetry_worst         : num  0.46 0.275 0.361 0.664 0.236 ...\n",
      " $ fractal_dimension_worst: num  0.1189 0.089 0.0876 0.173 0.0768 ...\n"
     ]
    }
   ],
   "source": [
    "str(df)"
   ]
  },
  {
   "cell_type": "code",
   "execution_count": 164,
   "metadata": {},
   "outputs": [
    {
     "data": {
      "text/plain": [
       "       id            diagnosis  radius_mean      texture_mean  \n",
       " Min.   :     8670   B:357     Min.   : 6.981   Min.   : 9.71  \n",
       " 1st Qu.:   869218   M:212     1st Qu.:11.700   1st Qu.:16.17  \n",
       " Median :   906024             Median :13.370   Median :18.84  \n",
       " Mean   : 30371831             Mean   :14.127   Mean   :19.29  \n",
       " 3rd Qu.:  8813129             3rd Qu.:15.780   3rd Qu.:21.80  \n",
       " Max.   :911320502             Max.   :28.110   Max.   :39.28  \n",
       " perimeter_mean     area_mean      smoothness_mean   compactness_mean \n",
       " Min.   : 43.79   Min.   : 143.5   Min.   :0.05263   Min.   :0.01938  \n",
       " 1st Qu.: 75.17   1st Qu.: 420.3   1st Qu.:0.08637   1st Qu.:0.06492  \n",
       " Median : 86.24   Median : 551.1   Median :0.09587   Median :0.09263  \n",
       " Mean   : 91.97   Mean   : 654.9   Mean   :0.09636   Mean   :0.10434  \n",
       " 3rd Qu.:104.10   3rd Qu.: 782.7   3rd Qu.:0.10530   3rd Qu.:0.13040  \n",
       " Max.   :188.50   Max.   :2501.0   Max.   :0.16340   Max.   :0.34540  \n",
       " concavity_mean    concave.points_mean symmetry_mean    fractal_dimension_mean\n",
       " Min.   :0.00000   Min.   :0.00000     Min.   :0.1060   Min.   :0.04996       \n",
       " 1st Qu.:0.02956   1st Qu.:0.02031     1st Qu.:0.1619   1st Qu.:0.05770       \n",
       " Median :0.06154   Median :0.03350     Median :0.1792   Median :0.06154       \n",
       " Mean   :0.08880   Mean   :0.04892     Mean   :0.1812   Mean   :0.06280       \n",
       " 3rd Qu.:0.13070   3rd Qu.:0.07400     3rd Qu.:0.1957   3rd Qu.:0.06612       \n",
       " Max.   :0.42680   Max.   :0.20120     Max.   :0.3040   Max.   :0.09744       \n",
       "   radius_se        texture_se      perimeter_se       area_se       \n",
       " Min.   :0.1115   Min.   :0.3602   Min.   : 0.757   Min.   :  6.802  \n",
       " 1st Qu.:0.2324   1st Qu.:0.8339   1st Qu.: 1.606   1st Qu.: 17.850  \n",
       " Median :0.3242   Median :1.1080   Median : 2.287   Median : 24.530  \n",
       " Mean   :0.4052   Mean   :1.2169   Mean   : 2.866   Mean   : 40.337  \n",
       " 3rd Qu.:0.4789   3rd Qu.:1.4740   3rd Qu.: 3.357   3rd Qu.: 45.190  \n",
       " Max.   :2.8730   Max.   :4.8850   Max.   :21.980   Max.   :542.200  \n",
       " smoothness_se      compactness_se      concavity_se     concave.points_se \n",
       " Min.   :0.001713   Min.   :0.002252   Min.   :0.00000   Min.   :0.000000  \n",
       " 1st Qu.:0.005169   1st Qu.:0.013080   1st Qu.:0.01509   1st Qu.:0.007638  \n",
       " Median :0.006380   Median :0.020450   Median :0.02589   Median :0.010930  \n",
       " Mean   :0.007041   Mean   :0.025478   Mean   :0.03189   Mean   :0.011796  \n",
       " 3rd Qu.:0.008146   3rd Qu.:0.032450   3rd Qu.:0.04205   3rd Qu.:0.014710  \n",
       " Max.   :0.031130   Max.   :0.135400   Max.   :0.39600   Max.   :0.052790  \n",
       "  symmetry_se       fractal_dimension_se  radius_worst   texture_worst  \n",
       " Min.   :0.007882   Min.   :0.0008948    Min.   : 7.93   Min.   :12.02  \n",
       " 1st Qu.:0.015160   1st Qu.:0.0022480    1st Qu.:13.01   1st Qu.:21.08  \n",
       " Median :0.018730   Median :0.0031870    Median :14.97   Median :25.41  \n",
       " Mean   :0.020542   Mean   :0.0037949    Mean   :16.27   Mean   :25.68  \n",
       " 3rd Qu.:0.023480   3rd Qu.:0.0045580    3rd Qu.:18.79   3rd Qu.:29.72  \n",
       " Max.   :0.078950   Max.   :0.0298400    Max.   :36.04   Max.   :49.54  \n",
       " perimeter_worst    area_worst     smoothness_worst  compactness_worst\n",
       " Min.   : 50.41   Min.   : 185.2   Min.   :0.07117   Min.   :0.02729  \n",
       " 1st Qu.: 84.11   1st Qu.: 515.3   1st Qu.:0.11660   1st Qu.:0.14720  \n",
       " Median : 97.66   Median : 686.5   Median :0.13130   Median :0.21190  \n",
       " Mean   :107.26   Mean   : 880.6   Mean   :0.13237   Mean   :0.25427  \n",
       " 3rd Qu.:125.40   3rd Qu.:1084.0   3rd Qu.:0.14600   3rd Qu.:0.33910  \n",
       " Max.   :251.20   Max.   :4254.0   Max.   :0.22260   Max.   :1.05800  \n",
       " concavity_worst  concave.points_worst symmetry_worst   fractal_dimension_worst\n",
       " Min.   :0.0000   Min.   :0.00000      Min.   :0.1565   Min.   :0.05504        \n",
       " 1st Qu.:0.1145   1st Qu.:0.06493      1st Qu.:0.2504   1st Qu.:0.07146        \n",
       " Median :0.2267   Median :0.09993      Median :0.2822   Median :0.08004        \n",
       " Mean   :0.2722   Mean   :0.11461      Mean   :0.2901   Mean   :0.08395        \n",
       " 3rd Qu.:0.3829   3rd Qu.:0.16140      3rd Qu.:0.3179   3rd Qu.:0.09208        \n",
       " Max.   :1.2520   Max.   :0.29100      Max.   :0.6638   Max.   :0.20750        "
      ]
     },
     "metadata": {},
     "output_type": "display_data"
    }
   ],
   "source": [
    "summary(df)"
   ]
  },
  {
   "cell_type": "code",
   "execution_count": 165,
   "metadata": {},
   "outputs": [
    {
     "data": {
      "text/html": [
       "FALSE"
      ],
      "text/latex": [
       "FALSE"
      ],
      "text/markdown": [
       "FALSE"
      ],
      "text/plain": [
       "[1] FALSE"
      ]
     },
     "metadata": {},
     "output_type": "display_data"
    }
   ],
   "source": [
    "any(is.na(df))"
   ]
  },
  {
   "cell_type": "code",
   "execution_count": 166,
   "metadata": {},
   "outputs": [
    {
     "data": {
      "image/png": "[encoded data removed]",
      "text/plain": [
       "plot without title"
      ]
     },
     "metadata": {},
     "output_type": "display_data"
    }
   ],
   "source": [
    "library(ggplot2)\n",
    "ggplot(df,aes(diagnosis)) + geom_bar() "
   ]
  },
  {
   "cell_type": "markdown",
   "metadata": {},
   "source": [
    "# There are more Benign cases in the graph than malignant cases in the data."
   ]
  },
  {
   "cell_type": "code",
   "execution_count": 256,
   "metadata": {},
   "outputs": [],
   "source": [
    "num.cols = sapply(df,is.numeric)"
   ]
  },
  {
   "cell_type": "markdown",
   "metadata": {},
   "source": [
    "filtering numeric columns for correlation"
   ]
  },
  {
   "cell_type": "code",
   "execution_count": 255,
   "metadata": {},
   "outputs": [
    {
     "data": {
      "text/html": [
       "<table>\n",
       "<thead><tr><th></th><th scope=col>radius_mean</th><th scope=col>texture_mean</th><th scope=col>perimeter_mean</th><th scope=col>area_mean</th><th scope=col>smoothness_mean</th><th scope=col>compactness_mean</th><th scope=col>concavity_mean</th><th scope=col>concave.points_mean</th><th scope=col>symmetry_mean</th><th scope=col>fractal_dimension_mean</th><th scope=col>...</th><th scope=col>radius_worst</th><th scope=col>texture_worst</th><th scope=col>perimeter_worst</th><th scope=col>area_worst</th><th scope=col>smoothness_worst</th><th scope=col>compactness_worst</th><th scope=col>concavity_worst</th><th scope=col>concave.points_worst</th><th scope=col>symmetry_worst</th><th scope=col>fractal_dimension_worst</th></tr></thead>\n",
       "<tbody>\n",
       "\t<tr><th scope=row>radius_mean</th><td> 1.000000000 </td><td> 0.323781891 </td><td> 0.997855281 </td><td> 0.987357170 </td><td> 0.17058119  </td><td>0.50612358   </td><td>0.67676355   </td><td>0.82252852   </td><td>0.14774124   </td><td>-0.3116308263</td><td>...          </td><td> 0.96953897  </td><td> 0.297007644 </td><td> 0.965136514 </td><td> 0.94108246  </td><td> 0.11961614  </td><td> 0.41346282  </td><td> 0.52691146  </td><td> 0.7442142   </td><td> 0.16395333  </td><td> 0.007065886 </td></tr>\n",
       "\t<tr><th scope=row>texture_mean</th><td> 0.323781891 </td><td> 1.000000000 </td><td> 0.329533059 </td><td> 0.321085696 </td><td>-0.02338852  </td><td>0.23670222   </td><td>0.30241783   </td><td>0.29346405   </td><td>0.07140098   </td><td>-0.0764371834</td><td>...          </td><td> 0.35257295  </td><td> 0.912044589 </td><td> 0.358039575 </td><td> 0.34354595  </td><td> 0.07750336  </td><td> 0.27782959  </td><td> 0.30102522  </td><td> 0.2953158   </td><td> 0.10500791  </td><td> 0.119205351 </td></tr>\n",
       "\t<tr><th scope=row>perimeter_mean</th><td> 0.997855281 </td><td> 0.329533059 </td><td> 1.000000000 </td><td> 0.986506804 </td><td> 0.20727816  </td><td>0.55693621   </td><td>0.71613565   </td><td>0.85097704   </td><td>0.18302721   </td><td>-0.2614769081</td><td>...          </td><td> 0.96947636  </td><td> 0.303038372 </td><td> 0.970386887 </td><td> 0.94154981  </td><td> 0.15054940  </td><td> 0.45577423  </td><td> 0.56387926  </td><td> 0.7712408   </td><td> 0.18911504  </td><td> 0.051018530 </td></tr>\n",
       "\t<tr><th scope=row>area_mean</th><td> 0.987357170 </td><td> 0.321085696 </td><td> 0.986506804 </td><td> 1.000000000 </td><td> 0.17702838  </td><td>0.49850168   </td><td>0.68598283   </td><td>0.82326887   </td><td>0.15129308   </td><td>-0.2831098117</td><td>...          </td><td> 0.96274609  </td><td> 0.287488627 </td><td> 0.959119574 </td><td> 0.95921333  </td><td> 0.12352294  </td><td> 0.39041031  </td><td> 0.51260592  </td><td> 0.7220166   </td><td> 0.14356991  </td><td> 0.003737597 </td></tr>\n",
       "\t<tr><th scope=row>smoothness_mean</th><td> 0.170581187 </td><td>-0.023388516 </td><td> 0.207278164 </td><td> 0.177028377 </td><td> 1.00000000  </td><td>0.65912322   </td><td>0.52198377   </td><td>0.55369517   </td><td>0.55777479   </td><td> 0.5847920019</td><td>...          </td><td> 0.21312014  </td><td> 0.036071799 </td><td> 0.238852626 </td><td> 0.20671836  </td><td> 0.80532420  </td><td> 0.47246844  </td><td> 0.43492571  </td><td> 0.5030534   </td><td> 0.39430948  </td><td> 0.499316369 </td></tr>\n",
       "\t<tr><th scope=row>compactness_mean</th><td> 0.506123578 </td><td> 0.236702222 </td><td> 0.556936211 </td><td> 0.498501682 </td><td> 0.65912322  </td><td>1.00000000   </td><td>0.88312067   </td><td>0.83113504   </td><td>0.60264105   </td><td> 0.5653686634</td><td>...          </td><td> 0.53531540  </td><td> 0.248132833 </td><td> 0.590210428 </td><td> 0.50960381  </td><td> 0.56554117  </td><td> 0.86580904  </td><td> 0.81627525  </td><td> 0.8155732   </td><td> 0.51022343  </td><td> 0.687382323 </td></tr>\n",
       "\t<tr><th scope=row>concavity_mean</th><td> 0.676763550 </td><td> 0.302417828 </td><td> 0.716135650 </td><td> 0.685982829 </td><td> 0.52198377  </td><td>0.88312067   </td><td>1.00000000   </td><td>0.92139103   </td><td>0.50066662   </td><td> 0.3367833594</td><td>...          </td><td> 0.68823641  </td><td> 0.299878889 </td><td> 0.729564917 </td><td> 0.67598723  </td><td> 0.44882204  </td><td> 0.75496802  </td><td> 0.88410264  </td><td> 0.8613230   </td><td> 0.40946413  </td><td> 0.514929891 </td></tr>\n",
       "\t<tr><th scope=row>concave.points_mean</th><td> 0.822528522 </td><td> 0.293464051 </td><td> 0.850977041 </td><td> 0.823268869 </td><td> 0.55369517  </td><td>0.83113504   </td><td>0.92139103   </td><td>1.00000000   </td><td>0.46249739   </td><td> 0.1669173832</td><td>...          </td><td> 0.83031763  </td><td> 0.292751713 </td><td> 0.855923128 </td><td> 0.80962962  </td><td> 0.45275305  </td><td> 0.66745368  </td><td> 0.75239950  </td><td> 0.9101553   </td><td> 0.37574415  </td><td> 0.368661134 </td></tr>\n",
       "\t<tr><th scope=row>symmetry_mean</th><td> 0.147741242 </td><td> 0.071400980 </td><td> 0.183027212 </td><td> 0.151293079 </td><td> 0.55777479  </td><td>0.60264105   </td><td>0.50066662   </td><td>0.46249739   </td><td>1.00000000   </td><td> 0.4799213301</td><td>...          </td><td> 0.18572775  </td><td> 0.090650688 </td><td> 0.219168559 </td><td> 0.17719338  </td><td> 0.42667503  </td><td> 0.47320001  </td><td> 0.43372101  </td><td> 0.4302966   </td><td> 0.69982580  </td><td> 0.438413498 </td></tr>\n",
       "\t<tr><th scope=row>fractal_dimension_mean</th><td>-0.311630826 </td><td>-0.076437183 </td><td>-0.261476908 </td><td>-0.283109812 </td><td> 0.58479200  </td><td>0.56536866   </td><td>0.33678336   </td><td>0.16691738   </td><td>0.47992133   </td><td> 1.0000000000</td><td>...          </td><td>-0.25369149  </td><td>-0.051269202 </td><td>-0.205151211 </td><td>-0.23185445  </td><td> 0.50494208  </td><td> 0.45879816  </td><td> 0.34623388  </td><td> 0.1753254   </td><td> 0.33401868  </td><td> 0.767296779 </td></tr>\n",
       "\t<tr><th scope=row>radius_se</th><td> 0.679090388 </td><td> 0.275868676 </td><td> 0.691765014 </td><td> 0.732562227 </td><td> 0.30146710  </td><td>0.49747345   </td><td>0.63192482   </td><td>0.69804983   </td><td>0.30337926   </td><td> 0.0001109951</td><td>...          </td><td> 0.71506520  </td><td> 0.194798557 </td><td> 0.719683804 </td><td> 0.75154848  </td><td> 0.14191855  </td><td> 0.28710317  </td><td> 0.38058463  </td><td> 0.5310623   </td><td> 0.09454283  </td><td> 0.049559432 </td></tr>\n",
       "\t<tr><th scope=row>texture_se</th><td>-0.097317443 </td><td> 0.386357623 </td><td>-0.086761078 </td><td>-0.066280214 </td><td> 0.06840645  </td><td>0.04620483   </td><td>0.07621835   </td><td>0.02147958   </td><td>0.12805293   </td><td> 0.1641739659</td><td>...          </td><td>-0.11169031  </td><td> 0.409002766 </td><td>-0.102241922 </td><td>-0.08319499  </td><td>-0.07365766  </td><td>-0.09243935  </td><td>-0.06895622  </td><td>-0.1196375   </td><td>-0.12821476  </td><td>-0.045654569 </td></tr>\n",
       "\t<tr><th scope=row>perimeter_se</th><td> 0.674171616 </td><td> 0.281673115 </td><td> 0.693134890 </td><td> 0.726628328 </td><td> 0.29609193  </td><td>0.54890526   </td><td>0.66039079   </td><td>0.71064987   </td><td>0.31389276   </td><td> 0.0398299316</td><td>...          </td><td> 0.69720059  </td><td> 0.200370854 </td><td> 0.721031310 </td><td> 0.73071297  </td><td> 0.13005439  </td><td> 0.34191945  </td><td> 0.41889882  </td><td> 0.5548972   </td><td> 0.10993043  </td><td> 0.085432572 </td></tr>\n",
       "\t<tr><th scope=row>area_se</th><td> 0.735863663 </td><td> 0.259844987 </td><td> 0.744982694 </td><td> 0.800085921 </td><td> 0.24655243  </td><td>0.45565285   </td><td>0.61742681   </td><td>0.69029854   </td><td>0.22397022   </td><td>-0.0901702475</td><td>...          </td><td> 0.75737319  </td><td> 0.196496649 </td><td> 0.761212636 </td><td> 0.81140796  </td><td> 0.12538943  </td><td> 0.28325654  </td><td> 0.38510014  </td><td> 0.5381663   </td><td> 0.07412629  </td><td> 0.017539295 </td></tr>\n",
       "\t<tr><th scope=row>smoothness_se</th><td>-0.222600125 </td><td> 0.006613777 </td><td>-0.202694026 </td><td>-0.166776667 </td><td> 0.33237544  </td><td>0.13529927   </td><td>0.09856375   </td><td>0.02765331   </td><td>0.18732117   </td><td> 0.4019644254</td><td>...          </td><td>-0.23069071  </td><td>-0.074742965 </td><td>-0.217303755 </td><td>-0.18219548  </td><td> 0.31445746  </td><td>-0.05555814  </td><td>-0.05829839  </td><td>-0.1020068   </td><td>-0.10734210  </td><td> 0.101480315 </td></tr>\n",
       "\t<tr><th scope=row>compactness_se</th><td> 0.205999980 </td><td> 0.191974611 </td><td> 0.250743681 </td><td> 0.212582551 </td><td> 0.31894330  </td><td>0.73872179   </td><td>0.67027882   </td><td>0.49042425   </td><td>0.42165915   </td><td> 0.5598366906</td><td>...          </td><td> 0.20460717  </td><td> 0.143002583 </td><td> 0.260515840 </td><td> 0.19937133  </td><td> 0.22739423  </td><td> 0.67878035  </td><td> 0.63914670  </td><td> 0.4832083   </td><td> 0.27787843  </td><td> 0.590972763 </td></tr>\n",
       "\t<tr><th scope=row>concavity_se</th><td> 0.194203623 </td><td> 0.143293077 </td><td> 0.228082345 </td><td> 0.207660060 </td><td> 0.24839568  </td><td>0.57051687   </td><td>0.69127021   </td><td>0.43916707   </td><td>0.34262702   </td><td> 0.4466303217</td><td>...          </td><td> 0.18690352  </td><td> 0.100240984 </td><td> 0.226680426 </td><td> 0.18835265  </td><td> 0.16848132  </td><td> 0.48485780  </td><td> 0.66256413  </td><td> 0.4404723   </td><td> 0.19778782  </td><td> 0.439329269 </td></tr>\n",
       "\t<tr><th scope=row>concave.points_se</th><td> 0.376168956 </td><td> 0.163851025 </td><td> 0.407216916 </td><td> 0.372320282 </td><td> 0.38067569  </td><td>0.64226185   </td><td>0.68325992   </td><td>0.61563413   </td><td>0.39329787   </td><td> 0.3411980444</td><td>...          </td><td> 0.35812667  </td><td> 0.086741210 </td><td> 0.394999252 </td><td> 0.34227116  </td><td> 0.21535060  </td><td> 0.45288838  </td><td> 0.54959238  </td><td> 0.6024496   </td><td> 0.14311567  </td><td> 0.310654551 </td></tr>\n",
       "\t<tr><th scope=row>symmetry_se</th><td>-0.104320881 </td><td> 0.009127168 </td><td>-0.081629327 </td><td>-0.072496588 </td><td> 0.20077438  </td><td>0.22997659   </td><td>0.17800921   </td><td>0.09535079   </td><td>0.44913654   </td><td> 0.3450073971</td><td>...          </td><td>-0.12812077  </td><td>-0.077473420 </td><td>-0.103753044 </td><td>-0.11034274  </td><td>-0.01266180  </td><td> 0.06025488  </td><td> 0.03711905  </td><td>-0.0304134   </td><td> 0.38940248  </td><td> 0.078079476 </td></tr>\n",
       "\t<tr><th scope=row>fractal_dimension_se</th><td>-0.042641269 </td><td> 0.054457520 </td><td>-0.005523391 </td><td>-0.019886963 </td><td> 0.28360670  </td><td>0.50731813   </td><td>0.44930075   </td><td>0.25758375   </td><td>0.33178615   </td><td> 0.6881315775</td><td>...          </td><td>-0.03748762  </td><td>-0.003195029 </td><td>-0.001000398 </td><td>-0.02273615  </td><td> 0.17056832  </td><td> 0.39015884  </td><td> 0.37997466  </td><td> 0.2152040   </td><td> 0.11109396  </td><td> 0.591328066 </td></tr>\n",
       "\t<tr><th scope=row>radius_worst</th><td> 0.969538973 </td><td> 0.352572947 </td><td> 0.969476363 </td><td> 0.962746086 </td><td> 0.21312014  </td><td>0.53531540   </td><td>0.68823641   </td><td>0.83031763   </td><td>0.18572775   </td><td>-0.2536914949</td><td>...          </td><td> 1.00000000  </td><td> 0.359920754 </td><td> 0.993707916 </td><td> 0.98401456  </td><td> 0.21657443  </td><td> 0.47582004  </td><td> 0.57397471  </td><td> 0.7874239   </td><td> 0.24352920  </td><td> 0.093491979 </td></tr>\n",
       "\t<tr><th scope=row>texture_worst</th><td> 0.297007644 </td><td> 0.912044589 </td><td> 0.303038372 </td><td> 0.287488627 </td><td> 0.03607180  </td><td>0.24813283   </td><td>0.29987889   </td><td>0.29275171   </td><td>0.09065069   </td><td>-0.0512692020</td><td>...          </td><td> 0.35992075  </td><td> 1.000000000 </td><td> 0.365098245 </td><td> 0.34584228  </td><td> 0.22542941  </td><td> 0.36083234  </td><td> 0.36836561  </td><td> 0.3597546   </td><td> 0.23302746  </td><td> 0.219122425 </td></tr>\n",
       "\t<tr><th scope=row>perimeter_worst</th><td> 0.965136514 </td><td> 0.358039575 </td><td> 0.970386887 </td><td> 0.959119574 </td><td> 0.23885263  </td><td>0.59021043   </td><td>0.72956492   </td><td>0.85592313   </td><td>0.21916856   </td><td>-0.2051512113</td><td>...          </td><td> 0.99370792  </td><td> 0.365098245 </td><td> 1.000000000 </td><td> 0.97757809  </td><td> 0.23677460  </td><td> 0.52940769  </td><td> 0.61834408  </td><td> 0.8163221   </td><td> 0.26949277  </td><td> 0.138956862 </td></tr>\n",
       "\t<tr><th scope=row>area_worst</th><td> 0.941082460 </td><td> 0.343545947 </td><td> 0.941549808 </td><td> 0.959213326 </td><td> 0.20671836  </td><td>0.50960381   </td><td>0.67598723   </td><td>0.80962962   </td><td>0.17719338   </td><td>-0.2318544512</td><td>...          </td><td> 0.98401456  </td><td> 0.345842283 </td><td> 0.977578091 </td><td> 1.00000000  </td><td> 0.20914533  </td><td> 0.43829628  </td><td> 0.54333053  </td><td> 0.7474188   </td><td> 0.20914551  </td><td> 0.079647034 </td></tr>\n",
       "\t<tr><th scope=row>smoothness_worst</th><td> 0.119616140 </td><td> 0.077503359 </td><td> 0.150549404 </td><td> 0.123522939 </td><td> 0.80532420  </td><td>0.56554117   </td><td>0.44882204   </td><td>0.45275305   </td><td>0.42667503   </td><td> 0.5049420754</td><td>...          </td><td> 0.21657443  </td><td> 0.225429415 </td><td> 0.236774604 </td><td> 0.20914533  </td><td> 1.00000000  </td><td> 0.56818652  </td><td> 0.51852329  </td><td> 0.5476909   </td><td> 0.49383833  </td><td> 0.617624192 </td></tr>\n",
       "\t<tr><th scope=row>compactness_worst</th><td> 0.413462823 </td><td> 0.277829592 </td><td> 0.455774228 </td><td> 0.390410309 </td><td> 0.47246844  </td><td>0.86580904   </td><td>0.75496802   </td><td>0.66745368   </td><td>0.47320001   </td><td> 0.4587981567</td><td>...          </td><td> 0.47582004  </td><td> 0.360832339 </td><td> 0.529407690 </td><td> 0.43829628  </td><td> 0.56818652  </td><td> 1.00000000  </td><td> 0.89226090  </td><td> 0.8010804   </td><td> 0.61444050  </td><td> 0.810454856 </td></tr>\n",
       "\t<tr><th scope=row>concavity_worst</th><td> 0.526911462 </td><td> 0.301025224 </td><td> 0.563879263 </td><td> 0.512605920 </td><td> 0.43492571  </td><td>0.81627525   </td><td>0.88410264   </td><td>0.75239950   </td><td>0.43372101   </td><td> 0.3462338763</td><td>...          </td><td> 0.57397471  </td><td> 0.368365607 </td><td> 0.618344080 </td><td> 0.54333053  </td><td> 0.51852329  </td><td> 0.89226090  </td><td> 1.00000000  </td><td> 0.8554339   </td><td> 0.53251973  </td><td> 0.686510921 </td></tr>\n",
       "\t<tr><th scope=row>concave.points_worst</th><td> 0.744214198 </td><td> 0.295315843 </td><td> 0.771240789 </td><td> 0.722016626 </td><td> 0.50305335  </td><td>0.81557322   </td><td>0.86132303   </td><td>0.91015531   </td><td>0.43029661   </td><td> 0.1753254492</td><td>...          </td><td> 0.78742385  </td><td> 0.359754610 </td><td> 0.816322102 </td><td> 0.74741880  </td><td> 0.54769090  </td><td> 0.80108036  </td><td> 0.85543386  </td><td> 1.0000000   </td><td> 0.50252849  </td><td> 0.511114146 </td></tr>\n",
       "\t<tr><th scope=row>symmetry_worst</th><td> 0.163953335 </td><td> 0.105007910 </td><td> 0.189115040 </td><td> 0.143569914 </td><td> 0.39430948  </td><td>0.51022343   </td><td>0.40946413   </td><td>0.37574415   </td><td>0.69982580   </td><td> 0.3340186839</td><td>...          </td><td> 0.24352920  </td><td> 0.233027461 </td><td> 0.269492769 </td><td> 0.20914551  </td><td> 0.49383833  </td><td> 0.61444050  </td><td> 0.53251973  </td><td> 0.5025285   </td><td> 1.00000000  </td><td> 0.537848206 </td></tr>\n",
       "\t<tr><th scope=row>fractal_dimension_worst</th><td> 0.007065886 </td><td> 0.119205351 </td><td> 0.051018530 </td><td> 0.003737597 </td><td> 0.49931637  </td><td>0.68738232   </td><td>0.51492989   </td><td>0.36866113   </td><td>0.43841350   </td><td> 0.7672967792</td><td>...          </td><td> 0.09349198  </td><td> 0.219122425 </td><td> 0.138956862 </td><td> 0.07964703  </td><td> 0.61762419  </td><td> 0.81045486  </td><td> 0.68651092  </td><td> 0.5111141   </td><td> 0.53784821  </td><td> 1.000000000 </td></tr>\n",
       "</tbody>\n",
       "</table>\n"
      ],
      "text/latex": [
       "\\begin{tabular}{r|llllllllllllllllllllllllllllll}\n",
       "  & radius\\_mean & texture\\_mean & perimeter\\_mean & area\\_mean & smoothness\\_mean & compactness\\_mean & concavity\\_mean & concave.points\\_mean & symmetry\\_mean & fractal\\_dimension\\_mean & ... & radius\\_worst & texture\\_worst & perimeter\\_worst & area\\_worst & smoothness\\_worst & compactness\\_worst & concavity\\_worst & concave.points\\_worst & symmetry\\_worst & fractal\\_dimension\\_worst\\\\\n",
       "\\hline\n",
       "\tradius\\_mean &  1.000000000  &  0.323781891  &  0.997855281  &  0.987357170  &  0.17058119   & 0.50612358    & 0.67676355    & 0.82252852    & 0.14774124    & -0.3116308263 & ...           &  0.96953897   &  0.297007644  &  0.965136514  &  0.94108246   &  0.11961614   &  0.41346282   &  0.52691146   &  0.7442142    &  0.16395333   &  0.007065886 \\\\\n",
       "\ttexture\\_mean &  0.323781891  &  1.000000000  &  0.329533059  &  0.321085696  & -0.02338852   & 0.23670222    & 0.30241783    & 0.29346405    & 0.07140098    & -0.0764371834 & ...           &  0.35257295   &  0.912044589  &  0.358039575  &  0.34354595   &  0.07750336   &  0.27782959   &  0.30102522   &  0.2953158    &  0.10500791   &  0.119205351 \\\\\n",
       "\tperimeter\\_mean &  0.997855281  &  0.329533059  &  1.000000000  &  0.986506804  &  0.20727816   & 0.55693621    & 0.71613565    & 0.85097704    & 0.18302721    & -0.2614769081 & ...           &  0.96947636   &  0.303038372  &  0.970386887  &  0.94154981   &  0.15054940   &  0.45577423   &  0.56387926   &  0.7712408    &  0.18911504   &  0.051018530 \\\\\n",
       "\tarea\\_mean &  0.987357170  &  0.321085696  &  0.986506804  &  1.000000000  &  0.17702838   & 0.49850168    & 0.68598283    & 0.82326887    & 0.15129308    & -0.2831098117 & ...           &  0.96274609   &  0.287488627  &  0.959119574  &  0.95921333   &  0.12352294   &  0.39041031   &  0.51260592   &  0.7220166    &  0.14356991   &  0.003737597 \\\\\n",
       "\tsmoothness\\_mean &  0.170581187  & -0.023388516  &  0.207278164  &  0.177028377  &  1.00000000   & 0.65912322    & 0.52198377    & 0.55369517    & 0.55777479    &  0.5847920019 & ...           &  0.21312014   &  0.036071799  &  0.238852626  &  0.20671836   &  0.80532420   &  0.47246844   &  0.43492571   &  0.5030534    &  0.39430948   &  0.499316369 \\\\\n",
       "\tcompactness\\_mean &  0.506123578  &  0.236702222  &  0.556936211  &  0.498501682  &  0.65912322   & 1.00000000    & 0.88312067    & 0.83113504    & 0.60264105    &  0.5653686634 & ...           &  0.53531540   &  0.248132833  &  0.590210428  &  0.50960381   &  0.56554117   &  0.86580904   &  0.81627525   &  0.8155732    &  0.51022343   &  0.687382323 \\\\\n",
       "\tconcavity\\_mean &  0.676763550  &  0.302417828  &  0.716135650  &  0.685982829  &  0.52198377   & 0.88312067    & 1.00000000    & 0.92139103    & 0.50066662    &  0.3367833594 & ...           &  0.68823641   &  0.299878889  &  0.729564917  &  0.67598723   &  0.44882204   &  0.75496802   &  0.88410264   &  0.8613230    &  0.40946413   &  0.514929891 \\\\\n",
       "\tconcave.points\\_mean &  0.822528522  &  0.293464051  &  0.850977041  &  0.823268869  &  0.55369517   & 0.83113504    & 0.92139103    & 1.00000000    & 0.46249739    &  0.1669173832 & ...           &  0.83031763   &  0.292751713  &  0.855923128  &  0.80962962   &  0.45275305   &  0.66745368   &  0.75239950   &  0.9101553    &  0.37574415   &  0.368661134 \\\\\n",
       "\tsymmetry\\_mean &  0.147741242  &  0.071400980  &  0.183027212  &  0.151293079  &  0.55777479   & 0.60264105    & 0.50066662    & 0.46249739    & 1.00000000    &  0.4799213301 & ...           &  0.18572775   &  0.090650688  &  0.219168559  &  0.17719338   &  0.42667503   &  0.47320001   &  0.43372101   &  0.4302966    &  0.69982580   &  0.438413498 \\\\\n",
       "\tfractal\\_dimension\\_mean & -0.311630826  & -0.076437183  & -0.261476908  & -0.283109812  &  0.58479200   & 0.56536866    & 0.33678336    & 0.16691738    & 0.47992133    &  1.0000000000 & ...           & -0.25369149   & -0.051269202  & -0.205151211  & -0.23185445   &  0.50494208   &  0.45879816   &  0.34623388   &  0.1753254    &  0.33401868   &  0.767296779 \\\\\n",
       "\tradius\\_se &  0.679090388  &  0.275868676  &  0.691765014  &  0.732562227  &  0.30146710   & 0.49747345    & 0.63192482    & 0.69804983    & 0.30337926    &  0.0001109951 & ...           &  0.71506520   &  0.194798557  &  0.719683804  &  0.75154848   &  0.14191855   &  0.28710317   &  0.38058463   &  0.5310623    &  0.09454283   &  0.049559432 \\\\\n",
       "\ttexture\\_se & -0.097317443  &  0.386357623  & -0.086761078  & -0.066280214  &  0.06840645   & 0.04620483    & 0.07621835    & 0.02147958    & 0.12805293    &  0.1641739659 & ...           & -0.11169031   &  0.409002766  & -0.102241922  & -0.08319499   & -0.07365766   & -0.09243935   & -0.06895622   & -0.1196375    & -0.12821476   & -0.045654569 \\\\\n",
       "\tperimeter\\_se &  0.674171616  &  0.281673115  &  0.693134890  &  0.726628328  &  0.29609193   & 0.54890526    & 0.66039079    & 0.71064987    & 0.31389276    &  0.0398299316 & ...           &  0.69720059   &  0.200370854  &  0.721031310  &  0.73071297   &  0.13005439   &  0.34191945   &  0.41889882   &  0.5548972    &  0.10993043   &  0.085432572 \\\\\n",
       "\tarea\\_se &  0.735863663  &  0.259844987  &  0.744982694  &  0.800085921  &  0.24655243   & 0.45565285    & 0.61742681    & 0.69029854    & 0.22397022    & -0.0901702475 & ...           &  0.75737319   &  0.196496649  &  0.761212636  &  0.81140796   &  0.12538943   &  0.28325654   &  0.38510014   &  0.5381663    &  0.07412629   &  0.017539295 \\\\\n",
       "\tsmoothness\\_se & -0.222600125  &  0.006613777  & -0.202694026  & -0.166776667  &  0.33237544   & 0.13529927    & 0.09856375    & 0.02765331    & 0.18732117    &  0.4019644254 & ...           & -0.23069071   & -0.074742965  & -0.217303755  & -0.18219548   &  0.31445746   & -0.05555814   & -0.05829839   & -0.1020068    & -0.10734210   &  0.101480315 \\\\\n",
       "\tcompactness\\_se &  0.205999980  &  0.191974611  &  0.250743681  &  0.212582551  &  0.31894330   & 0.73872179    & 0.67027882    & 0.49042425    & 0.42165915    &  0.5598366906 & ...           &  0.20460717   &  0.143002583  &  0.260515840  &  0.19937133   &  0.22739423   &  0.67878035   &  0.63914670   &  0.4832083    &  0.27787843   &  0.590972763 \\\\\n",
       "\tconcavity\\_se &  0.194203623  &  0.143293077  &  0.228082345  &  0.207660060  &  0.24839568   & 0.57051687    & 0.69127021    & 0.43916707    & 0.34262702    &  0.4466303217 & ...           &  0.18690352   &  0.100240984  &  0.226680426  &  0.18835265   &  0.16848132   &  0.48485780   &  0.66256413   &  0.4404723    &  0.19778782   &  0.439329269 \\\\\n",
       "\tconcave.points\\_se &  0.376168956  &  0.163851025  &  0.407216916  &  0.372320282  &  0.38067569   & 0.64226185    & 0.68325992    & 0.61563413    & 0.39329787    &  0.3411980444 & ...           &  0.35812667   &  0.086741210  &  0.394999252  &  0.34227116   &  0.21535060   &  0.45288838   &  0.54959238   &  0.6024496    &  0.14311567   &  0.310654551 \\\\\n",
       "\tsymmetry\\_se & -0.104320881  &  0.009127168  & -0.081629327  & -0.072496588  &  0.20077438   & 0.22997659    & 0.17800921    & 0.09535079    & 0.44913654    &  0.3450073971 & ...           & -0.12812077   & -0.077473420  & -0.103753044  & -0.11034274   & -0.01266180   &  0.06025488   &  0.03711905   & -0.0304134    &  0.38940248   &  0.078079476 \\\\\n",
       "\tfractal\\_dimension\\_se & -0.042641269  &  0.054457520  & -0.005523391  & -0.019886963  &  0.28360670   & 0.50731813    & 0.44930075    & 0.25758375    & 0.33178615    &  0.6881315775 & ...           & -0.03748762   & -0.003195029  & -0.001000398  & -0.02273615   &  0.17056832   &  0.39015884   &  0.37997466   &  0.2152040    &  0.11109396   &  0.591328066 \\\\\n",
       "\tradius\\_worst &  0.969538973  &  0.352572947  &  0.969476363  &  0.962746086  &  0.21312014   & 0.53531540    & 0.68823641    & 0.83031763    & 0.18572775    & -0.2536914949 & ...           &  1.00000000   &  0.359920754  &  0.993707916  &  0.98401456   &  0.21657443   &  0.47582004   &  0.57397471   &  0.7874239    &  0.24352920   &  0.093491979 \\\\\n",
       "\ttexture\\_worst &  0.297007644  &  0.912044589  &  0.303038372  &  0.287488627  &  0.03607180   & 0.24813283    & 0.29987889    & 0.29275171    & 0.09065069    & -0.0512692020 & ...           &  0.35992075   &  1.000000000  &  0.365098245  &  0.34584228   &  0.22542941   &  0.36083234   &  0.36836561   &  0.3597546    &  0.23302746   &  0.219122425 \\\\\n",
       "\tperimeter\\_worst &  0.965136514  &  0.358039575  &  0.970386887  &  0.959119574  &  0.23885263   & 0.59021043    & 0.72956492    & 0.85592313    & 0.21916856    & -0.2051512113 & ...           &  0.99370792   &  0.365098245  &  1.000000000  &  0.97757809   &  0.23677460   &  0.52940769   &  0.61834408   &  0.8163221    &  0.26949277   &  0.138956862 \\\\\n",
       "\tarea\\_worst &  0.941082460  &  0.343545947  &  0.941549808  &  0.959213326  &  0.20671836   & 0.50960381    & 0.67598723    & 0.80962962    & 0.17719338    & -0.2318544512 & ...           &  0.98401456   &  0.345842283  &  0.977578091  &  1.00000000   &  0.20914533   &  0.43829628   &  0.54333053   &  0.7474188    &  0.20914551   &  0.079647034 \\\\\n",
       "\tsmoothness\\_worst &  0.119616140  &  0.077503359  &  0.150549404  &  0.123522939  &  0.80532420   & 0.56554117    & 0.44882204    & 0.45275305    & 0.42667503    &  0.5049420754 & ...           &  0.21657443   &  0.225429415  &  0.236774604  &  0.20914533   &  1.00000000   &  0.56818652   &  0.51852329   &  0.5476909    &  0.49383833   &  0.617624192 \\\\\n",
       "\tcompactness\\_worst &  0.413462823  &  0.277829592  &  0.455774228  &  0.390410309  &  0.47246844   & 0.86580904    & 0.75496802    & 0.66745368    & 0.47320001    &  0.4587981567 & ...           &  0.47582004   &  0.360832339  &  0.529407690  &  0.43829628   &  0.56818652   &  1.00000000   &  0.89226090   &  0.8010804    &  0.61444050   &  0.810454856 \\\\\n",
       "\tconcavity\\_worst &  0.526911462  &  0.301025224  &  0.563879263  &  0.512605920  &  0.43492571   & 0.81627525    & 0.88410264    & 0.75239950    & 0.43372101    &  0.3462338763 & ...           &  0.57397471   &  0.368365607  &  0.618344080  &  0.54333053   &  0.51852329   &  0.89226090   &  1.00000000   &  0.8554339    &  0.53251973   &  0.686510921 \\\\\n",
       "\tconcave.points\\_worst &  0.744214198  &  0.295315843  &  0.771240789  &  0.722016626  &  0.50305335   & 0.81557322    & 0.86132303    & 0.91015531    & 0.43029661    &  0.1753254492 & ...           &  0.78742385   &  0.359754610  &  0.816322102  &  0.74741880   &  0.54769090   &  0.80108036   &  0.85543386   &  1.0000000    &  0.50252849   &  0.511114146 \\\\\n",
       "\tsymmetry\\_worst &  0.163953335  &  0.105007910  &  0.189115040  &  0.143569914  &  0.39430948   & 0.51022343    & 0.40946413    & 0.37574415    & 0.69982580    &  0.3340186839 & ...           &  0.24352920   &  0.233027461  &  0.269492769  &  0.20914551   &  0.49383833   &  0.61444050   &  0.53251973   &  0.5025285    &  1.00000000   &  0.537848206 \\\\\n",
       "\tfractal\\_dimension\\_worst &  0.007065886  &  0.119205351  &  0.051018530  &  0.003737597  &  0.49931637   & 0.68738232    & 0.51492989    & 0.36866113    & 0.43841350    &  0.7672967792 & ...           &  0.09349198   &  0.219122425  &  0.138956862  &  0.07964703   &  0.61762419   &  0.81045486   &  0.68651092   &  0.5111141    &  0.53784821   &  1.000000000 \\\\\n",
       "\\end{tabular}\n"
      ],
      "text/markdown": [
       "\n",
       "| <!--/--> | radius_mean | texture_mean | perimeter_mean | area_mean | smoothness_mean | compactness_mean | concavity_mean | concave.points_mean | symmetry_mean | fractal_dimension_mean | ... | radius_worst | texture_worst | perimeter_worst | area_worst | smoothness_worst | compactness_worst | concavity_worst | concave.points_worst | symmetry_worst | fractal_dimension_worst |\n",
       "|---|---|---|---|---|---|---|---|---|---|---|---|---|---|---|---|---|---|---|---|---|---|\n",
       "| radius_mean |  1.000000000  |  0.323781891  |  0.997855281  |  0.987357170  |  0.17058119   | 0.50612358    | 0.67676355    | 0.82252852    | 0.14774124    | -0.3116308263 | ...           |  0.96953897   |  0.297007644  |  0.965136514  |  0.94108246   |  0.11961614   |  0.41346282   |  0.52691146   |  0.7442142    |  0.16395333   |  0.007065886  |\n",
       "| texture_mean |  0.323781891  |  1.000000000  |  0.329533059  |  0.321085696  | -0.02338852   | 0.23670222    | 0.30241783    | 0.29346405    | 0.07140098    | -0.0764371834 | ...           |  0.35257295   |  0.912044589  |  0.358039575  |  0.34354595   |  0.07750336   |  0.27782959   |  0.30102522   |  0.2953158    |  0.10500791   |  0.119205351  |\n",
       "| perimeter_mean |  0.997855281  |  0.329533059  |  1.000000000  |  0.986506804  |  0.20727816   | 0.55693621    | 0.71613565    | 0.85097704    | 0.18302721    | -0.2614769081 | ...           |  0.96947636   |  0.303038372  |  0.970386887  |  0.94154981   |  0.15054940   |  0.45577423   |  0.56387926   |  0.7712408    |  0.18911504   |  0.051018530  |\n",
       "| area_mean |  0.987357170  |  0.321085696  |  0.986506804  |  1.000000000  |  0.17702838   | 0.49850168    | 0.68598283    | 0.82326887    | 0.15129308    | -0.2831098117 | ...           |  0.96274609   |  0.287488627  |  0.959119574  |  0.95921333   |  0.12352294   |  0.39041031   |  0.51260592   |  0.7220166    |  0.14356991   |  0.003737597  |\n",
       "| smoothness_mean |  0.170581187  | -0.023388516  |  0.207278164  |  0.177028377  |  1.00000000   | 0.65912322    | 0.52198377    | 0.55369517    | 0.55777479    |  0.5847920019 | ...           |  0.21312014   |  0.036071799  |  0.238852626  |  0.20671836   |  0.80532420   |  0.47246844   |  0.43492571   |  0.5030534    |  0.39430948   |  0.499316369  |\n",
       "| compactness_mean |  0.506123578  |  0.236702222  |  0.556936211  |  0.498501682  |  0.65912322   | 1.00000000    | 0.88312067    | 0.83113504    | 0.60264105    |  0.5653686634 | ...           |  0.53531540   |  0.248132833  |  0.590210428  |  0.50960381   |  0.56554117   |  0.86580904   |  0.81627525   |  0.8155732    |  0.51022343   |  0.687382323  |\n",
       "| concavity_mean |  0.676763550  |  0.302417828  |  0.716135650  |  0.685982829  |  0.52198377   | 0.88312067    | 1.00000000    | 0.92139103    | 0.50066662    |  0.3367833594 | ...           |  0.68823641   |  0.299878889  |  0.729564917  |  0.67598723   |  0.44882204   |  0.75496802   |  0.88410264   |  0.8613230    |  0.40946413   |  0.514929891  |\n",
       "| concave.points_mean |  0.822528522  |  0.293464051  |  0.850977041  |  0.823268869  |  0.55369517   | 0.83113504    | 0.92139103    | 1.00000000    | 0.46249739    |  0.1669173832 | ...           |  0.83031763   |  0.292751713  |  0.855923128  |  0.80962962   |  0.45275305   |  0.66745368   |  0.75239950   |  0.9101553    |  0.37574415   |  0.368661134  |\n",
       "| symmetry_mean |  0.147741242  |  0.071400980  |  0.183027212  |  0.151293079  |  0.55777479   | 0.60264105    | 0.50066662    | 0.46249739    | 1.00000000    |  0.4799213301 | ...           |  0.18572775   |  0.090650688  |  0.219168559  |  0.17719338   |  0.42667503   |  0.47320001   |  0.43372101   |  0.4302966    |  0.69982580   |  0.438413498  |\n",
       "| fractal_dimension_mean | -0.311630826  | -0.076437183  | -0.261476908  | -0.283109812  |  0.58479200   | 0.56536866    | 0.33678336    | 0.16691738    | 0.47992133    |  1.0000000000 | ...           | -0.25369149   | -0.051269202  | -0.205151211  | -0.23185445   |  0.50494208   |  0.45879816   |  0.34623388   |  0.1753254    |  0.33401868   |  0.767296779  |\n",
       "| radius_se |  0.679090388  |  0.275868676  |  0.691765014  |  0.732562227  |  0.30146710   | 0.49747345    | 0.63192482    | 0.69804983    | 0.30337926    |  0.0001109951 | ...           |  0.71506520   |  0.194798557  |  0.719683804  |  0.75154848   |  0.14191855   |  0.28710317   |  0.38058463   |  0.5310623    |  0.09454283   |  0.049559432  |\n",
       "| texture_se | -0.097317443  |  0.386357623  | -0.086761078  | -0.066280214  |  0.06840645   | 0.04620483    | 0.07621835    | 0.02147958    | 0.12805293    |  0.1641739659 | ...           | -0.11169031   |  0.409002766  | -0.102241922  | -0.08319499   | -0.07365766   | -0.09243935   | -0.06895622   | -0.1196375    | -0.12821476   | -0.045654569  |\n",
       "| perimeter_se |  0.674171616  |  0.281673115  |  0.693134890  |  0.726628328  |  0.29609193   | 0.54890526    | 0.66039079    | 0.71064987    | 0.31389276    |  0.0398299316 | ...           |  0.69720059   |  0.200370854  |  0.721031310  |  0.73071297   |  0.13005439   |  0.34191945   |  0.41889882   |  0.5548972    |  0.10993043   |  0.085432572  |\n",
       "| area_se |  0.735863663  |  0.259844987  |  0.744982694  |  0.800085921  |  0.24655243   | 0.45565285    | 0.61742681    | 0.69029854    | 0.22397022    | -0.0901702475 | ...           |  0.75737319   |  0.196496649  |  0.761212636  |  0.81140796   |  0.12538943   |  0.28325654   |  0.38510014   |  0.5381663    |  0.07412629   |  0.017539295  |\n",
       "| smoothness_se | -0.222600125  |  0.006613777  | -0.202694026  | -0.166776667  |  0.33237544   | 0.13529927    | 0.09856375    | 0.02765331    | 0.18732117    |  0.4019644254 | ...           | -0.23069071   | -0.074742965  | -0.217303755  | -0.18219548   |  0.31445746   | -0.05555814   | -0.05829839   | -0.1020068    | -0.10734210   |  0.101480315  |\n",
       "| compactness_se |  0.205999980  |  0.191974611  |  0.250743681  |  0.212582551  |  0.31894330   | 0.73872179    | 0.67027882    | 0.49042425    | 0.42165915    |  0.5598366906 | ...           |  0.20460717   |  0.143002583  |  0.260515840  |  0.19937133   |  0.22739423   |  0.67878035   |  0.63914670   |  0.4832083    |  0.27787843   |  0.590972763  |\n",
       "| concavity_se |  0.194203623  |  0.143293077  |  0.228082345  |  0.207660060  |  0.24839568   | 0.57051687    | 0.69127021    | 0.43916707    | 0.34262702    |  0.4466303217 | ...           |  0.18690352   |  0.100240984  |  0.226680426  |  0.18835265   |  0.16848132   |  0.48485780   |  0.66256413   |  0.4404723    |  0.19778782   |  0.439329269  |\n",
       "| concave.points_se |  0.376168956  |  0.163851025  |  0.407216916  |  0.372320282  |  0.38067569   | 0.64226185    | 0.68325992    | 0.61563413    | 0.39329787    |  0.3411980444 | ...           |  0.35812667   |  0.086741210  |  0.394999252  |  0.34227116   |  0.21535060   |  0.45288838   |  0.54959238   |  0.6024496    |  0.14311567   |  0.310654551  |\n",
       "| symmetry_se | -0.104320881  |  0.009127168  | -0.081629327  | -0.072496588  |  0.20077438   | 0.22997659    | 0.17800921    | 0.09535079    | 0.44913654    |  0.3450073971 | ...           | -0.12812077   | -0.077473420  | -0.103753044  | -0.11034274   | -0.01266180   |  0.06025488   |  0.03711905   | -0.0304134    |  0.38940248   |  0.078079476  |\n",
       "| fractal_dimension_se | -0.042641269  |  0.054457520  | -0.005523391  | -0.019886963  |  0.28360670   | 0.50731813    | 0.44930075    | 0.25758375    | 0.33178615    |  0.6881315775 | ...           | -0.03748762   | -0.003195029  | -0.001000398  | -0.02273615   |  0.17056832   |  0.39015884   |  0.37997466   |  0.2152040    |  0.11109396   |  0.591328066  |\n",
       "| radius_worst |  0.969538973  |  0.352572947  |  0.969476363  |  0.962746086  |  0.21312014   | 0.53531540    | 0.68823641    | 0.83031763    | 0.18572775    | -0.2536914949 | ...           |  1.00000000   |  0.359920754  |  0.993707916  |  0.98401456   |  0.21657443   |  0.47582004   |  0.57397471   |  0.7874239    |  0.24352920   |  0.093491979  |\n",
       "| texture_worst |  0.297007644  |  0.912044589  |  0.303038372  |  0.287488627  |  0.03607180   | 0.24813283    | 0.29987889    | 0.29275171    | 0.09065069    | -0.0512692020 | ...           |  0.35992075   |  1.000000000  |  0.365098245  |  0.34584228   |  0.22542941   |  0.36083234   |  0.36836561   |  0.3597546    |  0.23302746   |  0.219122425  |\n",
       "| perimeter_worst |  0.965136514  |  0.358039575  |  0.970386887  |  0.959119574  |  0.23885263   | 0.59021043    | 0.72956492    | 0.85592313    | 0.21916856    | -0.2051512113 | ...           |  0.99370792   |  0.365098245  |  1.000000000  |  0.97757809   |  0.23677460   |  0.52940769   |  0.61834408   |  0.8163221    |  0.26949277   |  0.138956862  |\n",
       "| area_worst |  0.941082460  |  0.343545947  |  0.941549808  |  0.959213326  |  0.20671836   | 0.50960381    | 0.67598723    | 0.80962962    | 0.17719338    | -0.2318544512 | ...           |  0.98401456   |  0.345842283  |  0.977578091  |  1.00000000   |  0.20914533   |  0.43829628   |  0.54333053   |  0.7474188    |  0.20914551   |  0.079647034  |\n",
       "| smoothness_worst |  0.119616140  |  0.077503359  |  0.150549404  |  0.123522939  |  0.80532420   | 0.56554117    | 0.44882204    | 0.45275305    | 0.42667503    |  0.5049420754 | ...           |  0.21657443   |  0.225429415  |  0.236774604  |  0.20914533   |  1.00000000   |  0.56818652   |  0.51852329   |  0.5476909    |  0.49383833   |  0.617624192  |\n",
       "| compactness_worst |  0.413462823  |  0.277829592  |  0.455774228  |  0.390410309  |  0.47246844   | 0.86580904    | 0.75496802    | 0.66745368    | 0.47320001    |  0.4587981567 | ...           |  0.47582004   |  0.360832339  |  0.529407690  |  0.43829628   |  0.56818652   |  1.00000000   |  0.89226090   |  0.8010804    |  0.61444050   |  0.810454856  |\n",
       "| concavity_worst |  0.526911462  |  0.301025224  |  0.563879263  |  0.512605920  |  0.43492571   | 0.81627525    | 0.88410264    | 0.75239950    | 0.43372101    |  0.3462338763 | ...           |  0.57397471   |  0.368365607  |  0.618344080  |  0.54333053   |  0.51852329   |  0.89226090   |  1.00000000   |  0.8554339    |  0.53251973   |  0.686510921  |\n",
       "| concave.points_worst |  0.744214198  |  0.295315843  |  0.771240789  |  0.722016626  |  0.50305335   | 0.81557322    | 0.86132303    | 0.91015531    | 0.43029661    |  0.1753254492 | ...           |  0.78742385   |  0.359754610  |  0.816322102  |  0.74741880   |  0.54769090   |  0.80108036   |  0.85543386   |  1.0000000    |  0.50252849   |  0.511114146  |\n",
       "| symmetry_worst |  0.163953335  |  0.105007910  |  0.189115040  |  0.143569914  |  0.39430948   | 0.51022343    | 0.40946413    | 0.37574415    | 0.69982580    |  0.3340186839 | ...           |  0.24352920   |  0.233027461  |  0.269492769  |  0.20914551   |  0.49383833   |  0.61444050   |  0.53251973   |  0.5025285    |  1.00000000   |  0.537848206  |\n",
       "| fractal_dimension_worst |  0.007065886  |  0.119205351  |  0.051018530  |  0.003737597  |  0.49931637   | 0.68738232    | 0.51492989    | 0.36866113    | 0.43841350    |  0.7672967792 | ...           |  0.09349198   |  0.219122425  |  0.138956862  |  0.07964703   |  0.61762419   |  0.81045486   |  0.68651092   |  0.5111141    |  0.53784821   |  1.000000000  |\n",
       "\n"
      ],
      "text/plain": [
       "                        radius_mean  texture_mean perimeter_mean area_mean   \n",
       "radius_mean              1.000000000  0.323781891  0.997855281    0.987357170\n",
       "texture_mean             0.323781891  1.000000000  0.329533059    0.321085696\n",
       "perimeter_mean           0.997855281  0.329533059  1.000000000    0.986506804\n",
       "area_mean                0.987357170  0.321085696  0.986506804    1.000000000\n",
       "smoothness_mean          0.170581187 -0.023388516  0.207278164    0.177028377\n",
       "compactness_mean         0.506123578  0.236702222  0.556936211    0.498501682\n",
       "concavity_mean           0.676763550  0.302417828  0.716135650    0.685982829\n",
       "concave.points_mean      0.822528522  0.293464051  0.850977041    0.823268869\n",
       "symmetry_mean            0.147741242  0.071400980  0.183027212    0.151293079\n",
       "fractal_dimension_mean  -0.311630826 -0.076437183 -0.261476908   -0.283109812\n",
       "radius_se                0.679090388  0.275868676  0.691765014    0.732562227\n",
       "texture_se              -0.097317443  0.386357623 -0.086761078   -0.066280214\n",
       "perimeter_se             0.674171616  0.281673115  0.693134890    0.726628328\n",
       "area_se                  0.735863663  0.259844987  0.744982694    0.800085921\n",
       "smoothness_se           -0.222600125  0.006613777 -0.202694026   -0.166776667\n",
       "compactness_se           0.205999980  0.191974611  0.250743681    0.212582551\n",
       "concavity_se             0.194203623  0.143293077  0.228082345    0.207660060\n",
       "concave.points_se        0.376168956  0.163851025  0.407216916    0.372320282\n",
       "symmetry_se             -0.104320881  0.009127168 -0.081629327   -0.072496588\n",
       "fractal_dimension_se    -0.042641269  0.054457520 -0.005523391   -0.019886963\n",
       "radius_worst             0.969538973  0.352572947  0.969476363    0.962746086\n",
       "texture_worst            0.297007644  0.912044589  0.303038372    0.287488627\n",
       "perimeter_worst          0.965136514  0.358039575  0.970386887    0.959119574\n",
       "area_worst               0.941082460  0.343545947  0.941549808    0.959213326\n",
       "smoothness_worst         0.119616140  0.077503359  0.150549404    0.123522939\n",
       "compactness_worst        0.413462823  0.277829592  0.455774228    0.390410309\n",
       "concavity_worst          0.526911462  0.301025224  0.563879263    0.512605920\n",
       "concave.points_worst     0.744214198  0.295315843  0.771240789    0.722016626\n",
       "symmetry_worst           0.163953335  0.105007910  0.189115040    0.143569914\n",
       "fractal_dimension_worst  0.007065886  0.119205351  0.051018530    0.003737597\n",
       "                        smoothness_mean compactness_mean concavity_mean\n",
       "radius_mean              0.17058119     0.50612358       0.67676355    \n",
       "texture_mean            -0.02338852     0.23670222       0.30241783    \n",
       "perimeter_mean           0.20727816     0.55693621       0.71613565    \n",
       "area_mean                0.17702838     0.49850168       0.68598283    \n",
       "smoothness_mean          1.00000000     0.65912322       0.52198377    \n",
       "compactness_mean         0.65912322     1.00000000       0.88312067    \n",
       "concavity_mean           0.52198377     0.88312067       1.00000000    \n",
       "concave.points_mean      0.55369517     0.83113504       0.92139103    \n",
       "symmetry_mean            0.55777479     0.60264105       0.50066662    \n",
       "fractal_dimension_mean   0.58479200     0.56536866       0.33678336    \n",
       "radius_se                0.30146710     0.49747345       0.63192482    \n",
       "texture_se               0.06840645     0.04620483       0.07621835    \n",
       "perimeter_se             0.29609193     0.54890526       0.66039079    \n",
       "area_se                  0.24655243     0.45565285       0.61742681    \n",
       "smoothness_se            0.33237544     0.13529927       0.09856375    \n",
       "compactness_se           0.31894330     0.73872179       0.67027882    \n",
       "concavity_se             0.24839568     0.57051687       0.69127021    \n",
       "concave.points_se        0.38067569     0.64226185       0.68325992    \n",
       "symmetry_se              0.20077438     0.22997659       0.17800921    \n",
       "fractal_dimension_se     0.28360670     0.50731813       0.44930075    \n",
       "radius_worst             0.21312014     0.53531540       0.68823641    \n",
       "texture_worst            0.03607180     0.24813283       0.29987889    \n",
       "perimeter_worst          0.23885263     0.59021043       0.72956492    \n",
       "area_worst               0.20671836     0.50960381       0.67598723    \n",
       "smoothness_worst         0.80532420     0.56554117       0.44882204    \n",
       "compactness_worst        0.47246844     0.86580904       0.75496802    \n",
       "concavity_worst          0.43492571     0.81627525       0.88410264    \n",
       "concave.points_worst     0.50305335     0.81557322       0.86132303    \n",
       "symmetry_worst           0.39430948     0.51022343       0.40946413    \n",
       "fractal_dimension_worst  0.49931637     0.68738232       0.51492989    \n",
       "                        concave.points_mean symmetry_mean\n",
       "radius_mean             0.82252852          0.14774124   \n",
       "texture_mean            0.29346405          0.07140098   \n",
       "perimeter_mean          0.85097704          0.18302721   \n",
       "area_mean               0.82326887          0.15129308   \n",
       "smoothness_mean         0.55369517          0.55777479   \n",
       "compactness_mean        0.83113504          0.60264105   \n",
       "concavity_mean          0.92139103          0.50066662   \n",
       "concave.points_mean     1.00000000          0.46249739   \n",
       "symmetry_mean           0.46249739          1.00000000   \n",
       "fractal_dimension_mean  0.16691738          0.47992133   \n",
       "radius_se               0.69804983          0.30337926   \n",
       "texture_se              0.02147958          0.12805293   \n",
       "perimeter_se            0.71064987          0.31389276   \n",
       "area_se                 0.69029854          0.22397022   \n",
       "smoothness_se           0.02765331          0.18732117   \n",
       "compactness_se          0.49042425          0.42165915   \n",
       "concavity_se            0.43916707          0.34262702   \n",
       "concave.points_se       0.61563413          0.39329787   \n",
       "symmetry_se             0.09535079          0.44913654   \n",
       "fractal_dimension_se    0.25758375          0.33178615   \n",
       "radius_worst            0.83031763          0.18572775   \n",
       "texture_worst           0.29275171          0.09065069   \n",
       "perimeter_worst         0.85592313          0.21916856   \n",
       "area_worst              0.80962962          0.17719338   \n",
       "smoothness_worst        0.45275305          0.42667503   \n",
       "compactness_worst       0.66745368          0.47320001   \n",
       "concavity_worst         0.75239950          0.43372101   \n",
       "concave.points_worst    0.91015531          0.43029661   \n",
       "symmetry_worst          0.37574415          0.69982580   \n",
       "fractal_dimension_worst 0.36866113          0.43841350   \n",
       "                        fractal_dimension_mean ... radius_worst texture_worst\n",
       "radius_mean             -0.3116308263          ...  0.96953897   0.297007644 \n",
       "texture_mean            -0.0764371834          ...  0.35257295   0.912044589 \n",
       "perimeter_mean          -0.2614769081          ...  0.96947636   0.303038372 \n",
       "area_mean               -0.2831098117          ...  0.96274609   0.287488627 \n",
       "smoothness_mean          0.5847920019          ...  0.21312014   0.036071799 \n",
       "compactness_mean         0.5653686634          ...  0.53531540   0.248132833 \n",
       "concavity_mean           0.3367833594          ...  0.68823641   0.299878889 \n",
       "concave.points_mean      0.1669173832          ...  0.83031763   0.292751713 \n",
       "symmetry_mean            0.4799213301          ...  0.18572775   0.090650688 \n",
       "fractal_dimension_mean   1.0000000000          ... -0.25369149  -0.051269202 \n",
       "radius_se                0.0001109951          ...  0.71506520   0.194798557 \n",
       "texture_se               0.1641739659          ... -0.11169031   0.409002766 \n",
       "perimeter_se             0.0398299316          ...  0.69720059   0.200370854 \n",
       "area_se                 -0.0901702475          ...  0.75737319   0.196496649 \n",
       "smoothness_se            0.4019644254          ... -0.23069071  -0.074742965 \n",
       "compactness_se           0.5598366906          ...  0.20460717   0.143002583 \n",
       "concavity_se             0.4466303217          ...  0.18690352   0.100240984 \n",
       "concave.points_se        0.3411980444          ...  0.35812667   0.086741210 \n",
       "symmetry_se              0.3450073971          ... -0.12812077  -0.077473420 \n",
       "fractal_dimension_se     0.6881315775          ... -0.03748762  -0.003195029 \n",
       "radius_worst            -0.2536914949          ...  1.00000000   0.359920754 \n",
       "texture_worst           -0.0512692020          ...  0.35992075   1.000000000 \n",
       "perimeter_worst         -0.2051512113          ...  0.99370792   0.365098245 \n",
       "area_worst              -0.2318544512          ...  0.98401456   0.345842283 \n",
       "smoothness_worst         0.5049420754          ...  0.21657443   0.225429415 \n",
       "compactness_worst        0.4587981567          ...  0.47582004   0.360832339 \n",
       "concavity_worst          0.3462338763          ...  0.57397471   0.368365607 \n",
       "concave.points_worst     0.1753254492          ...  0.78742385   0.359754610 \n",
       "symmetry_worst           0.3340186839          ...  0.24352920   0.233027461 \n",
       "fractal_dimension_worst  0.7672967792          ...  0.09349198   0.219122425 \n",
       "                        perimeter_worst area_worst  smoothness_worst\n",
       "radius_mean              0.965136514     0.94108246  0.11961614     \n",
       "texture_mean             0.358039575     0.34354595  0.07750336     \n",
       "perimeter_mean           0.970386887     0.94154981  0.15054940     \n",
       "area_mean                0.959119574     0.95921333  0.12352294     \n",
       "smoothness_mean          0.238852626     0.20671836  0.80532420     \n",
       "compactness_mean         0.590210428     0.50960381  0.56554117     \n",
       "concavity_mean           0.729564917     0.67598723  0.44882204     \n",
       "concave.points_mean      0.855923128     0.80962962  0.45275305     \n",
       "symmetry_mean            0.219168559     0.17719338  0.42667503     \n",
       "fractal_dimension_mean  -0.205151211    -0.23185445  0.50494208     \n",
       "radius_se                0.719683804     0.75154848  0.14191855     \n",
       "texture_se              -0.102241922    -0.08319499 -0.07365766     \n",
       "perimeter_se             0.721031310     0.73071297  0.13005439     \n",
       "area_se                  0.761212636     0.81140796  0.12538943     \n",
       "smoothness_se           -0.217303755    -0.18219548  0.31445746     \n",
       "compactness_se           0.260515840     0.19937133  0.22739423     \n",
       "concavity_se             0.226680426     0.18835265  0.16848132     \n",
       "concave.points_se        0.394999252     0.34227116  0.21535060     \n",
       "symmetry_se             -0.103753044    -0.11034274 -0.01266180     \n",
       "fractal_dimension_se    -0.001000398    -0.02273615  0.17056832     \n",
       "radius_worst             0.993707916     0.98401456  0.21657443     \n",
       "texture_worst            0.365098245     0.34584228  0.22542941     \n",
       "perimeter_worst          1.000000000     0.97757809  0.23677460     \n",
       "area_worst               0.977578091     1.00000000  0.20914533     \n",
       "smoothness_worst         0.236774604     0.20914533  1.00000000     \n",
       "compactness_worst        0.529407690     0.43829628  0.56818652     \n",
       "concavity_worst          0.618344080     0.54333053  0.51852329     \n",
       "concave.points_worst     0.816322102     0.74741880  0.54769090     \n",
       "symmetry_worst           0.269492769     0.20914551  0.49383833     \n",
       "fractal_dimension_worst  0.138956862     0.07964703  0.61762419     \n",
       "                        compactness_worst concavity_worst concave.points_worst\n",
       "radius_mean              0.41346282        0.52691146      0.7442142          \n",
       "texture_mean             0.27782959        0.30102522      0.2953158          \n",
       "perimeter_mean           0.45577423        0.56387926      0.7712408          \n",
       "area_mean                0.39041031        0.51260592      0.7220166          \n",
       "smoothness_mean          0.47246844        0.43492571      0.5030534          \n",
       "compactness_mean         0.86580904        0.81627525      0.8155732          \n",
       "concavity_mean           0.75496802        0.88410264      0.8613230          \n",
       "concave.points_mean      0.66745368        0.75239950      0.9101553          \n",
       "symmetry_mean            0.47320001        0.43372101      0.4302966          \n",
       "fractal_dimension_mean   0.45879816        0.34623388      0.1753254          \n",
       "radius_se                0.28710317        0.38058463      0.5310623          \n",
       "texture_se              -0.09243935       -0.06895622     -0.1196375          \n",
       "perimeter_se             0.34191945        0.41889882      0.5548972          \n",
       "area_se                  0.28325654        0.38510014      0.5381663          \n",
       "smoothness_se           -0.05555814       -0.05829839     -0.1020068          \n",
       "compactness_se           0.67878035        0.63914670      0.4832083          \n",
       "concavity_se             0.48485780        0.66256413      0.4404723          \n",
       "concave.points_se        0.45288838        0.54959238      0.6024496          \n",
       "symmetry_se              0.06025488        0.03711905     -0.0304134          \n",
       "fractal_dimension_se     0.39015884        0.37997466      0.2152040          \n",
       "radius_worst             0.47582004        0.57397471      0.7874239          \n",
       "texture_worst            0.36083234        0.36836561      0.3597546          \n",
       "perimeter_worst          0.52940769        0.61834408      0.8163221          \n",
       "area_worst               0.43829628        0.54333053      0.7474188          \n",
       "smoothness_worst         0.56818652        0.51852329      0.5476909          \n",
       "compactness_worst        1.00000000        0.89226090      0.8010804          \n",
       "concavity_worst          0.89226090        1.00000000      0.8554339          \n",
       "concave.points_worst     0.80108036        0.85543386      1.0000000          \n",
       "symmetry_worst           0.61444050        0.53251973      0.5025285          \n",
       "fractal_dimension_worst  0.81045486        0.68651092      0.5111141          \n",
       "                        symmetry_worst fractal_dimension_worst\n",
       "radius_mean              0.16395333     0.007065886           \n",
       "texture_mean             0.10500791     0.119205351           \n",
       "perimeter_mean           0.18911504     0.051018530           \n",
       "area_mean                0.14356991     0.003737597           \n",
       "smoothness_mean          0.39430948     0.499316369           \n",
       "compactness_mean         0.51022343     0.687382323           \n",
       "concavity_mean           0.40946413     0.514929891           \n",
       "concave.points_mean      0.37574415     0.368661134           \n",
       "symmetry_mean            0.69982580     0.438413498           \n",
       "fractal_dimension_mean   0.33401868     0.767296779           \n",
       "radius_se                0.09454283     0.049559432           \n",
       "texture_se              -0.12821476    -0.045654569           \n",
       "perimeter_se             0.10993043     0.085432572           \n",
       "area_se                  0.07412629     0.017539295           \n",
       "smoothness_se           -0.10734210     0.101480315           \n",
       "compactness_se           0.27787843     0.590972763           \n",
       "concavity_se             0.19778782     0.439329269           \n",
       "concave.points_se        0.14311567     0.310654551           \n",
       "symmetry_se              0.38940248     0.078079476           \n",
       "fractal_dimension_se     0.11109396     0.591328066           \n",
       "radius_worst             0.24352920     0.093491979           \n",
       "texture_worst            0.23302746     0.219122425           \n",
       "perimeter_worst          0.26949277     0.138956862           \n",
       "area_worst               0.20914551     0.079647034           \n",
       "smoothness_worst         0.49383833     0.617624192           \n",
       "compactness_worst        0.61444050     0.810454856           \n",
       "concavity_worst          0.53251973     0.686510921           \n",
       "concave.points_worst     0.50252849     0.511114146           \n",
       "symmetry_worst           1.00000000     0.537848206           \n",
       "fractal_dimension_worst  0.53784821     1.000000000           "
      ]
     },
     "metadata": {},
     "output_type": "display_data"
    }
   ],
   "source": [
    "cor.data = cor(df[,num.cols])\n",
    "cor.data"
   ]
  },
  {
   "cell_type": "markdown",
   "metadata": {},
   "source": [
    "checking for the correlation of variables"
   ]
  },
  {
   "cell_type": "code",
   "execution_count": 169,
   "metadata": {},
   "outputs": [
    {
     "data": {
      "image/png": "[encoded data removed]",
      "text/plain": [
       "Plot with title \"\""
      ]
     },
     "metadata": {},
     "output_type": "display_data"
    }
   ],
   "source": [
    "library(corrplot)\n",
    "corrplot(cor.data,method='color')"
   ]
  },
  {
   "cell_type": "markdown",
   "metadata": {},
   "source": [
    "# In the corrplot concave.points mean , perimeter mean and texture worst are correlated. so the tree took it for the classification."
   ]
  },
  {
   "cell_type": "code",
   "execution_count": 170,
   "metadata": {},
   "outputs": [],
   "source": [
    "library(rpart)\n",
    "df = select(df, c(-id))"
   ]
  },
  {
   "cell_type": "markdown",
   "metadata": {},
   "source": [
    "# Dropping the ID column"
   ]
  },
  {
   "cell_type": "code",
   "execution_count": 193,
   "metadata": {},
   "outputs": [],
   "source": [
    "library(caTools)\n",
    "\n",
    "set.seed(101) \n",
    "\n",
    "sample = sample.split(df$diagnosis, SplitRatio = .70)\n",
    "train = subset(df, sample == TRUE)\n",
    "test = subset(df, sample == FALSE)"
   ]
  },
  {
   "cell_type": "markdown",
   "metadata": {},
   "source": [
    "# splitting the data into train and test data using sample.split function."
   ]
  },
  {
   "cell_type": "code",
   "execution_count": 265,
   "metadata": {},
   "outputs": [],
   "source": [
    "tree <- rpart(diagnosis ~ .,method='class',data = train)"
   ]
  },
  {
   "cell_type": "markdown",
   "metadata": {},
   "source": [
    "# Using target variable diagnosis training the model using rpart function and we are doing classification so we are using method class and data is training data."
   ]
  },
  {
   "cell_type": "code",
   "execution_count": 266,
   "metadata": {},
   "outputs": [],
   "source": [
    "tree.preds <- predict(tree,test)"
   ]
  },
  {
   "cell_type": "markdown",
   "metadata": {},
   "source": [
    "# Predicting the values using test data"
   ]
  },
  {
   "cell_type": "code",
   "execution_count": 267,
   "metadata": {},
   "outputs": [
    {
     "data": {
      "text/html": [
       "<table>\n",
       "<thead><tr><th></th><th scope=col>B</th><th scope=col>M</th></tr></thead>\n",
       "<tbody>\n",
       "\t<tr><th scope=row>11</th><td>0.0530303 </td><td>0.94696970</td></tr>\n",
       "\t<tr><th scope=row>14</th><td>0.9788136 </td><td>0.02118644</td></tr>\n",
       "\t<tr><th scope=row>17</th><td>0.0530303 </td><td>0.94696970</td></tr>\n",
       "\t<tr><th scope=row>25</th><td>0.0530303 </td><td>0.94696970</td></tr>\n",
       "\t<tr><th scope=row>28</th><td>0.0530303 </td><td>0.94696970</td></tr>\n",
       "\t<tr><th scope=row>29</th><td>0.0530303 </td><td>0.94696970</td></tr>\n",
       "</tbody>\n",
       "</table>\n"
      ],
      "text/latex": [
       "\\begin{tabular}{r|ll}\n",
       "  & B & M\\\\\n",
       "\\hline\n",
       "\t11 & 0.0530303  & 0.94696970\\\\\n",
       "\t14 & 0.9788136  & 0.02118644\\\\\n",
       "\t17 & 0.0530303  & 0.94696970\\\\\n",
       "\t25 & 0.0530303  & 0.94696970\\\\\n",
       "\t28 & 0.0530303  & 0.94696970\\\\\n",
       "\t29 & 0.0530303  & 0.94696970\\\\\n",
       "\\end{tabular}\n"
      ],
      "text/markdown": [
       "\n",
       "| <!--/--> | B | M |\n",
       "|---|---|---|\n",
       "| 11 | 0.0530303  | 0.94696970 |\n",
       "| 14 | 0.9788136  | 0.02118644 |\n",
       "| 17 | 0.0530303  | 0.94696970 |\n",
       "| 25 | 0.0530303  | 0.94696970 |\n",
       "| 28 | 0.0530303  | 0.94696970 |\n",
       "| 29 | 0.0530303  | 0.94696970 |\n",
       "\n"
      ],
      "text/plain": [
       "   B         M         \n",
       "11 0.0530303 0.94696970\n",
       "14 0.9788136 0.02118644\n",
       "17 0.0530303 0.94696970\n",
       "25 0.0530303 0.94696970\n",
       "28 0.0530303 0.94696970\n",
       "29 0.0530303 0.94696970"
      ]
     },
     "metadata": {},
     "output_type": "display_data"
    }
   ],
   "source": [
    "head(tree.preds)"
   ]
  },
  {
   "cell_type": "code",
   "execution_count": 268,
   "metadata": {},
   "outputs": [],
   "source": [
    "tree.preds <- as.data.frame(tree.preds)\n",
    "joiner <- function(x){\n",
    "    if (x>0.5){\n",
    "        return('M')\n",
    "    }else{\n",
    "        return('B')\n",
    "    }\n",
    "}"
   ]
  },
  {
   "cell_type": "markdown",
   "metadata": {},
   "source": [
    "# created a function joiner giving a threshold value of 0.5 to classify benign and malignant cases in the predicted data."
   ]
  },
  {
   "cell_type": "code",
   "execution_count": 269,
   "metadata": {},
   "outputs": [],
   "source": [
    "tree.preds$diagnosis <- sapply(tree.preds$M,joiner)"
   ]
  },
  {
   "cell_type": "code",
   "execution_count": 271,
   "metadata": {},
   "outputs": [
    {
     "data": {
      "text/html": [
       "<table>\n",
       "<thead><tr><th></th><th scope=col>B</th><th scope=col>M</th><th scope=col>diagnosis</th></tr></thead>\n",
       "<tbody>\n",
       "\t<tr><th scope=row>11</th><td>0.0530303 </td><td>0.94696970</td><td>M         </td></tr>\n",
       "\t<tr><th scope=row>14</th><td>0.9788136 </td><td>0.02118644</td><td>B         </td></tr>\n",
       "\t<tr><th scope=row>17</th><td>0.0530303 </td><td>0.94696970</td><td>M         </td></tr>\n",
       "\t<tr><th scope=row>25</th><td>0.0530303 </td><td>0.94696970</td><td>M         </td></tr>\n",
       "\t<tr><th scope=row>28</th><td>0.0530303 </td><td>0.94696970</td><td>M         </td></tr>\n",
       "\t<tr><th scope=row>29</th><td>0.0530303 </td><td>0.94696970</td><td>M         </td></tr>\n",
       "</tbody>\n",
       "</table>\n"
      ],
      "text/latex": [
       "\\begin{tabular}{r|lll}\n",
       "  & B & M & diagnosis\\\\\n",
       "\\hline\n",
       "\t11 & 0.0530303  & 0.94696970 & M         \\\\\n",
       "\t14 & 0.9788136  & 0.02118644 & B         \\\\\n",
       "\t17 & 0.0530303  & 0.94696970 & M         \\\\\n",
       "\t25 & 0.0530303  & 0.94696970 & M         \\\\\n",
       "\t28 & 0.0530303  & 0.94696970 & M         \\\\\n",
       "\t29 & 0.0530303  & 0.94696970 & M         \\\\\n",
       "\\end{tabular}\n"
      ],
      "text/markdown": [
       "\n",
       "| <!--/--> | B | M | diagnosis |\n",
       "|---|---|---|---|\n",
       "| 11 | 0.0530303  | 0.94696970 | M          |\n",
       "| 14 | 0.9788136  | 0.02118644 | B          |\n",
       "| 17 | 0.0530303  | 0.94696970 | M          |\n",
       "| 25 | 0.0530303  | 0.94696970 | M          |\n",
       "| 28 | 0.0530303  | 0.94696970 | M          |\n",
       "| 29 | 0.0530303  | 0.94696970 | M          |\n",
       "\n"
      ],
      "text/plain": [
       "   B         M          diagnosis\n",
       "11 0.0530303 0.94696970 M        \n",
       "14 0.9788136 0.02118644 B        \n",
       "17 0.0530303 0.94696970 M        \n",
       "25 0.0530303 0.94696970 M        \n",
       "28 0.0530303 0.94696970 M        \n",
       "29 0.0530303 0.94696970 M        "
      ]
     },
     "metadata": {},
     "output_type": "display_data"
    }
   ],
   "source": [
    "head(tree.preds)"
   ]
  },
  {
   "cell_type": "code",
   "execution_count": 272,
   "metadata": {},
   "outputs": [
    {
     "data": {
      "image/png": "[encoded data removed]",
      "text/plain": [
       "plot without title"
      ]
     },
     "metadata": {},
     "output_type": "display_data"
    }
   ],
   "source": [
    "ggplot(tree.preds,aes(diagnosis)) + geom_bar()"
   ]
  },
  {
   "cell_type": "markdown",
   "metadata": {},
   "source": [
    "# Plotting the graph for predicted values as there are more benign cases in the predicted data also"
   ]
  },
  {
   "cell_type": "code",
   "execution_count": 273,
   "metadata": {},
   "outputs": [],
   "source": [
    "tree.preds$diagnosis = factor(tree.preds$diagnosis)"
   ]
  },
  {
   "cell_type": "code",
   "execution_count": 274,
   "metadata": {},
   "outputs": [
    {
     "data": {
      "text/plain": [
       "   \n",
       "      B   M\n",
       "  B 102   6\n",
       "  M   5  58"
      ]
     },
     "metadata": {},
     "output_type": "display_data"
    }
   ],
   "source": [
    "table(tree.preds$diagnosis,test$diagnosis)"
   ]
  },
  {
   "cell_type": "markdown",
   "metadata": {},
   "source": [
    "58 patients has actual cancer and model truly predicted cancer.\n",
    "102 patients doesnt actually have cancer and model truly predicted doesnot actually have cancer.\n",
    "6 actually doesnt have cancer but model wrongly predicted they had cancer.\n",
    "5 patients actually have cancer and but model predicted they doesnt have cancer."
   ]
  },
  {
   "cell_type": "code",
   "execution_count": 275,
   "metadata": {},
   "outputs": [],
   "source": [
    "TP = 58\n",
    "TN = 102\n",
    "FP = 6\n",
    "FN = 5"
   ]
  },
  {
   "cell_type": "code",
   "execution_count": 276,
   "metadata": {},
   "outputs": [
    {
     "data": {
      "text/html": [
       "0.935672514619883"
      ],
      "text/latex": [
       "0.935672514619883"
      ],
      "text/markdown": [
       "0.935672514619883"
      ],
      "text/plain": [
       "[1] 0.9356725"
      ]
     },
     "metadata": {},
     "output_type": "display_data"
    }
   ],
   "source": [
    "accuracy = (TP + TN) / (TP+TN+FN+FP)\n",
    "accuracy\n",
    "            "
   ]
  },
  {
   "cell_type": "markdown",
   "metadata": {},
   "source": [
    "# So the model accuracy got  93% so it can corectly classify the data between malignant and benign."
   ]
  },
  {
   "cell_type": "code",
   "execution_count": 277,
   "metadata": {},
   "outputs": [
    {
     "data": {
      "text/html": [
       "0.064327485380117"
      ],
      "text/latex": [
       "0.064327485380117"
      ],
      "text/markdown": [
       "0.064327485380117"
      ],
      "text/plain": [
       "[1] 0.06432749"
      ]
     },
     "metadata": {},
     "output_type": "display_data"
    }
   ],
   "source": [
    "error.rate = (FP+FN) / (TP+TN+FN+FP)\n",
    "error.rate"
   ]
  },
  {
   "cell_type": "markdown",
   "metadata": {},
   "source": [
    "# 6% is the error rate of wrongly predicted values in the model that is false positive and false negative."
   ]
  },
  {
   "cell_type": "code",
   "execution_count": 278,
   "metadata": {},
   "outputs": [
    {
     "data": {
      "image/png": "[encoded data removed]",
      "text/plain": [
       "plot without title"
      ]
     },
     "metadata": {},
     "output_type": "display_data"
    }
   ],
   "source": [
    "library(rpart.plot)\n",
    "prp(tree)"
   ]
  },
  {
   "cell_type": "markdown",
   "metadata": {},
   "source": [
    "If perimeter mean < 113 and concave.points mean < 0.14 then it is benign.\n",
    "\n",
    "If perimeter mean > 113 then it is malignant.\n",
    "\n",
    "If perimeter mean < 113 and concave.points mean > 0.14 and texture_worst > 20 then it is malignant.\n",
    "\n",
    "\n",
    "If perimeter mean < 113 and concave.points mean > 0.14 and texture_worst < 20 then it is malignant.\n"
   ]
  },
  {
   "cell_type": "code",
   "execution_count": 279,
   "metadata": {},
   "outputs": [],
   "source": [
    "library(pROC)"
   ]
  },
  {
   "cell_type": "code",
   "execution_count": 280,
   "metadata": {},
   "outputs": [],
   "source": [
    "change = function(x){\n",
    "    if(x == 'M')\n",
    "        return(1)\n",
    "    else\n",
    "        return(0)\n",
    "}"
   ]
  },
  {
   "cell_type": "code",
   "execution_count": 281,
   "metadata": {},
   "outputs": [],
   "source": [
    "test_prob = sapply(tree.preds$diagnosis,change)"
   ]
  },
  {
   "cell_type": "code",
   "execution_count": 283,
   "metadata": {},
   "outputs": [
    {
     "data": {
      "image/png": "[encoded data removed]",
      "text/plain": [
       "plot without title"
      ]
     },
     "metadata": {},
     "output_type": "display_data"
    }
   ],
   "source": [
    "test_roc=roc(test$diagnosis ~ test_prob,plot =TRUE,print.auc=TRUE)"
   ]
  },
  {
   "cell_type": "markdown",
   "metadata": {},
   "source": [
    "# Area Under Curve got 93.0% in the model.So the score is 0.93. The perfect classifier is 1.So the model can classify 0.93 better between negative class (0) and positive class (1)"
   ]
  },
  {
   "cell_type": "markdown",
   "metadata": {},
   "source": [
    "# Random Forest"
   ]
  },
  {
   "cell_type": "code",
   "execution_count": 206,
   "metadata": {},
   "outputs": [],
   "source": [
    "library(randomForest)"
   ]
  },
  {
   "cell_type": "markdown",
   "metadata": {},
   "source": [
    "# Training the model"
   ]
  },
  {
   "cell_type": "code",
   "execution_count": 284,
   "metadata": {},
   "outputs": [],
   "source": [
    "rf.model <- randomForest(diagnosis ~ ., data = train,importance = TRUE)"
   ]
  },
  {
   "cell_type": "markdown",
   "metadata": {},
   "source": [
    "Training the model using randomforest function target variable is diagnosis and the data is train and we are saving the model in the rf.model."
   ]
  },
  {
   "cell_type": "code",
   "execution_count": 285,
   "metadata": {},
   "outputs": [],
   "source": [
    "p <- predict(rf.model,test)"
   ]
  },
  {
   "cell_type": "markdown",
   "metadata": {},
   "source": [
    "Predicting the model using predict function"
   ]
  },
  {
   "cell_type": "code",
   "execution_count": 286,
   "metadata": {},
   "outputs": [
    {
     "data": {
      "text/plain": [
       "   \n",
       "p     B   M\n",
       "  B 105   4\n",
       "  M   2  60"
      ]
     },
     "metadata": {},
     "output_type": "display_data"
    }
   ],
   "source": [
    "table(p,test$diagnosis)"
   ]
  },
  {
   "cell_type": "markdown",
   "metadata": {},
   "source": [
    "60 patients has actual cancer and model truly predicted cancer.\n",
    "105 patients doesnt actually have cancer and model truly predicted doesnot actually have cancer.\n",
    "4 actually doesnt have cancer but model wrongly predicted they had cancer.\n",
    "2 patients actually have cancer and but model predicted they doesnt have cancer."
   ]
  },
  {
   "cell_type": "code",
   "execution_count": 288,
   "metadata": {},
   "outputs": [],
   "source": [
    "TP = 60\n",
    "TN = 105\n",
    "FN = 2\n",
    "FP = 4"
   ]
  },
  {
   "cell_type": "code",
   "execution_count": 289,
   "metadata": {},
   "outputs": [
    {
     "data": {
      "text/html": [
       "0.964912280701754"
      ],
      "text/latex": [
       "0.964912280701754"
      ],
      "text/markdown": [
       "0.964912280701754"
      ],
      "text/plain": [
       "[1] 0.9649123"
      ]
     },
     "metadata": {},
     "output_type": "display_data"
    }
   ],
   "source": [
    "accuracy = (TP + TN) / (TP+TN+FN+FP)\n",
    "accuracy"
   ]
  },
  {
   "cell_type": "markdown",
   "metadata": {},
   "source": [
    "# So the model accuracy got 96% so it can corectly classify the data between malignant and benign."
   ]
  },
  {
   "cell_type": "code",
   "execution_count": 290,
   "metadata": {},
   "outputs": [
    {
     "data": {
      "text/html": [
       "0.0350877192982456"
      ],
      "text/latex": [
       "0.0350877192982456"
      ],
      "text/markdown": [
       "0.0350877192982456"
      ],
      "text/plain": [
       "[1] 0.03508772"
      ]
     },
     "metadata": {},
     "output_type": "display_data"
    }
   ],
   "source": [
    "error.rate = (FP+FN) / (TP+TN+FN+FP)\n",
    "error.rate"
   ]
  },
  {
   "cell_type": "markdown",
   "metadata": {},
   "source": [
    "# 6% is the error rate of wrongly predicted values in the model that is false positive and false negative."
   ]
  },
  {
   "cell_type": "code",
   "execution_count": 291,
   "metadata": {},
   "outputs": [],
   "source": [
    "library(pROC)"
   ]
  },
  {
   "cell_type": "code",
   "execution_count": 292,
   "metadata": {},
   "outputs": [],
   "source": [
    "test_prob = predict(rf.model,newdata = test, type =\"response\")"
   ]
  },
  {
   "cell_type": "code",
   "execution_count": 293,
   "metadata": {},
   "outputs": [],
   "source": [
    "change = function(x){\n",
    "    if(x == 'M')\n",
    "        return(1)\n",
    "    else\n",
    "        return(0)\n",
    "}"
   ]
  },
  {
   "cell_type": "code",
   "execution_count": 294,
   "metadata": {},
   "outputs": [],
   "source": [
    "test_prob = sapply(test_prob,change)"
   ]
  },
  {
   "cell_type": "code",
   "execution_count": 295,
   "metadata": {},
   "outputs": [
    {
     "data": {
      "image/png": "[encoded data removed]",
      "text/plain": [
       "plot without title"
      ]
     },
     "metadata": {},
     "output_type": "display_data"
    }
   ],
   "source": [
    "test_roc=roc(test$diagnosis ~ test_prob,plot =TRUE,print.auc=TRUE)"
   ]
  },
  {
   "cell_type": "markdown",
   "metadata": {},
   "source": [
    "# Area Under Curve got 95.9% in the model.So the score is 0.96. The perfect classifier is 1.So the model can classify 0.96 better between negative class (0) and positive class (1)"
   ]
  }
 ],
 "metadata": {
  "kernelspec": {
   "display_name": "R",
   "language": "R",
   "name": "ir"
  },
  "language_info": {
   "codemirror_mode": "r",
   "file_extension": ".r",
   "mimetype": "text/x-r-source",
   "name": "R",
   "pygments_lexer": "r",
   "version": "3.6.1"
  }
 },
 "nbformat": 4,
 "nbformat_minor": 2
}
