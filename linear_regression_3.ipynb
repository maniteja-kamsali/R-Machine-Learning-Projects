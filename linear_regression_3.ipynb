{
 "cells": [
  {
   "cell_type": "code",
   "execution_count": 2,
   "metadata": {},
   "outputs": [
    {
     "data": {
      "text/html": [
       "<table>\n",
       "<thead><tr><th scope=col>R.D.Spend</th><th scope=col>Administration</th><th scope=col>Marketing.Spend</th><th scope=col>State</th><th scope=col>Profit</th></tr></thead>\n",
       "<tbody>\n",
       "\t<tr><td>165349.20 </td><td>136897.80 </td><td>471784.10 </td><td>New York  </td><td>192261.83 </td></tr>\n",
       "\t<tr><td>162597.70 </td><td>151377.59 </td><td>443898.53 </td><td>California</td><td>191792.06 </td></tr>\n",
       "\t<tr><td>153441.51 </td><td>101145.55 </td><td>407934.54 </td><td>Florida   </td><td>191050.39 </td></tr>\n",
       "\t<tr><td>144372.41 </td><td>118671.85 </td><td>383199.62 </td><td>New York  </td><td>182901.99 </td></tr>\n",
       "\t<tr><td>142107.34 </td><td> 91391.77 </td><td>366168.42 </td><td>Florida   </td><td>166187.94 </td></tr>\n",
       "\t<tr><td>131876.90 </td><td> 99814.71 </td><td>362861.36 </td><td>New York  </td><td>156991.12 </td></tr>\n",
       "\t<tr><td>134615.46 </td><td>147198.87 </td><td>127716.82 </td><td>California</td><td>156122.51 </td></tr>\n",
       "\t<tr><td>130298.13 </td><td>145530.06 </td><td>323876.68 </td><td>Florida   </td><td>155752.60 </td></tr>\n",
       "\t<tr><td>120542.52 </td><td>148718.95 </td><td>311613.29 </td><td>New York  </td><td>152211.77 </td></tr>\n",
       "\t<tr><td>123334.88 </td><td>108679.17 </td><td>304981.62 </td><td>California</td><td>149759.96 </td></tr>\n",
       "\t<tr><td>101913.08 </td><td>110594.11 </td><td>229160.95 </td><td>Florida   </td><td>146121.95 </td></tr>\n",
       "\t<tr><td>100671.96 </td><td> 91790.61 </td><td>249744.55 </td><td>California</td><td>144259.40 </td></tr>\n",
       "\t<tr><td> 93863.75 </td><td>127320.38 </td><td>249839.44 </td><td>Florida   </td><td>141585.52 </td></tr>\n",
       "\t<tr><td> 91992.39 </td><td>135495.07 </td><td>252664.93 </td><td>California</td><td>134307.35 </td></tr>\n",
       "\t<tr><td>119943.24 </td><td>156547.42 </td><td>256512.92 </td><td>Florida   </td><td>132602.65 </td></tr>\n",
       "\t<tr><td>114523.61 </td><td>122616.84 </td><td>261776.23 </td><td>New York  </td><td>129917.04 </td></tr>\n",
       "\t<tr><td> 78013.11 </td><td>121597.55 </td><td>264346.06 </td><td>California</td><td>126992.93 </td></tr>\n",
       "\t<tr><td> 94657.16 </td><td>145077.58 </td><td>282574.31 </td><td>New York  </td><td>125370.37 </td></tr>\n",
       "\t<tr><td> 91749.16 </td><td>114175.79 </td><td>294919.57 </td><td>Florida   </td><td>124266.90 </td></tr>\n",
       "\t<tr><td> 86419.70 </td><td>153514.11 </td><td>     0.00 </td><td>New York  </td><td>122776.86 </td></tr>\n",
       "\t<tr><td> 76253.86 </td><td>113867.30 </td><td>298664.47 </td><td>California</td><td>118474.03 </td></tr>\n",
       "\t<tr><td> 78389.47 </td><td>153773.43 </td><td>299737.29 </td><td>New York  </td><td>111313.02 </td></tr>\n",
       "\t<tr><td> 73994.56 </td><td>122782.75 </td><td>303319.26 </td><td>Florida   </td><td>110352.25 </td></tr>\n",
       "\t<tr><td> 67532.53 </td><td>105751.03 </td><td>304768.73 </td><td>Florida   </td><td>108733.99 </td></tr>\n",
       "\t<tr><td> 77044.01 </td><td> 99281.34 </td><td>140574.81 </td><td>New York  </td><td>108552.04 </td></tr>\n",
       "\t<tr><td> 64664.71 </td><td>139553.16 </td><td>137962.62 </td><td>California</td><td>107404.34 </td></tr>\n",
       "\t<tr><td> 75328.87 </td><td>144135.98 </td><td>134050.07 </td><td>Florida   </td><td>105733.54 </td></tr>\n",
       "\t<tr><td> 72107.60 </td><td>127864.55 </td><td>353183.81 </td><td>New York  </td><td>105008.31 </td></tr>\n",
       "\t<tr><td> 66051.52 </td><td>182645.56 </td><td>118148.20 </td><td>Florida   </td><td>103282.38 </td></tr>\n",
       "\t<tr><td> 65605.48 </td><td>153032.06 </td><td>107138.38 </td><td>New York  </td><td>101004.64 </td></tr>\n",
       "\t<tr><td> 61994.48 </td><td>115641.28 </td><td> 91131.24 </td><td>Florida   </td><td> 99937.59 </td></tr>\n",
       "\t<tr><td> 61136.38 </td><td>152701.92 </td><td> 88218.23 </td><td>New York  </td><td> 97483.56 </td></tr>\n",
       "\t<tr><td> 63408.86 </td><td>129219.61 </td><td> 46085.25 </td><td>California</td><td> 97427.84 </td></tr>\n",
       "\t<tr><td> 55493.95 </td><td>103057.49 </td><td>214634.81 </td><td>Florida   </td><td> 96778.92 </td></tr>\n",
       "\t<tr><td> 46426.07 </td><td>157693.92 </td><td>210797.67 </td><td>California</td><td> 96712.80 </td></tr>\n",
       "\t<tr><td> 46014.02 </td><td> 85047.44 </td><td>205517.64 </td><td>New York  </td><td> 96479.51 </td></tr>\n",
       "\t<tr><td> 28663.76 </td><td>127056.21 </td><td>201126.82 </td><td>Florida   </td><td> 90708.19 </td></tr>\n",
       "\t<tr><td> 44069.95 </td><td> 51283.14 </td><td>197029.42 </td><td>California</td><td> 89949.14 </td></tr>\n",
       "\t<tr><td> 20229.59 </td><td> 65947.93 </td><td>185265.10 </td><td>New York  </td><td> 81229.06 </td></tr>\n",
       "\t<tr><td> 38558.51 </td><td> 82982.09 </td><td>174999.30 </td><td>California</td><td> 81005.76 </td></tr>\n",
       "\t<tr><td> 28754.33 </td><td>118546.05 </td><td>172795.67 </td><td>California</td><td> 78239.91 </td></tr>\n",
       "\t<tr><td> 27892.92 </td><td> 84710.77 </td><td>164470.71 </td><td>Florida   </td><td> 77798.83 </td></tr>\n",
       "\t<tr><td> 23640.93 </td><td> 96189.63 </td><td>148001.11 </td><td>California</td><td> 71498.49 </td></tr>\n",
       "\t<tr><td> 15505.73 </td><td>127382.30 </td><td> 35534.17 </td><td>New York  </td><td> 69758.98 </td></tr>\n",
       "\t<tr><td> 22177.74 </td><td>154806.14 </td><td> 28334.72 </td><td>California</td><td> 65200.33 </td></tr>\n",
       "\t<tr><td>  1000.23 </td><td>124153.04 </td><td>  1903.93 </td><td>New York  </td><td> 64926.08 </td></tr>\n",
       "\t<tr><td>  1315.46 </td><td>115816.21 </td><td>297114.46 </td><td>Florida   </td><td> 49490.75 </td></tr>\n",
       "\t<tr><td>     0.00 </td><td>135426.92 </td><td>     0.00 </td><td>California</td><td> 42559.73 </td></tr>\n",
       "\t<tr><td>   542.05 </td><td> 51743.15 </td><td>     0.00 </td><td>New York  </td><td> 35673.41 </td></tr>\n",
       "\t<tr><td>     0.00 </td><td>116983.80 </td><td> 45173.06 </td><td>California</td><td> 14681.40 </td></tr>\n",
       "</tbody>\n",
       "</table>\n"
      ],
      "text/latex": [
       "\\begin{tabular}{r|lllll}\n",
       " R.D.Spend & Administration & Marketing.Spend & State & Profit\\\\\n",
       "\\hline\n",
       "\t 165349.20  & 136897.80  & 471784.10  & New York   & 192261.83 \\\\\n",
       "\t 162597.70  & 151377.59  & 443898.53  & California & 191792.06 \\\\\n",
       "\t 153441.51  & 101145.55  & 407934.54  & Florida    & 191050.39 \\\\\n",
       "\t 144372.41  & 118671.85  & 383199.62  & New York   & 182901.99 \\\\\n",
       "\t 142107.34  &  91391.77  & 366168.42  & Florida    & 166187.94 \\\\\n",
       "\t 131876.90  &  99814.71  & 362861.36  & New York   & 156991.12 \\\\\n",
       "\t 134615.46  & 147198.87  & 127716.82  & California & 156122.51 \\\\\n",
       "\t 130298.13  & 145530.06  & 323876.68  & Florida    & 155752.60 \\\\\n",
       "\t 120542.52  & 148718.95  & 311613.29  & New York   & 152211.77 \\\\\n",
       "\t 123334.88  & 108679.17  & 304981.62  & California & 149759.96 \\\\\n",
       "\t 101913.08  & 110594.11  & 229160.95  & Florida    & 146121.95 \\\\\n",
       "\t 100671.96  &  91790.61  & 249744.55  & California & 144259.40 \\\\\n",
       "\t  93863.75  & 127320.38  & 249839.44  & Florida    & 141585.52 \\\\\n",
       "\t  91992.39  & 135495.07  & 252664.93  & California & 134307.35 \\\\\n",
       "\t 119943.24  & 156547.42  & 256512.92  & Florida    & 132602.65 \\\\\n",
       "\t 114523.61  & 122616.84  & 261776.23  & New York   & 129917.04 \\\\\n",
       "\t  78013.11  & 121597.55  & 264346.06  & California & 126992.93 \\\\\n",
       "\t  94657.16  & 145077.58  & 282574.31  & New York   & 125370.37 \\\\\n",
       "\t  91749.16  & 114175.79  & 294919.57  & Florida    & 124266.90 \\\\\n",
       "\t  86419.70  & 153514.11  &      0.00  & New York   & 122776.86 \\\\\n",
       "\t  76253.86  & 113867.30  & 298664.47  & California & 118474.03 \\\\\n",
       "\t  78389.47  & 153773.43  & 299737.29  & New York   & 111313.02 \\\\\n",
       "\t  73994.56  & 122782.75  & 303319.26  & Florida    & 110352.25 \\\\\n",
       "\t  67532.53  & 105751.03  & 304768.73  & Florida    & 108733.99 \\\\\n",
       "\t  77044.01  &  99281.34  & 140574.81  & New York   & 108552.04 \\\\\n",
       "\t  64664.71  & 139553.16  & 137962.62  & California & 107404.34 \\\\\n",
       "\t  75328.87  & 144135.98  & 134050.07  & Florida    & 105733.54 \\\\\n",
       "\t  72107.60  & 127864.55  & 353183.81  & New York   & 105008.31 \\\\\n",
       "\t  66051.52  & 182645.56  & 118148.20  & Florida    & 103282.38 \\\\\n",
       "\t  65605.48  & 153032.06  & 107138.38  & New York   & 101004.64 \\\\\n",
       "\t  61994.48  & 115641.28  &  91131.24  & Florida    &  99937.59 \\\\\n",
       "\t  61136.38  & 152701.92  &  88218.23  & New York   &  97483.56 \\\\\n",
       "\t  63408.86  & 129219.61  &  46085.25  & California &  97427.84 \\\\\n",
       "\t  55493.95  & 103057.49  & 214634.81  & Florida    &  96778.92 \\\\\n",
       "\t  46426.07  & 157693.92  & 210797.67  & California &  96712.80 \\\\\n",
       "\t  46014.02  &  85047.44  & 205517.64  & New York   &  96479.51 \\\\\n",
       "\t  28663.76  & 127056.21  & 201126.82  & Florida    &  90708.19 \\\\\n",
       "\t  44069.95  &  51283.14  & 197029.42  & California &  89949.14 \\\\\n",
       "\t  20229.59  &  65947.93  & 185265.10  & New York   &  81229.06 \\\\\n",
       "\t  38558.51  &  82982.09  & 174999.30  & California &  81005.76 \\\\\n",
       "\t  28754.33  & 118546.05  & 172795.67  & California &  78239.91 \\\\\n",
       "\t  27892.92  &  84710.77  & 164470.71  & Florida    &  77798.83 \\\\\n",
       "\t  23640.93  &  96189.63  & 148001.11  & California &  71498.49 \\\\\n",
       "\t  15505.73  & 127382.30  &  35534.17  & New York   &  69758.98 \\\\\n",
       "\t  22177.74  & 154806.14  &  28334.72  & California &  65200.33 \\\\\n",
       "\t   1000.23  & 124153.04  &   1903.93  & New York   &  64926.08 \\\\\n",
       "\t   1315.46  & 115816.21  & 297114.46  & Florida    &  49490.75 \\\\\n",
       "\t      0.00  & 135426.92  &      0.00  & California &  42559.73 \\\\\n",
       "\t    542.05  &  51743.15  &      0.00  & New York   &  35673.41 \\\\\n",
       "\t      0.00  & 116983.80  &  45173.06  & California &  14681.40 \\\\\n",
       "\\end{tabular}\n"
      ],
      "text/markdown": [
       "\n",
       "| R.D.Spend | Administration | Marketing.Spend | State | Profit |\n",
       "|---|---|---|---|---|\n",
       "| 165349.20  | 136897.80  | 471784.10  | New York   | 192261.83  |\n",
       "| 162597.70  | 151377.59  | 443898.53  | California | 191792.06  |\n",
       "| 153441.51  | 101145.55  | 407934.54  | Florida    | 191050.39  |\n",
       "| 144372.41  | 118671.85  | 383199.62  | New York   | 182901.99  |\n",
       "| 142107.34  |  91391.77  | 366168.42  | Florida    | 166187.94  |\n",
       "| 131876.90  |  99814.71  | 362861.36  | New York   | 156991.12  |\n",
       "| 134615.46  | 147198.87  | 127716.82  | California | 156122.51  |\n",
       "| 130298.13  | 145530.06  | 323876.68  | Florida    | 155752.60  |\n",
       "| 120542.52  | 148718.95  | 311613.29  | New York   | 152211.77  |\n",
       "| 123334.88  | 108679.17  | 304981.62  | California | 149759.96  |\n",
       "| 101913.08  | 110594.11  | 229160.95  | Florida    | 146121.95  |\n",
       "| 100671.96  |  91790.61  | 249744.55  | California | 144259.40  |\n",
       "|  93863.75  | 127320.38  | 249839.44  | Florida    | 141585.52  |\n",
       "|  91992.39  | 135495.07  | 252664.93  | California | 134307.35  |\n",
       "| 119943.24  | 156547.42  | 256512.92  | Florida    | 132602.65  |\n",
       "| 114523.61  | 122616.84  | 261776.23  | New York   | 129917.04  |\n",
       "|  78013.11  | 121597.55  | 264346.06  | California | 126992.93  |\n",
       "|  94657.16  | 145077.58  | 282574.31  | New York   | 125370.37  |\n",
       "|  91749.16  | 114175.79  | 294919.57  | Florida    | 124266.90  |\n",
       "|  86419.70  | 153514.11  |      0.00  | New York   | 122776.86  |\n",
       "|  76253.86  | 113867.30  | 298664.47  | California | 118474.03  |\n",
       "|  78389.47  | 153773.43  | 299737.29  | New York   | 111313.02  |\n",
       "|  73994.56  | 122782.75  | 303319.26  | Florida    | 110352.25  |\n",
       "|  67532.53  | 105751.03  | 304768.73  | Florida    | 108733.99  |\n",
       "|  77044.01  |  99281.34  | 140574.81  | New York   | 108552.04  |\n",
       "|  64664.71  | 139553.16  | 137962.62  | California | 107404.34  |\n",
       "|  75328.87  | 144135.98  | 134050.07  | Florida    | 105733.54  |\n",
       "|  72107.60  | 127864.55  | 353183.81  | New York   | 105008.31  |\n",
       "|  66051.52  | 182645.56  | 118148.20  | Florida    | 103282.38  |\n",
       "|  65605.48  | 153032.06  | 107138.38  | New York   | 101004.64  |\n",
       "|  61994.48  | 115641.28  |  91131.24  | Florida    |  99937.59  |\n",
       "|  61136.38  | 152701.92  |  88218.23  | New York   |  97483.56  |\n",
       "|  63408.86  | 129219.61  |  46085.25  | California |  97427.84  |\n",
       "|  55493.95  | 103057.49  | 214634.81  | Florida    |  96778.92  |\n",
       "|  46426.07  | 157693.92  | 210797.67  | California |  96712.80  |\n",
       "|  46014.02  |  85047.44  | 205517.64  | New York   |  96479.51  |\n",
       "|  28663.76  | 127056.21  | 201126.82  | Florida    |  90708.19  |\n",
       "|  44069.95  |  51283.14  | 197029.42  | California |  89949.14  |\n",
       "|  20229.59  |  65947.93  | 185265.10  | New York   |  81229.06  |\n",
       "|  38558.51  |  82982.09  | 174999.30  | California |  81005.76  |\n",
       "|  28754.33  | 118546.05  | 172795.67  | California |  78239.91  |\n",
       "|  27892.92  |  84710.77  | 164470.71  | Florida    |  77798.83  |\n",
       "|  23640.93  |  96189.63  | 148001.11  | California |  71498.49  |\n",
       "|  15505.73  | 127382.30  |  35534.17  | New York   |  69758.98  |\n",
       "|  22177.74  | 154806.14  |  28334.72  | California |  65200.33  |\n",
       "|   1000.23  | 124153.04  |   1903.93  | New York   |  64926.08  |\n",
       "|   1315.46  | 115816.21  | 297114.46  | Florida    |  49490.75  |\n",
       "|      0.00  | 135426.92  |      0.00  | California |  42559.73  |\n",
       "|    542.05  |  51743.15  |      0.00  | New York   |  35673.41  |\n",
       "|      0.00  | 116983.80  |  45173.06  | California |  14681.40  |\n",
       "\n"
      ],
      "text/plain": [
       "   R.D.Spend Administration Marketing.Spend State      Profit   \n",
       "1  165349.20 136897.80      471784.10       New York   192261.83\n",
       "2  162597.70 151377.59      443898.53       California 191792.06\n",
       "3  153441.51 101145.55      407934.54       Florida    191050.39\n",
       "4  144372.41 118671.85      383199.62       New York   182901.99\n",
       "5  142107.34  91391.77      366168.42       Florida    166187.94\n",
       "6  131876.90  99814.71      362861.36       New York   156991.12\n",
       "7  134615.46 147198.87      127716.82       California 156122.51\n",
       "8  130298.13 145530.06      323876.68       Florida    155752.60\n",
       "9  120542.52 148718.95      311613.29       New York   152211.77\n",
       "10 123334.88 108679.17      304981.62       California 149759.96\n",
       "11 101913.08 110594.11      229160.95       Florida    146121.95\n",
       "12 100671.96  91790.61      249744.55       California 144259.40\n",
       "13  93863.75 127320.38      249839.44       Florida    141585.52\n",
       "14  91992.39 135495.07      252664.93       California 134307.35\n",
       "15 119943.24 156547.42      256512.92       Florida    132602.65\n",
       "16 114523.61 122616.84      261776.23       New York   129917.04\n",
       "17  78013.11 121597.55      264346.06       California 126992.93\n",
       "18  94657.16 145077.58      282574.31       New York   125370.37\n",
       "19  91749.16 114175.79      294919.57       Florida    124266.90\n",
       "20  86419.70 153514.11           0.00       New York   122776.86\n",
       "21  76253.86 113867.30      298664.47       California 118474.03\n",
       "22  78389.47 153773.43      299737.29       New York   111313.02\n",
       "23  73994.56 122782.75      303319.26       Florida    110352.25\n",
       "24  67532.53 105751.03      304768.73       Florida    108733.99\n",
       "25  77044.01  99281.34      140574.81       New York   108552.04\n",
       "26  64664.71 139553.16      137962.62       California 107404.34\n",
       "27  75328.87 144135.98      134050.07       Florida    105733.54\n",
       "28  72107.60 127864.55      353183.81       New York   105008.31\n",
       "29  66051.52 182645.56      118148.20       Florida    103282.38\n",
       "30  65605.48 153032.06      107138.38       New York   101004.64\n",
       "31  61994.48 115641.28       91131.24       Florida     99937.59\n",
       "32  61136.38 152701.92       88218.23       New York    97483.56\n",
       "33  63408.86 129219.61       46085.25       California  97427.84\n",
       "34  55493.95 103057.49      214634.81       Florida     96778.92\n",
       "35  46426.07 157693.92      210797.67       California  96712.80\n",
       "36  46014.02  85047.44      205517.64       New York    96479.51\n",
       "37  28663.76 127056.21      201126.82       Florida     90708.19\n",
       "38  44069.95  51283.14      197029.42       California  89949.14\n",
       "39  20229.59  65947.93      185265.10       New York    81229.06\n",
       "40  38558.51  82982.09      174999.30       California  81005.76\n",
       "41  28754.33 118546.05      172795.67       California  78239.91\n",
       "42  27892.92  84710.77      164470.71       Florida     77798.83\n",
       "43  23640.93  96189.63      148001.11       California  71498.49\n",
       "44  15505.73 127382.30       35534.17       New York    69758.98\n",
       "45  22177.74 154806.14       28334.72       California  65200.33\n",
       "46   1000.23 124153.04        1903.93       New York    64926.08\n",
       "47   1315.46 115816.21      297114.46       Florida     49490.75\n",
       "48      0.00 135426.92           0.00       California  42559.73\n",
       "49    542.05  51743.15           0.00       New York    35673.41\n",
       "50      0.00 116983.80       45173.06       California  14681.40"
      ]
     },
     "metadata": {},
     "output_type": "display_data"
    }
   ],
   "source": [
    "df = read.csv('C:/Users/MANI/Documents/R sem 2/linear_regression/50_Startups.csv')\n",
    "df"
   ]
  },
  {
   "cell_type": "code",
   "execution_count": 3,
   "metadata": {},
   "outputs": [
    {
     "name": "stderr",
     "output_type": "stream",
     "text": [
      "Registered S3 methods overwritten by 'ggplot2':\n",
      "  method         from \n",
      "  [.quosures     rlang\n",
      "  c.quosures     rlang\n",
      "  print.quosures rlang\n",
      "Warning message:\n",
      "\"package 'corrgram' was built under R version 3.6.2\"Registered S3 method overwritten by 'seriation':\n",
      "  method         from \n",
      "  reorder.hclust gclus\n",
      "Warning message:\n",
      "\"package 'corrplot' was built under R version 3.6.2\"corrplot 0.84 loaded\n"
     ]
    }
   ],
   "source": [
    "library(ggplot2)\n",
    "library(caTools)\n",
    "library(corrgram)\n",
    "library(corrplot)"
   ]
  },
  {
   "cell_type": "code",
   "execution_count": 4,
   "metadata": {},
   "outputs": [
    {
     "data": {
      "text/plain": [
       "   R.D.Spend      Administration   Marketing.Spend         State   \n",
       " Min.   :     0   Min.   : 51283   Min.   :     0   California:17  \n",
       " 1st Qu.: 39936   1st Qu.:103731   1st Qu.:129300   Florida   :16  \n",
       " Median : 73051   Median :122700   Median :212716   New York  :17  \n",
       " Mean   : 73722   Mean   :121345   Mean   :211025                  \n",
       " 3rd Qu.:101603   3rd Qu.:144842   3rd Qu.:299469                  \n",
       " Max.   :165349   Max.   :182646   Max.   :471784                  \n",
       "     Profit      \n",
       " Min.   : 14681  \n",
       " 1st Qu.: 90139  \n",
       " Median :107978  \n",
       " Mean   :112013  \n",
       " 3rd Qu.:139766  \n",
       " Max.   :192262  "
      ]
     },
     "metadata": {},
     "output_type": "display_data"
    }
   ],
   "source": [
    "summary(df)"
   ]
  },
  {
   "cell_type": "code",
   "execution_count": 5,
   "metadata": {},
   "outputs": [
    {
     "name": "stdout",
     "output_type": "stream",
     "text": [
      "'data.frame':\t50 obs. of  5 variables:\n",
      " $ R.D.Spend      : num  165349 162598 153442 144372 142107 ...\n",
      " $ Administration : num  136898 151378 101146 118672 91392 ...\n",
      " $ Marketing.Spend: num  471784 443899 407935 383200 366168 ...\n",
      " $ State          : Factor w/ 3 levels \"California\",\"Florida\",..: 3 1 2 3 2 3 1 2 3 1 ...\n",
      " $ Profit         : num  192262 191792 191050 182902 166188 ...\n"
     ]
    }
   ],
   "source": [
    "str(df)"
   ]
  },
  {
   "cell_type": "markdown",
   "metadata": {},
   "source": [
    "# interpretation of structure the data has 50 observations and 5 columns"
   ]
  },
  {
   "cell_type": "code",
   "execution_count": 6,
   "metadata": {},
   "outputs": [
    {
     "data": {
      "text/html": [
       "FALSE"
      ],
      "text/latex": [
       "FALSE"
      ],
      "text/markdown": [
       "FALSE"
      ],
      "text/plain": [
       "[1] FALSE"
      ]
     },
     "metadata": {},
     "output_type": "display_data"
    }
   ],
   "source": [
    "any(is.na(df))"
   ]
  },
  {
   "cell_type": "code",
   "execution_count": 7,
   "metadata": {},
   "outputs": [],
   "source": [
    "num.cols <- sapply(df, is.numeric)"
   ]
  },
  {
   "cell_type": "code",
   "execution_count": 9,
   "metadata": {},
   "outputs": [],
   "source": [
    "cor.data <- cor(df[,num.cols])"
   ]
  },
  {
   "cell_type": "code",
   "execution_count": 11,
   "metadata": {},
   "outputs": [
    {
     "data": {
      "text/html": [
       "<table>\n",
       "<thead><tr><th></th><th scope=col>R.D.Spend</th><th scope=col>Administration</th><th scope=col>Marketing.Spend</th><th scope=col>Profit</th></tr></thead>\n",
       "<tbody>\n",
       "\t<tr><th scope=row>R.D.Spend</th><td>1.0000000  </td><td> 0.24195525</td><td> 0.72424813</td><td>0.9729005  </td></tr>\n",
       "\t<tr><th scope=row>Administration</th><td>0.2419552  </td><td> 1.00000000</td><td>-0.03215388</td><td>0.2007166  </td></tr>\n",
       "\t<tr><th scope=row>Marketing.Spend</th><td>0.7242481  </td><td>-0.03215388</td><td> 1.00000000</td><td>0.7477657  </td></tr>\n",
       "\t<tr><th scope=row>Profit</th><td>0.9729005  </td><td> 0.20071657</td><td> 0.74776572</td><td>1.0000000  </td></tr>\n",
       "</tbody>\n",
       "</table>\n"
      ],
      "text/latex": [
       "\\begin{tabular}{r|llll}\n",
       "  & R.D.Spend & Administration & Marketing.Spend & Profit\\\\\n",
       "\\hline\n",
       "\tR.D.Spend & 1.0000000   &  0.24195525 &  0.72424813 & 0.9729005  \\\\\n",
       "\tAdministration & 0.2419552   &  1.00000000 & -0.03215388 & 0.2007166  \\\\\n",
       "\tMarketing.Spend & 0.7242481   & -0.03215388 &  1.00000000 & 0.7477657  \\\\\n",
       "\tProfit & 0.9729005   &  0.20071657 &  0.74776572 & 1.0000000  \\\\\n",
       "\\end{tabular}\n"
      ],
      "text/markdown": [
       "\n",
       "| <!--/--> | R.D.Spend | Administration | Marketing.Spend | Profit |\n",
       "|---|---|---|---|---|\n",
       "| R.D.Spend | 1.0000000   |  0.24195525 |  0.72424813 | 0.9729005   |\n",
       "| Administration | 0.2419552   |  1.00000000 | -0.03215388 | 0.2007166   |\n",
       "| Marketing.Spend | 0.7242481   | -0.03215388 |  1.00000000 | 0.7477657   |\n",
       "| Profit | 0.9729005   |  0.20071657 |  0.74776572 | 1.0000000   |\n",
       "\n"
      ],
      "text/plain": [
       "                R.D.Spend Administration Marketing.Spend Profit   \n",
       "R.D.Spend       1.0000000  0.24195525     0.72424813     0.9729005\n",
       "Administration  0.2419552  1.00000000    -0.03215388     0.2007166\n",
       "Marketing.Spend 0.7242481 -0.03215388     1.00000000     0.7477657\n",
       "Profit          0.9729005  0.20071657     0.74776572     1.0000000"
      ]
     },
     "metadata": {},
     "output_type": "display_data"
    }
   ],
   "source": [
    "cor.data"
   ]
  },
  {
   "cell_type": "code",
   "execution_count": 12,
   "metadata": {},
   "outputs": [
    {
     "data": {
      "image/png": "[encoded data removed]",
      "text/plain": [
       "Plot with title \"\""
      ]
     },
     "metadata": {},
     "output_type": "display_data"
    }
   ],
   "source": [
    "corrplot(cor.data, method='number')"
   ]
  },
  {
   "cell_type": "markdown",
   "metadata": {},
   "source": [
    "# Interpretation of the above correlation matrix tells that the profit is highly correlated with R&D spend that is 97% and with the marketing spend is 75%...So more profits comes from where startups are spending more money on R&D spend."
   ]
  },
  {
   "cell_type": "code",
   "execution_count": 13,
   "metadata": {},
   "outputs": [
    {
     "data": {
      "image/png": "[encoded data removed]",
      "text/plain": [
       "plot without title"
      ]
     },
     "metadata": {},
     "output_type": "display_data"
    }
   ],
   "source": [
    "corrgram(df,order=TRUE, lower.panel=panel.shade,upper.panel=panel.pie, text.panel=panel.txt)"
   ]
  },
  {
   "cell_type": "code",
   "execution_count": 14,
   "metadata": {},
   "outputs": [
    {
     "data": {
      "image/png": "[encoded data removed]",
      "text/plain": [
       "plot without title"
      ]
     },
     "metadata": {},
     "output_type": "display_data"
    }
   ],
   "source": [
    "ggplot(df,aes(x=Profit)) + geom_histogram(bins=20,alpha=0.4,fill='blue')"
   ]
  },
  {
   "cell_type": "markdown",
   "metadata": {},
   "source": [
    "# Interpretation from the histogram we can say that the the mean profit is around 1 lakh.There are some companies who has profits less than 50000 and companies who has more than 150000."
   ]
  },
  {
   "cell_type": "code",
   "execution_count": 15,
   "metadata": {},
   "outputs": [],
   "source": [
    "library(caTools)\n",
    "set.seed(101)"
   ]
  },
  {
   "cell_type": "code",
   "execution_count": 16,
   "metadata": {},
   "outputs": [],
   "source": [
    "sample <- sample.split(df$Profit, SplitRatio = 0.70)"
   ]
  },
  {
   "cell_type": "code",
   "execution_count": 17,
   "metadata": {},
   "outputs": [],
   "source": [
    "train = subset(df, sample == TRUE)"
   ]
  },
  {
   "cell_type": "code",
   "execution_count": 18,
   "metadata": {},
   "outputs": [],
   "source": [
    "test = subset(df, sample == FALSE)"
   ]
  },
  {
   "cell_type": "code",
   "execution_count": 19,
   "metadata": {},
   "outputs": [],
   "source": [
    "model <- lm(Profit ~ R.D.Spend + Marketing.Spend ,train)"
   ]
  },
  {
   "cell_type": "code",
   "execution_count": 20,
   "metadata": {},
   "outputs": [
    {
     "data": {
      "text/plain": [
       "\n",
       "Call:\n",
       "lm(formula = Profit ~ R.D.Spend + Marketing.Spend, data = train)\n",
       "\n",
       "Residuals:\n",
       "   Min     1Q Median     3Q    Max \n",
       "-34957  -2620    -27   3814  15582 \n",
       "\n",
       "Coefficients:\n",
       "                 Estimate Std. Error t value Pr(>|t|)    \n",
       "(Intercept)     4.852e+04  3.339e+03  14.531 1.21e-15 ***\n",
       "R.D.Spend       7.745e-01  4.623e-02  16.755  < 2e-16 ***\n",
       "Marketing.Spend 2.470e-02  1.706e-02   1.447    0.158    \n",
       "---\n",
       "Signif. codes:  0 '***' 0.001 '**' 0.01 '*' 0.05 '.' 0.1 ' ' 1\n",
       "\n",
       "Residual standard error: 9515 on 32 degrees of freedom\n",
       "Multiple R-squared:  0.9478,\tAdjusted R-squared:  0.9445 \n",
       "F-statistic: 290.3 on 2 and 32 DF,  p-value: < 2.2e-16\n"
      ]
     },
     "metadata": {},
     "output_type": "display_data"
    }
   ],
   "source": [
    "summary(model)"
   ]
  },
  {
   "cell_type": "markdown",
   "metadata": {},
   "source": [
    "# Interpretation of summary model gives that R&D spend ,marketing spend has more stars.Those variables are highly statistically significant for dependent variable.So we will use that independent variables to predict profit(response variable)."
   ]
  },
  {
   "cell_type": "code",
   "execution_count": 21,
   "metadata": {},
   "outputs": [],
   "source": [
    "res <- residuals(model)"
   ]
  },
  {
   "cell_type": "code",
   "execution_count": 22,
   "metadata": {},
   "outputs": [],
   "source": [
    "res <- as.data.frame(res)"
   ]
  },
  {
   "cell_type": "code",
   "execution_count": 23,
   "metadata": {},
   "outputs": [
    {
     "data": {
      "text/html": [
       "<table>\n",
       "<thead><tr><th></th><th scope=col>res</th></tr></thead>\n",
       "<tbody>\n",
       "\t<tr><th scope=row>1</th><td> 4017.7553</td></tr>\n",
       "\t<tr><th scope=row>2</th><td> 6367.8252</td></tr>\n",
       "\t<tr><th scope=row>4</th><td>13093.0656</td></tr>\n",
       "\t<tr><th scope=row>5</th><td>-1445.9753</td></tr>\n",
       "\t<tr><th scope=row>6</th><td>-2637.2303</td></tr>\n",
       "\t<tr><th scope=row>7</th><td>  180.4135</td></tr>\n",
       "</tbody>\n",
       "</table>\n"
      ],
      "text/latex": [
       "\\begin{tabular}{r|l}\n",
       "  & res\\\\\n",
       "\\hline\n",
       "\t1 &  4017.7553\\\\\n",
       "\t2 &  6367.8252\\\\\n",
       "\t4 & 13093.0656\\\\\n",
       "\t5 & -1445.9753\\\\\n",
       "\t6 & -2637.2303\\\\\n",
       "\t7 &   180.4135\\\\\n",
       "\\end{tabular}\n"
      ],
      "text/markdown": [
       "\n",
       "| <!--/--> | res |\n",
       "|---|---|\n",
       "| 1 |  4017.7553 |\n",
       "| 2 |  6367.8252 |\n",
       "| 4 | 13093.0656 |\n",
       "| 5 | -1445.9753 |\n",
       "| 6 | -2637.2303 |\n",
       "| 7 |   180.4135 |\n",
       "\n"
      ],
      "text/plain": [
       "  res       \n",
       "1  4017.7553\n",
       "2  6367.8252\n",
       "4 13093.0656\n",
       "5 -1445.9753\n",
       "6 -2637.2303\n",
       "7   180.4135"
      ]
     },
     "metadata": {},
     "output_type": "display_data"
    }
   ],
   "source": [
    "head(res)"
   ]
  },
  {
   "cell_type": "code",
   "execution_count": 24,
   "metadata": {},
   "outputs": [
    {
     "name": "stderr",
     "output_type": "stream",
     "text": [
      "`stat_bin()` using `bins = 30`. Pick better value with `binwidth`.\n"
     ]
    },
    {
     "data": {
      "image/png": "[encoded data removed]",
      "text/plain": [
       "plot without title"
      ]
     },
     "metadata": {},
     "output_type": "display_data"
    }
   ],
   "source": [
    "ggplot(res,aes(res)) +  geom_histogram(fill='blue',alpha=0.5)"
   ]
  },
  {
   "cell_type": "code",
   "execution_count": 25,
   "metadata": {},
   "outputs": [],
   "source": [
    "Profit.predictions <- predict(model,test)"
   ]
  },
  {
   "cell_type": "code",
   "execution_count": 26,
   "metadata": {},
   "outputs": [
    {
     "data": {
      "text/html": [
       "<table>\n",
       "<thead><tr><th></th><th scope=col>pred</th><th scope=col>real</th></tr></thead>\n",
       "<tbody>\n",
       "\t<tr><th scope=row>3</th><td>177444.19</td><td>191050.39</td></tr>\n",
       "\t<tr><th scope=row>11</th><td>133118.15</td><td>146121.95</td></tr>\n",
       "\t<tr><th scope=row>12</th><td>132665.21</td><td>144259.40</td></tr>\n",
       "\t<tr><th scope=row>13</th><td>127394.32</td><td>141585.52</td></tr>\n",
       "\t<tr><th scope=row>14</th><td>126014.65</td><td>134307.35</td></tr>\n",
       "\t<tr><th scope=row>17</th><td>115475.62</td><td>126992.93</td></tr>\n",
       "\t<tr><th scope=row>22</th><td>116641.19</td><td>111313.02</td></tr>\n",
       "\t<tr><th scope=row>25</th><td>111668.23</td><td>108552.04</td></tr>\n",
       "\t<tr><th scope=row>26</th><td>102015.45</td><td>107404.34</td></tr>\n",
       "\t<tr><th scope=row>36</th><td> 89238.14</td><td> 96479.51</td></tr>\n",
       "\t<tr><th scope=row>38</th><td> 87522.75</td><td> 89949.14</td></tr>\n",
       "\t<tr><th scope=row>40</th><td> 82709.83</td><td> 81005.76</td></tr>\n",
       "\t<tr><th scope=row>43</th><td> 70488.79</td><td> 71498.49</td></tr>\n",
       "\t<tr><th scope=row>48</th><td> 48522.74</td><td> 42559.73</td></tr>\n",
       "\t<tr><th scope=row>49</th><td> 48942.58</td><td> 35673.41</td></tr>\n",
       "</tbody>\n",
       "</table>\n"
      ],
      "text/latex": [
       "\\begin{tabular}{r|ll}\n",
       "  & pred & real\\\\\n",
       "\\hline\n",
       "\t3 & 177444.19 & 191050.39\\\\\n",
       "\t11 & 133118.15 & 146121.95\\\\\n",
       "\t12 & 132665.21 & 144259.40\\\\\n",
       "\t13 & 127394.32 & 141585.52\\\\\n",
       "\t14 & 126014.65 & 134307.35\\\\\n",
       "\t17 & 115475.62 & 126992.93\\\\\n",
       "\t22 & 116641.19 & 111313.02\\\\\n",
       "\t25 & 111668.23 & 108552.04\\\\\n",
       "\t26 & 102015.45 & 107404.34\\\\\n",
       "\t36 &  89238.14 &  96479.51\\\\\n",
       "\t38 &  87522.75 &  89949.14\\\\\n",
       "\t40 &  82709.83 &  81005.76\\\\\n",
       "\t43 &  70488.79 &  71498.49\\\\\n",
       "\t48 &  48522.74 &  42559.73\\\\\n",
       "\t49 &  48942.58 &  35673.41\\\\\n",
       "\\end{tabular}\n"
      ],
      "text/markdown": [
       "\n",
       "| <!--/--> | pred | real |\n",
       "|---|---|---|\n",
       "| 3 | 177444.19 | 191050.39 |\n",
       "| 11 | 133118.15 | 146121.95 |\n",
       "| 12 | 132665.21 | 144259.40 |\n",
       "| 13 | 127394.32 | 141585.52 |\n",
       "| 14 | 126014.65 | 134307.35 |\n",
       "| 17 | 115475.62 | 126992.93 |\n",
       "| 22 | 116641.19 | 111313.02 |\n",
       "| 25 | 111668.23 | 108552.04 |\n",
       "| 26 | 102015.45 | 107404.34 |\n",
       "| 36 |  89238.14 |  96479.51 |\n",
       "| 38 |  87522.75 |  89949.14 |\n",
       "| 40 |  82709.83 |  81005.76 |\n",
       "| 43 |  70488.79 |  71498.49 |\n",
       "| 48 |  48522.74 |  42559.73 |\n",
       "| 49 |  48942.58 |  35673.41 |\n",
       "\n"
      ],
      "text/plain": [
       "   pred      real     \n",
       "3  177444.19 191050.39\n",
       "11 133118.15 146121.95\n",
       "12 132665.21 144259.40\n",
       "13 127394.32 141585.52\n",
       "14 126014.65 134307.35\n",
       "17 115475.62 126992.93\n",
       "22 116641.19 111313.02\n",
       "25 111668.23 108552.04\n",
       "26 102015.45 107404.34\n",
       "36  89238.14  96479.51\n",
       "38  87522.75  89949.14\n",
       "40  82709.83  81005.76\n",
       "43  70488.79  71498.49\n",
       "48  48522.74  42559.73\n",
       "49  48942.58  35673.41"
      ]
     },
     "metadata": {},
     "output_type": "display_data"
    }
   ],
   "source": [
    "results <- cbind(Profit.predictions,test$Profit) \n",
    "colnames(results) <- c('pred','real')\n",
    "results <- as.data.frame(results)\n",
    "results"
   ]
  },
  {
   "cell_type": "code",
   "execution_count": 27,
   "metadata": {},
   "outputs": [],
   "source": [
    "#removing negative predictions\n",
    "to_zero <- function(x){\n",
    "  if  (x < 0){\n",
    "    return(0)\n",
    "  }else{\n",
    "    return(x)\n",
    "  }\n",
    "}"
   ]
  },
  {
   "cell_type": "code",
   "execution_count": 28,
   "metadata": {},
   "outputs": [
    {
     "name": "stdout",
     "output_type": "stream",
     "text": [
      "        pred      real\n",
      "3  177444.19 191050.39\n",
      "11 133118.15 146121.95\n",
      "12 132665.21 144259.40\n",
      "13 127394.32 141585.52\n",
      "14 126014.65 134307.35\n",
      "17 115475.62 126992.93\n",
      "22 116641.19 111313.02\n",
      "25 111668.23 108552.04\n",
      "26 102015.45 107404.34\n",
      "36  89238.14  96479.51\n",
      "38  87522.75  89949.14\n",
      "40  82709.83  81005.76\n",
      "43  70488.79  71498.49\n",
      "48  48522.74  42559.73\n",
      "49  48942.58  35673.41\n"
     ]
    }
   ],
   "source": [
    "results$pred <- sapply(results$pred,to_zero)\n",
    "print(results)"
   ]
  },
  {
   "cell_type": "code",
   "execution_count": 29,
   "metadata": {},
   "outputs": [
    {
     "name": "stdout",
     "output_type": "stream",
     "text": [
      "[1] 82165124\n"
     ]
    },
    {
     "data": {
      "text/html": [
       "9064.49800405407"
      ],
      "text/latex": [
       "9064.49800405407"
      ],
      "text/markdown": [
       "9064.49800405407"
      ],
      "text/plain": [
       "[1] 9064.498"
      ]
     },
     "metadata": {},
     "output_type": "display_data"
    },
    {
     "data": {
      "text/html": [
       "0.948779689253511"
      ],
      "text/latex": [
       "0.948779689253511"
      ],
      "text/markdown": [
       "0.948779689253511"
      ],
      "text/plain": [
       "[1] 0.9487797"
      ]
     },
     "metadata": {},
     "output_type": "display_data"
    }
   ],
   "source": [
    "#evaluate the model\n",
    "mse <- mean((results$real-results$pred)^2)\n",
    "print(mse)\n",
    "\n",
    "mse^0.5\n",
    "\n",
    "SSE = sum((results$pred - results$real)^2)\n",
    "SST = sum( (mean(df$Profit) - results$real)^2)\n",
    "\n",
    "\n",
    "R2 = 1 - SSE/SST\n",
    "R2"
   ]
  },
  {
   "cell_type": "markdown",
   "metadata": {},
   "source": [
    "# Interpretation of R2 in multiple linear regression it gives us 86 percent accuracy that the model can explain the variability of response data around its line of fit."
   ]
  },
  {
   "cell_type": "markdown",
   "metadata": {},
   "source": [
    "# simple linear regression"
   ]
  },
  {
   "cell_type": "code",
   "execution_count": 30,
   "metadata": {},
   "outputs": [],
   "source": [
    "model <- lm(Profit ~ R.D.Spend,train)"
   ]
  },
  {
   "cell_type": "code",
   "execution_count": 31,
   "metadata": {},
   "outputs": [
    {
     "data": {
      "text/plain": [
       "\n",
       "Call:\n",
       "lm(formula = Profit ~ R.D.Spend, data = train)\n",
       "\n",
       "Residuals:\n",
       "   Min     1Q Median     3Q    Max \n",
       "-35721  -3106  -1266   5047  16809 \n",
       "\n",
       "Coefficients:\n",
       "             Estimate Std. Error t value Pr(>|t|)    \n",
       "(Intercept) 5.040e+04  3.127e+03   16.12   <2e-16 ***\n",
       "R.D.Spend   8.197e-01  3.464e-02   23.66   <2e-16 ***\n",
       "---\n",
       "Signif. codes:  0 '***' 0.001 '**' 0.01 '*' 0.05 '.' 0.1 ' ' 1\n",
       "\n",
       "Residual standard error: 9672 on 33 degrees of freedom\n",
       "Multiple R-squared:  0.9443,\tAdjusted R-squared:  0.9427 \n",
       "F-statistic:   560 on 1 and 33 DF,  p-value: < 2.2e-16\n"
      ]
     },
     "metadata": {},
     "output_type": "display_data"
    }
   ],
   "source": [
    "summary(model)"
   ]
  },
  {
   "cell_type": "markdown",
   "metadata": {},
   "source": [
    "# In simple linear regression we took R.D.Spend as independent variable because it has more correlation with the profit and we trained the model using lm method."
   ]
  },
  {
   "cell_type": "code",
   "execution_count": 32,
   "metadata": {},
   "outputs": [],
   "source": [
    "res <- residuals(model)"
   ]
  },
  {
   "cell_type": "code",
   "execution_count": 33,
   "metadata": {},
   "outputs": [],
   "source": [
    "res <- as.data.frame(res)"
   ]
  },
  {
   "cell_type": "code",
   "execution_count": 34,
   "metadata": {},
   "outputs": [
    {
     "data": {
      "text/html": [
       "<table>\n",
       "<thead><tr><th></th><th scope=col>res</th></tr></thead>\n",
       "<tbody>\n",
       "\t<tr><th scope=row>1</th><td> 6314.7894</td></tr>\n",
       "\t<tr><th scope=row>2</th><td> 8100.5555</td></tr>\n",
       "\t<tr><th scope=row>4</th><td>14150.6268</td></tr>\n",
       "\t<tr><th scope=row>5</th><td> -706.6371</td></tr>\n",
       "\t<tr><th scope=row>6</th><td>-1517.0764</td></tr>\n",
       "\t<tr><th scope=row>7</th><td>-4630.6150</td></tr>\n",
       "</tbody>\n",
       "</table>\n"
      ],
      "text/latex": [
       "\\begin{tabular}{r|l}\n",
       "  & res\\\\\n",
       "\\hline\n",
       "\t1 &  6314.7894\\\\\n",
       "\t2 &  8100.5555\\\\\n",
       "\t4 & 14150.6268\\\\\n",
       "\t5 &  -706.6371\\\\\n",
       "\t6 & -1517.0764\\\\\n",
       "\t7 & -4630.6150\\\\\n",
       "\\end{tabular}\n"
      ],
      "text/markdown": [
       "\n",
       "| <!--/--> | res |\n",
       "|---|---|\n",
       "| 1 |  6314.7894 |\n",
       "| 2 |  8100.5555 |\n",
       "| 4 | 14150.6268 |\n",
       "| 5 |  -706.6371 |\n",
       "| 6 | -1517.0764 |\n",
       "| 7 | -4630.6150 |\n",
       "\n"
      ],
      "text/plain": [
       "  res       \n",
       "1  6314.7894\n",
       "2  8100.5555\n",
       "4 14150.6268\n",
       "5  -706.6371\n",
       "6 -1517.0764\n",
       "7 -4630.6150"
      ]
     },
     "metadata": {},
     "output_type": "display_data"
    }
   ],
   "source": [
    "head(res)"
   ]
  },
  {
   "cell_type": "code",
   "execution_count": 35,
   "metadata": {},
   "outputs": [
    {
     "name": "stderr",
     "output_type": "stream",
     "text": [
      "`stat_bin()` using `bins = 30`. Pick better value with `binwidth`.\n"
     ]
    },
    {
     "data": {
      "image/png": "[encoded data removed]",
      "text/plain": [
       "plot without title"
      ]
     },
     "metadata": {},
     "output_type": "display_data"
    }
   ],
   "source": [
    "ggplot(res,aes(res)) +  geom_histogram(fill='blue',alpha=0.5)"
   ]
  },
  {
   "cell_type": "code",
   "execution_count": 36,
   "metadata": {},
   "outputs": [],
   "source": [
    "Profit.predictions <- predict(model,test)"
   ]
  },
  {
   "cell_type": "code",
   "execution_count": 37,
   "metadata": {},
   "outputs": [
    {
     "data": {
      "text/html": [
       "<table>\n",
       "<thead><tr><th></th><th scope=col>pred</th><th scope=col>real</th></tr></thead>\n",
       "<tbody>\n",
       "\t<tr><th scope=row>3</th><td>176185.74</td><td>191050.39</td></tr>\n",
       "\t<tr><th scope=row>11</th><td>133945.42</td><td>146121.95</td></tr>\n",
       "\t<tr><th scope=row>12</th><td>132928.02</td><td>144259.40</td></tr>\n",
       "\t<tr><th scope=row>13</th><td>127347.00</td><td>141585.52</td></tr>\n",
       "\t<tr><th scope=row>14</th><td>125812.96</td><td>134307.35</td></tr>\n",
       "\t<tr><th scope=row>17</th><td>114353.47</td><td>126992.93</td></tr>\n",
       "\t<tr><th scope=row>22</th><td>114661.99</td><td>111313.02</td></tr>\n",
       "\t<tr><th scope=row>25</th><td>113559.06</td><td>108552.04</td></tr>\n",
       "\t<tr><th scope=row>26</th><td>103411.15</td><td>107404.34</td></tr>\n",
       "\t<tr><th scope=row>36</th><td> 88122.29</td><td> 96479.51</td></tr>\n",
       "\t<tr><th scope=row>38</th><td> 86528.64</td><td> 89949.14</td></tr>\n",
       "\t<tr><th scope=row>40</th><td> 82010.65</td><td> 81005.76</td></tr>\n",
       "\t<tr><th scope=row>43</th><td> 69782.00</td><td> 71498.49</td></tr>\n",
       "\t<tr><th scope=row>48</th><td> 50402.40</td><td> 42559.73</td></tr>\n",
       "\t<tr><th scope=row>49</th><td> 50846.74</td><td> 35673.41</td></tr>\n",
       "</tbody>\n",
       "</table>\n"
      ],
      "text/latex": [
       "\\begin{tabular}{r|ll}\n",
       "  & pred & real\\\\\n",
       "\\hline\n",
       "\t3 & 176185.74 & 191050.39\\\\\n",
       "\t11 & 133945.42 & 146121.95\\\\\n",
       "\t12 & 132928.02 & 144259.40\\\\\n",
       "\t13 & 127347.00 & 141585.52\\\\\n",
       "\t14 & 125812.96 & 134307.35\\\\\n",
       "\t17 & 114353.47 & 126992.93\\\\\n",
       "\t22 & 114661.99 & 111313.02\\\\\n",
       "\t25 & 113559.06 & 108552.04\\\\\n",
       "\t26 & 103411.15 & 107404.34\\\\\n",
       "\t36 &  88122.29 &  96479.51\\\\\n",
       "\t38 &  86528.64 &  89949.14\\\\\n",
       "\t40 &  82010.65 &  81005.76\\\\\n",
       "\t43 &  69782.00 &  71498.49\\\\\n",
       "\t48 &  50402.40 &  42559.73\\\\\n",
       "\t49 &  50846.74 &  35673.41\\\\\n",
       "\\end{tabular}\n"
      ],
      "text/markdown": [
       "\n",
       "| <!--/--> | pred | real |\n",
       "|---|---|---|\n",
       "| 3 | 176185.74 | 191050.39 |\n",
       "| 11 | 133945.42 | 146121.95 |\n",
       "| 12 | 132928.02 | 144259.40 |\n",
       "| 13 | 127347.00 | 141585.52 |\n",
       "| 14 | 125812.96 | 134307.35 |\n",
       "| 17 | 114353.47 | 126992.93 |\n",
       "| 22 | 114661.99 | 111313.02 |\n",
       "| 25 | 113559.06 | 108552.04 |\n",
       "| 26 | 103411.15 | 107404.34 |\n",
       "| 36 |  88122.29 |  96479.51 |\n",
       "| 38 |  86528.64 |  89949.14 |\n",
       "| 40 |  82010.65 |  81005.76 |\n",
       "| 43 |  69782.00 |  71498.49 |\n",
       "| 48 |  50402.40 |  42559.73 |\n",
       "| 49 |  50846.74 |  35673.41 |\n",
       "\n"
      ],
      "text/plain": [
       "   pred      real     \n",
       "3  176185.74 191050.39\n",
       "11 133945.42 146121.95\n",
       "12 132928.02 144259.40\n",
       "13 127347.00 141585.52\n",
       "14 125812.96 134307.35\n",
       "17 114353.47 126992.93\n",
       "22 114661.99 111313.02\n",
       "25 113559.06 108552.04\n",
       "26 103411.15 107404.34\n",
       "36  88122.29  96479.51\n",
       "38  86528.64  89949.14\n",
       "40  82010.65  81005.76\n",
       "43  69782.00  71498.49\n",
       "48  50402.40  42559.73\n",
       "49  50846.74  35673.41"
      ]
     },
     "metadata": {},
     "output_type": "display_data"
    }
   ],
   "source": [
    "results <- cbind(Profit.predictions,test$Profit) \n",
    "colnames(results) <- c('pred','real')\n",
    "results <- as.data.frame(results)\n",
    "results"
   ]
  },
  {
   "cell_type": "code",
   "execution_count": 38,
   "metadata": {},
   "outputs": [],
   "source": [
    "#removing negative predictions\n",
    "to_zero <- function(x){\n",
    "  if  (x < 0){\n",
    "    return(0)\n",
    "  }else{\n",
    "    return(x)\n",
    "  }\n",
    "}"
   ]
  },
  {
   "cell_type": "code",
   "execution_count": 39,
   "metadata": {},
   "outputs": [
    {
     "name": "stdout",
     "output_type": "stream",
     "text": [
      "        pred      real\n",
      "3  176185.74 191050.39\n",
      "11 133945.42 146121.95\n",
      "12 132928.02 144259.40\n",
      "13 127347.00 141585.52\n",
      "14 125812.96 134307.35\n",
      "17 114353.47 126992.93\n",
      "22 114661.99 111313.02\n",
      "25 113559.06 108552.04\n",
      "26 103411.15 107404.34\n",
      "36  88122.29  96479.51\n",
      "38  86528.64  89949.14\n",
      "40  82010.65  81005.76\n",
      "43  69782.00  71498.49\n",
      "48  50402.40  42559.73\n",
      "49  50846.74  35673.41\n"
     ]
    }
   ],
   "source": [
    "results$pred <- sapply(results$pred,to_zero)\n",
    "print(results)"
   ]
  },
  {
   "cell_type": "code",
   "execution_count": 40,
   "metadata": {},
   "outputs": [
    {
     "name": "stdout",
     "output_type": "stream",
     "text": [
      "[1] 90782664\n"
     ]
    },
    {
     "data": {
      "text/html": [
       "9527.99367945765"
      ],
      "text/latex": [
       "9527.99367945765"
      ],
      "text/markdown": [
       "9527.99367945765"
      ],
      "text/plain": [
       "[1] 9527.994"
      ]
     },
     "metadata": {},
     "output_type": "display_data"
    },
    {
     "data": {
      "text/html": [
       "0.943407664862595"
      ],
      "text/latex": [
       "0.943407664862595"
      ],
      "text/markdown": [
       "0.943407664862595"
      ],
      "text/plain": [
       "[1] 0.9434077"
      ]
     },
     "metadata": {},
     "output_type": "display_data"
    }
   ],
   "source": [
    "#evaluate the model\n",
    "mse <- mean((results$real-results$pred)^2)\n",
    "print(mse)\n",
    "\n",
    "mse^0.5\n",
    "\n",
    "SSE = sum((results$pred - results$real)^2)\n",
    "SST = sum( (mean(df$Profit) - results$real)^2)\n",
    "\n",
    "\n",
    "R2 = 1 - SSE/SST\n",
    "R2"
   ]
  },
  {
   "cell_type": "markdown",
   "metadata": {},
   "source": [
    "# Interpretation of R2 in simple linear regression it gives the 87% accuracy that the model can explain variability of response data around its line of fit."
   ]
  },
  {
   "cell_type": "code",
   "execution_count": 41,
   "metadata": {},
   "outputs": [
    {
     "data": {
      "image/png": "[encoded data removed]",
      "text/plain": [
       "plot without title"
      ]
     },
     "metadata": {},
     "output_type": "display_data"
    }
   ],
   "source": [
    "ggplot()+\n",
    "geom_point(aes(x=train$R.D.Spend, y = train$Profit), colour = 'orange') +\n",
    "geom_line(aes(x = train$R.D.Spend, y = predict(model, newdata = train)), colour = 'blue') + \n",
    "ggtitle('profit prediction based on spendings') +\n",
    "xlab('R.D.Spend') +\n",
    "ylab('Profit')"
   ]
  },
  {
   "cell_type": "markdown",
   "metadata": {},
   "source": [
    "# points are the actual data and the line is the predicted data for the given R.D.Spend"
   ]
  },
  {
   "cell_type": "code",
   "execution_count": null,
   "metadata": {},
   "outputs": [],
   "source": []
  }
 ],
 "metadata": {
  "kernelspec": {
   "display_name": "R",
   "language": "R",
   "name": "ir"
  },
  "language_info": {
   "codemirror_mode": "r",
   "file_extension": ".r",
   "mimetype": "text/x-r-source",
   "name": "R",
   "pygments_lexer": "r",
   "version": "3.6.1"
  }
 },
 "nbformat": 4,
 "nbformat_minor": 2
}
