{
 "cells": [
  {
   "cell_type": "code",
   "execution_count": 1,
   "metadata": {},
   "outputs": [
    {
     "name": "stderr",
     "output_type": "stream",
     "text": [
      "Registered S3 methods overwritten by 'ggplot2':\n",
      "  method         from \n",
      "  [.quosures     rlang\n",
      "  c.quosures     rlang\n",
      "  print.quosures rlang\n",
      "Registered S3 method overwritten by 'rvest':\n",
      "  method            from\n",
      "  read_xml.response xml2\n",
      "-- Attaching packages --------------------------------------- tidyverse 1.2.1 --\n",
      "v ggplot2 3.1.1       v purrr   0.3.2  \n",
      "v tibble  2.1.1       v dplyr   0.8.0.1\n",
      "v tidyr   0.8.3       v stringr 1.4.0  \n",
      "v readr   1.3.1       v forcats 0.4.0  \n",
      "-- Conflicts ------------------------------------------ tidyverse_conflicts() --\n",
      "x dplyr::filter() masks stats::filter()\n",
      "x dplyr::lag()    masks stats::lag()\n",
      "\n",
      "Attaching package: 'glue'\n",
      "\n",
      "The following object is masked from 'package:dplyr':\n",
      "\n",
      "    collapse\n",
      "\n",
      "Warning message:\n",
      "\"package 'twitteR' was built under R version 3.6.3\"\n",
      "Attaching package: 'twitteR'\n",
      "\n",
      "The following objects are masked from 'package:dplyr':\n",
      "\n",
      "    id, location\n",
      "\n",
      "Warning message:\n",
      "\"package 'tm' was built under R version 3.6.3\"Loading required package: NLP\n",
      "\n",
      "Attaching package: 'NLP'\n",
      "\n",
      "The following object is masked from 'package:ggplot2':\n",
      "\n",
      "    annotate\n",
      "\n"
     ]
    }
   ],
   "source": [
    "library(tidyverse)\n",
    "library(tidytext)\n",
    "library(glue)\n",
    "library(stringr)\n",
    "library(twitteR)\n",
    "library(tm)"
   ]
  },
  {
   "cell_type": "markdown",
   "metadata": {},
   "source": [
    "# Importing all libraries for the sentiment analysis on twitter data"
   ]
  },
  {
   "cell_type": "code",
   "execution_count": 49,
   "metadata": {},
   "outputs": [],
   "source": [
    "covid = searchTwitter('#covid-19 #coronavirus', n = 1000, lang = 'en')\n",
    "#class(covid)\n",
    "covid = twListToDF(covid)"
   ]
  },
  {
   "cell_type": "markdown",
   "metadata": {},
   "source": [
    "# Using searchTwitter function to search for tweets in the twitter and converting tweets into a dataframe using twlisttodf function"
   ]
  },
  {
   "cell_type": "code",
   "execution_count": 50,
   "metadata": {},
   "outputs": [],
   "source": [
    "write.csv(covid,\"C:/Users/MANI/Documents/R sem 2/covid-19/covid.csv\")"
   ]
  },
  {
   "cell_type": "markdown",
   "metadata": {},
   "source": [
    "# writing into a csv file"
   ]
  },
  {
   "cell_type": "code",
   "execution_count": 51,
   "metadata": {},
   "outputs": [
    {
     "data": {
      "text/html": [
       "<ol class=list-inline>\n",
       "\t<li>'tbl_df'</li>\n",
       "\t<li>'tbl'</li>\n",
       "\t<li>'data.frame'</li>\n",
       "</ol>\n"
      ],
      "text/latex": [
       "\\begin{enumerate*}\n",
       "\\item 'tbl\\_df'\n",
       "\\item 'tbl'\n",
       "\\item 'data.frame'\n",
       "\\end{enumerate*}\n"
      ],
      "text/markdown": [
       "1. 'tbl_df'\n",
       "2. 'tbl'\n",
       "3. 'data.frame'\n",
       "\n",
       "\n"
      ],
      "text/plain": [
       "[1] \"tbl_df\"     \"tbl\"        \"data.frame\""
      ]
     },
     "metadata": {},
     "output_type": "display_data"
    }
   ],
   "source": [
    "pos <- get_sentiments(\"bing\") %>% filter(sentiment == \"positive\")\n",
    "neg <- get_sentiments(\"bing\") %>% filter(sentiment == \"negative\")\n",
    "class(pos)"
   ]
  },
  {
   "cell_type": "markdown",
   "metadata": {},
   "source": [
    "# Getting seentiments from bing lexicons and storing in pos and neg"
   ]
  },
  {
   "cell_type": "code",
   "execution_count": 52,
   "metadata": {},
   "outputs": [],
   "source": [
    "sentences <- covid$text"
   ]
  },
  {
   "cell_type": "markdown",
   "metadata": {},
   "source": [
    "# Getting only text column from covid dataframe and storing in sentences"
   ]
  },
  {
   "cell_type": "code",
   "execution_count": 53,
   "metadata": {},
   "outputs": [],
   "source": [
    "sentences = gsub('[^A-z ]','', sentences)"
   ]
  },
  {
   "cell_type": "markdown",
   "metadata": {},
   "source": [
    "# removing all unknown special characters except A-z and replacing it with space"
   ]
  },
  {
   "cell_type": "code",
   "execution_count": 2,
   "metadata": {},
   "outputs": [
    {
     "data": {
      "text/html": [
       "<ol class=list-inline>\n",
       "\t<li>'the birch canoe slid on the smooth planks.'</li>\n",
       "\t<li>'glue the sheet to the dark blue background.'</li>\n",
       "\t<li>'it\\'s easy to tell the depth of a well.'</li>\n",
       "\t<li>'these days a chicken leg is a rare dish.'</li>\n",
       "\t<li>'rice is often served in round bowls.'</li>\n",
       "\t<li>'the juice of lemons makes fine punch.'</li>\n",
       "</ol>\n"
      ],
      "text/latex": [
       "\\begin{enumerate*}\n",
       "\\item 'the birch canoe slid on the smooth planks.'\n",
       "\\item 'glue the sheet to the dark blue background.'\n",
       "\\item 'it\\textbackslash{}'s easy to tell the depth of a well.'\n",
       "\\item 'these days a chicken leg is a rare dish.'\n",
       "\\item 'rice is often served in round bowls.'\n",
       "\\item 'the juice of lemons makes fine punch.'\n",
       "\\end{enumerate*}\n"
      ],
      "text/markdown": [
       "1. 'the birch canoe slid on the smooth planks.'\n",
       "2. 'glue the sheet to the dark blue background.'\n",
       "3. 'it\\'s easy to tell the depth of a well.'\n",
       "4. 'these days a chicken leg is a rare dish.'\n",
       "5. 'rice is often served in round bowls.'\n",
       "6. 'the juice of lemons makes fine punch.'\n",
       "\n",
       "\n"
      ],
      "text/plain": [
       "[1] \"the birch canoe slid on the smooth planks.\" \n",
       "[2] \"glue the sheet to the dark blue background.\"\n",
       "[3] \"it's easy to tell the depth of a well.\"     \n",
       "[4] \"these days a chicken leg is a rare dish.\"   \n",
       "[5] \"rice is often served in round bowls.\"       \n",
       "[6] \"the juice of lemons makes fine punch.\"      "
      ]
     },
     "metadata": {},
     "output_type": "display_data"
    }
   ],
   "source": [
    "sentences = tolower(sentences)\n",
    "head(sentences)"
   ]
  },
  {
   "cell_type": "markdown",
   "metadata": {},
   "source": [
    "# converting into lowercase "
   ]
  },
  {
   "cell_type": "code",
   "execution_count": 4,
   "metadata": {},
   "outputs": [],
   "source": [
    "word_list = str_split(sentences, '\\\\s+')"
   ]
  },
  {
   "cell_type": "markdown",
   "metadata": {},
   "source": [
    "# Splitting the sentences using str_split"
   ]
  },
  {
   "cell_type": "code",
   "execution_count": 5,
   "metadata": {},
   "outputs": [
    {
     "data": {
      "text/html": [
       "<ol>\n",
       "\t<li><ol class=list-inline>\n",
       "\t<li>'the'</li>\n",
       "\t<li>'birch'</li>\n",
       "\t<li>'canoe'</li>\n",
       "\t<li>'slid'</li>\n",
       "\t<li>'on'</li>\n",
       "\t<li>'the'</li>\n",
       "\t<li>'smooth'</li>\n",
       "\t<li>'planks.'</li>\n",
       "</ol>\n",
       "</li>\n",
       "\t<li><ol class=list-inline>\n",
       "\t<li>'glue'</li>\n",
       "\t<li>'the'</li>\n",
       "\t<li>'sheet'</li>\n",
       "\t<li>'to'</li>\n",
       "\t<li>'the'</li>\n",
       "\t<li>'dark'</li>\n",
       "\t<li>'blue'</li>\n",
       "\t<li>'background.'</li>\n",
       "</ol>\n",
       "</li>\n",
       "\t<li><ol class=list-inline>\n",
       "\t<li>'it\\'s'</li>\n",
       "\t<li>'easy'</li>\n",
       "\t<li>'to'</li>\n",
       "\t<li>'tell'</li>\n",
       "\t<li>'the'</li>\n",
       "\t<li>'depth'</li>\n",
       "\t<li>'of'</li>\n",
       "\t<li>'a'</li>\n",
       "\t<li>'well.'</li>\n",
       "</ol>\n",
       "</li>\n",
       "\t<li><ol class=list-inline>\n",
       "\t<li>'these'</li>\n",
       "\t<li>'days'</li>\n",
       "\t<li>'a'</li>\n",
       "\t<li>'chicken'</li>\n",
       "\t<li>'leg'</li>\n",
       "\t<li>'is'</li>\n",
       "\t<li>'a'</li>\n",
       "\t<li>'rare'</li>\n",
       "\t<li>'dish.'</li>\n",
       "</ol>\n",
       "</li>\n",
       "\t<li><ol class=list-inline>\n",
       "\t<li>'rice'</li>\n",
       "\t<li>'is'</li>\n",
       "\t<li>'often'</li>\n",
       "\t<li>'served'</li>\n",
       "\t<li>'in'</li>\n",
       "\t<li>'round'</li>\n",
       "\t<li>'bowls.'</li>\n",
       "</ol>\n",
       "</li>\n",
       "\t<li><ol class=list-inline>\n",
       "\t<li>'the'</li>\n",
       "\t<li>'juice'</li>\n",
       "\t<li>'of'</li>\n",
       "\t<li>'lemons'</li>\n",
       "\t<li>'makes'</li>\n",
       "\t<li>'fine'</li>\n",
       "\t<li>'punch.'</li>\n",
       "</ol>\n",
       "</li>\n",
       "</ol>\n"
      ],
      "text/latex": [
       "\\begin{enumerate}\n",
       "\\item \\begin{enumerate*}\n",
       "\\item 'the'\n",
       "\\item 'birch'\n",
       "\\item 'canoe'\n",
       "\\item 'slid'\n",
       "\\item 'on'\n",
       "\\item 'the'\n",
       "\\item 'smooth'\n",
       "\\item 'planks.'\n",
       "\\end{enumerate*}\n",
       "\n",
       "\\item \\begin{enumerate*}\n",
       "\\item 'glue'\n",
       "\\item 'the'\n",
       "\\item 'sheet'\n",
       "\\item 'to'\n",
       "\\item 'the'\n",
       "\\item 'dark'\n",
       "\\item 'blue'\n",
       "\\item 'background.'\n",
       "\\end{enumerate*}\n",
       "\n",
       "\\item \\begin{enumerate*}\n",
       "\\item 'it\\textbackslash{}'s'\n",
       "\\item 'easy'\n",
       "\\item 'to'\n",
       "\\item 'tell'\n",
       "\\item 'the'\n",
       "\\item 'depth'\n",
       "\\item 'of'\n",
       "\\item 'a'\n",
       "\\item 'well.'\n",
       "\\end{enumerate*}\n",
       "\n",
       "\\item \\begin{enumerate*}\n",
       "\\item 'these'\n",
       "\\item 'days'\n",
       "\\item 'a'\n",
       "\\item 'chicken'\n",
       "\\item 'leg'\n",
       "\\item 'is'\n",
       "\\item 'a'\n",
       "\\item 'rare'\n",
       "\\item 'dish.'\n",
       "\\end{enumerate*}\n",
       "\n",
       "\\item \\begin{enumerate*}\n",
       "\\item 'rice'\n",
       "\\item 'is'\n",
       "\\item 'often'\n",
       "\\item 'served'\n",
       "\\item 'in'\n",
       "\\item 'round'\n",
       "\\item 'bowls.'\n",
       "\\end{enumerate*}\n",
       "\n",
       "\\item \\begin{enumerate*}\n",
       "\\item 'the'\n",
       "\\item 'juice'\n",
       "\\item 'of'\n",
       "\\item 'lemons'\n",
       "\\item 'makes'\n",
       "\\item 'fine'\n",
       "\\item 'punch.'\n",
       "\\end{enumerate*}\n",
       "\n",
       "\\end{enumerate}\n"
      ],
      "text/markdown": [
       "1. 1. 'the'\n",
       "2. 'birch'\n",
       "3. 'canoe'\n",
       "4. 'slid'\n",
       "5. 'on'\n",
       "6. 'the'\n",
       "7. 'smooth'\n",
       "8. 'planks.'\n",
       "\n",
       "\n",
       "\n",
       "2. 1. 'glue'\n",
       "2. 'the'\n",
       "3. 'sheet'\n",
       "4. 'to'\n",
       "5. 'the'\n",
       "6. 'dark'\n",
       "7. 'blue'\n",
       "8. 'background.'\n",
       "\n",
       "\n",
       "\n",
       "3. 1. 'it\\'s'\n",
       "2. 'easy'\n",
       "3. 'to'\n",
       "4. 'tell'\n",
       "5. 'the'\n",
       "6. 'depth'\n",
       "7. 'of'\n",
       "8. 'a'\n",
       "9. 'well.'\n",
       "\n",
       "\n",
       "\n",
       "4. 1. 'these'\n",
       "2. 'days'\n",
       "3. 'a'\n",
       "4. 'chicken'\n",
       "5. 'leg'\n",
       "6. 'is'\n",
       "7. 'a'\n",
       "8. 'rare'\n",
       "9. 'dish.'\n",
       "\n",
       "\n",
       "\n",
       "5. 1. 'rice'\n",
       "2. 'is'\n",
       "3. 'often'\n",
       "4. 'served'\n",
       "5. 'in'\n",
       "6. 'round'\n",
       "7. 'bowls.'\n",
       "\n",
       "\n",
       "\n",
       "6. 1. 'the'\n",
       "2. 'juice'\n",
       "3. 'of'\n",
       "4. 'lemons'\n",
       "5. 'makes'\n",
       "6. 'fine'\n",
       "7. 'punch.'\n",
       "\n",
       "\n",
       "\n",
       "\n",
       "\n"
      ],
      "text/plain": [
       "[[1]]\n",
       "[1] \"the\"     \"birch\"   \"canoe\"   \"slid\"    \"on\"      \"the\"     \"smooth\" \n",
       "[8] \"planks.\"\n",
       "\n",
       "[[2]]\n",
       "[1] \"glue\"        \"the\"         \"sheet\"       \"to\"          \"the\"        \n",
       "[6] \"dark\"        \"blue\"        \"background.\"\n",
       "\n",
       "[[3]]\n",
       "[1] \"it's\"  \"easy\"  \"to\"    \"tell\"  \"the\"   \"depth\" \"of\"    \"a\"     \"well.\"\n",
       "\n",
       "[[4]]\n",
       "[1] \"these\"   \"days\"    \"a\"       \"chicken\" \"leg\"     \"is\"      \"a\"      \n",
       "[8] \"rare\"    \"dish.\"  \n",
       "\n",
       "[[5]]\n",
       "[1] \"rice\"   \"is\"     \"often\"  \"served\" \"in\"     \"round\"  \"bowls.\"\n",
       "\n",
       "[[6]]\n",
       "[1] \"the\"    \"juice\"  \"of\"     \"lemons\" \"makes\"  \"fine\"   \"punch.\"\n"
      ]
     },
     "metadata": {},
     "output_type": "display_data"
    }
   ],
   "source": [
    "head(word_list)"
   ]
  },
  {
   "cell_type": "code",
   "execution_count": 57,
   "metadata": {},
   "outputs": [
    {
     "data": {
      "text/html": [
       "'character'"
      ],
      "text/latex": [
       "'character'"
      ],
      "text/markdown": [
       "'character'"
      ],
      "text/plain": [
       "[1] \"character\""
      ]
     },
     "metadata": {},
     "output_type": "display_data"
    },
    {
     "data": {
      "text/html": [
       "18640"
      ],
      "text/latex": [
       "18640"
      ],
      "text/markdown": [
       "18640"
      ],
      "text/plain": [
       "[1] 18640"
      ]
     },
     "metadata": {},
     "output_type": "display_data"
    }
   ],
   "source": [
    "#class(word_list)\n",
    "word = unlist(word_list)\n",
    "class(word)\n",
    "length(word)"
   ]
  },
  {
   "cell_type": "code",
   "execution_count": 58,
   "metadata": {},
   "outputs": [],
   "source": [
    "tab = table(word)\n",
    "tabdf <- as.data.frame(tab)"
   ]
  },
  {
   "cell_type": "markdown",
   "metadata": {},
   "source": [
    "# Converting into a dataframe and arrange it using frequency"
   ]
  },
  {
   "cell_type": "code",
   "execution_count": 59,
   "metadata": {},
   "outputs": [
    {
     "data": {
      "text/html": [
       "<ol class=list-inline>\n",
       "\t<li>3986</li>\n",
       "\t<li>2</li>\n",
       "</ol>\n"
      ],
      "text/latex": [
       "\\begin{enumerate*}\n",
       "\\item 3986\n",
       "\\item 2\n",
       "\\end{enumerate*}\n"
      ],
      "text/markdown": [
       "1. 3986\n",
       "2. 2\n",
       "\n",
       "\n"
      ],
      "text/plain": [
       "[1] 3986    2"
      ]
     },
     "metadata": {},
     "output_type": "display_data"
    }
   ],
   "source": [
    "tab_frequency <- tabdf %>% arrange(-Freq)\n",
    "dim(tab_frequency)"
   ]
  },
  {
   "cell_type": "code",
   "execution_count": 60,
   "metadata": {},
   "outputs": [],
   "source": [
    "stop = stopwords()"
   ]
  },
  {
   "cell_type": "markdown",
   "metadata": {},
   "source": [
    "# Removing stopwords "
   ]
  },
  {
   "cell_type": "code",
   "execution_count": 61,
   "metadata": {},
   "outputs": [],
   "source": [
    "tab3 <- tab_frequency %>% filter(!word %in% stop)\n",
    "tab3 <- tab3 %>% filter(word!= 'rt')"
   ]
  },
  {
   "cell_type": "code",
   "execution_count": 71,
   "metadata": {},
   "outputs": [],
   "source": [
    "word = tab3[, 1]\n",
    "word = data_frame(word)\n",
    "#class(word)"
   ]
  },
  {
   "cell_type": "markdown",
   "metadata": {},
   "source": [
    "# getting only word column from tab3 and comparing it with bing lexicon word column and getting sentiments"
   ]
  },
  {
   "cell_type": "code",
   "execution_count": 63,
   "metadata": {},
   "outputs": [
    {
     "name": "stderr",
     "output_type": "stream",
     "text": [
      "Joining, by = \"word\"\n",
      "Warning message:\n",
      "\"Column `word` joining factor and character vector, coercing into character vector\""
     ]
    }
   ],
   "source": [
    "sentiments = word %>%\n",
    "inner_join(get_sentiments(\"bing\"))%>%\n",
    "count(sentiment) %>% \n",
    "spread(sentiment, n, fill = 0) %>% \n",
    "mutate(sentiment = positive - negative)"
   ]
  },
  {
   "cell_type": "code",
   "execution_count": 65,
   "metadata": {},
   "outputs": [
    {
     "data": {
      "text/html": [
       "<table>\n",
       "<thead><tr><th scope=col>negative</th><th scope=col>positive</th><th scope=col>sentiment</th></tr></thead>\n",
       "<tbody>\n",
       "\t<tr><td>174</td><td>142</td><td>-32</td></tr>\n",
       "</tbody>\n",
       "</table>\n"
      ],
      "text/latex": [
       "\\begin{tabular}{r|lll}\n",
       " negative & positive & sentiment\\\\\n",
       "\\hline\n",
       "\t 174 & 142 & -32\\\\\n",
       "\\end{tabular}\n"
      ],
      "text/markdown": [
       "\n",
       "| negative | positive | sentiment |\n",
       "|---|---|---|\n",
       "| 174 | 142 | -32 |\n",
       "\n"
      ],
      "text/plain": [
       "  negative positive sentiment\n",
       "1 174      142      -32      "
      ]
     },
     "metadata": {},
     "output_type": "display_data"
    }
   ],
   "source": [
    "sentiments"
   ]
  },
  {
   "cell_type": "markdown",
   "metadata": {},
   "source": [
    "# Negative sentiments are more than positive in twitter covid-19 data"
   ]
  },
  {
   "cell_type": "code",
   "execution_count": 69,
   "metadata": {},
   "outputs": [
    {
     "data": {
      "text/plain": [
       "    negative      positive     sentiment  \n",
       " Min.   :174   Min.   :142   Min.   :-32  \n",
       " 1st Qu.:174   1st Qu.:142   1st Qu.:-32  \n",
       " Median :174   Median :142   Median :-32  \n",
       " Mean   :174   Mean   :142   Mean   :-32  \n",
       " 3rd Qu.:174   3rd Qu.:142   3rd Qu.:-32  \n",
       " Max.   :174   Max.   :142   Max.   :-32  "
      ]
     },
     "metadata": {},
     "output_type": "display_data"
    }
   ],
   "source": [
    "summary(sentiments)"
   ]
  },
  {
   "cell_type": "code",
   "execution_count": 64,
   "metadata": {},
   "outputs": [
    {
     "data": {
      "image/png": "[encoded data removed]",
      "text/plain": [
       "plot without title"
      ]
     },
     "metadata": {},
     "output_type": "display_data"
    }
   ],
   "source": [
    "tab3 %>% head(15) %>%  ggplot(aes(x = reorder(word,Freq),y = Freq))+geom_bar(stat = \"identity\",fill=\"navyblue\")+xlab(\"Words\")+theme_bw()+coord_flip()\n"
   ]
  },
  {
   "cell_type": "markdown",
   "metadata": {},
   "source": [
    "# top 15 tweets done in the twitter dataset"
   ]
  },
  {
   "cell_type": "code",
   "execution_count": 68,
   "metadata": {},
   "outputs": [
    {
     "data": {
      "image/png": "[encoded data removed]",
      "text/plain": [
       "plot without title"
      ]
     },
     "metadata": {},
     "output_type": "display_data"
    }
   ],
   "source": [
    "sentiments_1 <- data.frame(summary = c(\"positive\", \"negative\", \"sentiment\"), outcome = c(142, 174, -32))\n",
    "ggplot(sentiments_1, aes(summary, outcome)) + geom_col()"
   ]
  },
  {
   "cell_type": "markdown",
   "metadata": {},
   "source": [
    "# This is the visual representation of sentiments on covid-19 data from twitter data."
   ]
  }
 ],
 "metadata": {
  "kernelspec": {
   "display_name": "R",
   "language": "R",
   "name": "ir"
  },
  "language_info": {
   "codemirror_mode": "r",
   "file_extension": ".r",
   "mimetype": "text/x-r-source",
   "name": "R",
   "pygments_lexer": "r",
   "version": "3.6.1"
  }
 },
 "nbformat": 4,
 "nbformat_minor": 2
}
