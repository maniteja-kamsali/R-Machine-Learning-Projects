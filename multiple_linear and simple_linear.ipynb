{
 "cells": [
  {
   "cell_type": "code",
   "execution_count": 52,
   "metadata": {},
   "outputs": [
    {
     "data": {
      "text/html": [
       "<table>\n",
       "<thead><tr><th scope=col>school</th><th scope=col>sex</th><th scope=col>age</th><th scope=col>address</th><th scope=col>famsize</th><th scope=col>Pstatus</th><th scope=col>Medu</th><th scope=col>Fedu</th><th scope=col>Mjob</th><th scope=col>Fjob</th><th scope=col>...</th><th scope=col>famrel</th><th scope=col>freetime</th><th scope=col>goout</th><th scope=col>Dalc</th><th scope=col>Walc</th><th scope=col>health</th><th scope=col>absences</th><th scope=col>G1</th><th scope=col>G2</th><th scope=col>G3</th></tr></thead>\n",
       "<tbody>\n",
       "\t<tr><td>GP      </td><td>F       </td><td>18      </td><td>U       </td><td>GT3     </td><td>A       </td><td>4       </td><td>4       </td><td>at_home </td><td>teacher </td><td>...     </td><td>4       </td><td>3       </td><td>4       </td><td>1       </td><td>1       </td><td>3       </td><td> 6      </td><td> 5      </td><td> 6      </td><td> 6      </td></tr>\n",
       "\t<tr><td>GP      </td><td>F       </td><td>17      </td><td>U       </td><td>GT3     </td><td>T       </td><td>1       </td><td>1       </td><td>at_home </td><td>other   </td><td>...     </td><td>5       </td><td>3       </td><td>3       </td><td>1       </td><td>1       </td><td>3       </td><td> 4      </td><td> 5      </td><td> 5      </td><td> 6      </td></tr>\n",
       "\t<tr><td>GP      </td><td>F       </td><td>15      </td><td>U       </td><td>LE3     </td><td>T       </td><td>1       </td><td>1       </td><td>at_home </td><td>other   </td><td>...     </td><td>4       </td><td>3       </td><td>2       </td><td>2       </td><td>3       </td><td>3       </td><td>10      </td><td> 7      </td><td> 8      </td><td>10      </td></tr>\n",
       "\t<tr><td>GP      </td><td>F       </td><td>15      </td><td>U       </td><td>GT3     </td><td>T       </td><td>4       </td><td>2       </td><td>health  </td><td>services</td><td>...     </td><td>3       </td><td>2       </td><td>2       </td><td>1       </td><td>1       </td><td>5       </td><td> 2      </td><td>15      </td><td>14      </td><td>15      </td></tr>\n",
       "\t<tr><td>GP      </td><td>F       </td><td>16      </td><td>U       </td><td>GT3     </td><td>T       </td><td>3       </td><td>3       </td><td>other   </td><td>other   </td><td>...     </td><td>4       </td><td>3       </td><td>2       </td><td>1       </td><td>2       </td><td>5       </td><td> 4      </td><td> 6      </td><td>10      </td><td>10      </td></tr>\n",
       "\t<tr><td>GP      </td><td>M       </td><td>16      </td><td>U       </td><td>LE3     </td><td>T       </td><td>4       </td><td>3       </td><td>services</td><td>other   </td><td>...     </td><td>5       </td><td>4       </td><td>2       </td><td>1       </td><td>2       </td><td>5       </td><td>10      </td><td>15      </td><td>15      </td><td>15      </td></tr>\n",
       "\t<tr><td>GP      </td><td>M       </td><td>16      </td><td>U       </td><td>LE3     </td><td>T       </td><td>2       </td><td>2       </td><td>other   </td><td>other   </td><td>...     </td><td>4       </td><td>4       </td><td>4       </td><td>1       </td><td>1       </td><td>3       </td><td> 0      </td><td>12      </td><td>12      </td><td>11      </td></tr>\n",
       "\t<tr><td>GP      </td><td>F       </td><td>17      </td><td>U       </td><td>GT3     </td><td>A       </td><td>4       </td><td>4       </td><td>other   </td><td>teacher </td><td>...     </td><td>4       </td><td>1       </td><td>4       </td><td>1       </td><td>1       </td><td>1       </td><td> 6      </td><td> 6      </td><td> 5      </td><td> 6      </td></tr>\n",
       "\t<tr><td>GP      </td><td>M       </td><td>15      </td><td>U       </td><td>LE3     </td><td>A       </td><td>3       </td><td>2       </td><td>services</td><td>other   </td><td>...     </td><td>4       </td><td>2       </td><td>2       </td><td>1       </td><td>1       </td><td>1       </td><td> 0      </td><td>16      </td><td>18      </td><td>19      </td></tr>\n",
       "\t<tr><td>GP      </td><td>M       </td><td>15      </td><td>U       </td><td>GT3     </td><td>T       </td><td>3       </td><td>4       </td><td>other   </td><td>other   </td><td>...     </td><td>5       </td><td>5       </td><td>1       </td><td>1       </td><td>1       </td><td>5       </td><td> 0      </td><td>14      </td><td>15      </td><td>15      </td></tr>\n",
       "\t<tr><td>GP      </td><td>F       </td><td>15      </td><td>U       </td><td>GT3     </td><td>T       </td><td>4       </td><td>4       </td><td>teacher </td><td>health  </td><td>...     </td><td>3       </td><td>3       </td><td>3       </td><td>1       </td><td>2       </td><td>2       </td><td> 0      </td><td>10      </td><td> 8      </td><td> 9      </td></tr>\n",
       "\t<tr><td>GP      </td><td>F       </td><td>15      </td><td>U       </td><td>GT3     </td><td>T       </td><td>2       </td><td>1       </td><td>services</td><td>other   </td><td>...     </td><td>5       </td><td>2       </td><td>2       </td><td>1       </td><td>1       </td><td>4       </td><td> 4      </td><td>10      </td><td>12      </td><td>12      </td></tr>\n",
       "\t<tr><td>GP      </td><td>M       </td><td>15      </td><td>U       </td><td>LE3     </td><td>T       </td><td>4       </td><td>4       </td><td>health  </td><td>services</td><td>...     </td><td>4       </td><td>3       </td><td>3       </td><td>1       </td><td>3       </td><td>5       </td><td> 2      </td><td>14      </td><td>14      </td><td>14      </td></tr>\n",
       "\t<tr><td>GP      </td><td>M       </td><td>15      </td><td>U       </td><td>GT3     </td><td>T       </td><td>4       </td><td>3       </td><td>teacher </td><td>other   </td><td>...     </td><td>5       </td><td>4       </td><td>3       </td><td>1       </td><td>2       </td><td>3       </td><td> 2      </td><td>10      </td><td>10      </td><td>11      </td></tr>\n",
       "\t<tr><td>GP      </td><td>M       </td><td>15      </td><td>U       </td><td>GT3     </td><td>A       </td><td>2       </td><td>2       </td><td>other   </td><td>other   </td><td>...     </td><td>4       </td><td>5       </td><td>2       </td><td>1       </td><td>1       </td><td>3       </td><td> 0      </td><td>14      </td><td>16      </td><td>16      </td></tr>\n",
       "\t<tr><td>GP      </td><td>F       </td><td>16      </td><td>U       </td><td>GT3     </td><td>T       </td><td>4       </td><td>4       </td><td>health  </td><td>other   </td><td>...     </td><td>4       </td><td>4       </td><td>4       </td><td>1       </td><td>2       </td><td>2       </td><td> 4      </td><td>14      </td><td>14      </td><td>14      </td></tr>\n",
       "\t<tr><td>GP      </td><td>F       </td><td>16      </td><td>U       </td><td>GT3     </td><td>T       </td><td>4       </td><td>4       </td><td>services</td><td>services</td><td>...     </td><td>3       </td><td>2       </td><td>3       </td><td>1       </td><td>2       </td><td>2       </td><td> 6      </td><td>13      </td><td>14      </td><td>14      </td></tr>\n",
       "\t<tr><td>GP      </td><td>F       </td><td>16      </td><td>U       </td><td>GT3     </td><td>T       </td><td>3       </td><td>3       </td><td>other   </td><td>other   </td><td>...     </td><td>5       </td><td>3       </td><td>2       </td><td>1       </td><td>1       </td><td>4       </td><td> 4      </td><td> 8      </td><td>10      </td><td>10      </td></tr>\n",
       "\t<tr><td>GP      </td><td>M       </td><td>17      </td><td>U       </td><td>GT3     </td><td>T       </td><td>3       </td><td>2       </td><td>services</td><td>services</td><td>...     </td><td>5       </td><td>5       </td><td>5       </td><td>2       </td><td>4       </td><td>5       </td><td>16      </td><td> 6      </td><td> 5      </td><td> 5      </td></tr>\n",
       "\t<tr><td>GP      </td><td>M       </td><td>16      </td><td>U       </td><td>LE3     </td><td>T       </td><td>4       </td><td>3       </td><td>health  </td><td>other   </td><td>...     </td><td>3       </td><td>1       </td><td>3       </td><td>1       </td><td>3       </td><td>5       </td><td> 4      </td><td> 8      </td><td>10      </td><td>10      </td></tr>\n",
       "\t<tr><td>GP      </td><td>M       </td><td>15      </td><td>U       </td><td>GT3     </td><td>T       </td><td>4       </td><td>3       </td><td>teacher </td><td>other   </td><td>...     </td><td>4       </td><td>4       </td><td>1       </td><td>1       </td><td>1       </td><td>1       </td><td> 0      </td><td>13      </td><td>14      </td><td>15      </td></tr>\n",
       "\t<tr><td>GP      </td><td>M       </td><td>15      </td><td>U       </td><td>GT3     </td><td>T       </td><td>4       </td><td>4       </td><td>health  </td><td>health  </td><td>...     </td><td>5       </td><td>4       </td><td>2       </td><td>1       </td><td>1       </td><td>5       </td><td> 0      </td><td>12      </td><td>15      </td><td>15      </td></tr>\n",
       "\t<tr><td>GP      </td><td>M       </td><td>16      </td><td>U       </td><td>LE3     </td><td>T       </td><td>4       </td><td>2       </td><td>teacher </td><td>other   </td><td>...     </td><td>4       </td><td>5       </td><td>1       </td><td>1       </td><td>3       </td><td>5       </td><td> 2      </td><td>15      </td><td>15      </td><td>16      </td></tr>\n",
       "\t<tr><td>GP      </td><td>M       </td><td>16      </td><td>U       </td><td>LE3     </td><td>T       </td><td>2       </td><td>2       </td><td>other   </td><td>other   </td><td>...     </td><td>5       </td><td>4       </td><td>4       </td><td>2       </td><td>4       </td><td>5       </td><td> 0      </td><td>13      </td><td>13      </td><td>12      </td></tr>\n",
       "\t<tr><td>GP      </td><td>F       </td><td>15      </td><td>R       </td><td>GT3     </td><td>T       </td><td>2       </td><td>4       </td><td>services</td><td>health  </td><td>...     </td><td>4       </td><td>3       </td><td>2       </td><td>1       </td><td>1       </td><td>5       </td><td> 2      </td><td>10      </td><td> 9      </td><td> 8      </td></tr>\n",
       "\t<tr><td>GP      </td><td>F       </td><td>16      </td><td>U       </td><td>GT3     </td><td>T       </td><td>2       </td><td>2       </td><td>services</td><td>services</td><td>...     </td><td>1       </td><td>2       </td><td>2       </td><td>1       </td><td>3       </td><td>5       </td><td>14      </td><td> 6      </td><td> 9      </td><td> 8      </td></tr>\n",
       "\t<tr><td>GP      </td><td>M       </td><td>15      </td><td>U       </td><td>GT3     </td><td>T       </td><td>2       </td><td>2       </td><td>other   </td><td>other   </td><td>...     </td><td>4       </td><td>2       </td><td>2       </td><td>1       </td><td>2       </td><td>5       </td><td> 2      </td><td>12      </td><td>12      </td><td>11      </td></tr>\n",
       "\t<tr><td>GP      </td><td>M       </td><td>15      </td><td>U       </td><td>GT3     </td><td>T       </td><td>4       </td><td>2       </td><td>health  </td><td>services</td><td>...     </td><td>2       </td><td>2       </td><td>4       </td><td>2       </td><td>4       </td><td>1       </td><td> 4      </td><td>15      </td><td>16      </td><td>15      </td></tr>\n",
       "\t<tr><td>GP      </td><td>M       </td><td>16      </td><td>U       </td><td>LE3     </td><td>A       </td><td>3       </td><td>4       </td><td>services</td><td>other   </td><td>...     </td><td>5       </td><td>3       </td><td>3       </td><td>1       </td><td>1       </td><td>5       </td><td> 4      </td><td>11      </td><td>11      </td><td>11      </td></tr>\n",
       "\t<tr><td>GP      </td><td>M       </td><td>16      </td><td>U       </td><td>GT3     </td><td>T       </td><td>4       </td><td>4       </td><td>teacher </td><td>teacher </td><td>...     </td><td>4       </td><td>4       </td><td>5       </td><td>5       </td><td>5       </td><td>5       </td><td>16      </td><td>10      </td><td>12      </td><td>11      </td></tr>\n",
       "\t<tr><td>...</td><td>...</td><td>...</td><td>...</td><td>...</td><td>...</td><td>...</td><td>...</td><td>...</td><td>...</td><td>   </td><td>...</td><td>...</td><td>...</td><td>...</td><td>...</td><td>...</td><td>...</td><td>...</td><td>...</td><td>...</td></tr>\n",
       "\t<tr><td>MS      </td><td>M       </td><td>18      </td><td>R       </td><td>GT3     </td><td>T       </td><td>1       </td><td>3       </td><td>at_home </td><td>other   </td><td>...     </td><td>3       </td><td>3       </td><td>4       </td><td>2       </td><td>4       </td><td>3       </td><td> 4      </td><td>10      </td><td>10      </td><td>10      </td></tr>\n",
       "\t<tr><td>MS      </td><td>M       </td><td>18      </td><td>U       </td><td>LE3     </td><td>T       </td><td>4       </td><td>4       </td><td>teacher </td><td>services</td><td>...     </td><td>4       </td><td>2       </td><td>2       </td><td>2       </td><td>2       </td><td>5       </td><td> 0      </td><td>13      </td><td>13      </td><td>13      </td></tr>\n",
       "\t<tr><td>MS      </td><td>F       </td><td>17      </td><td>R       </td><td>GT3     </td><td>T       </td><td>1       </td><td>1       </td><td>other   </td><td>services</td><td>...     </td><td>5       </td><td>2       </td><td>1       </td><td>1       </td><td>2       </td><td>1       </td><td> 0      </td><td> 7      </td><td> 6      </td><td> 0      </td></tr>\n",
       "\t<tr><td>MS      </td><td>F       </td><td>18      </td><td>U       </td><td>GT3     </td><td>T       </td><td>2       </td><td>3       </td><td>at_home </td><td>services</td><td>...     </td><td>5       </td><td>2       </td><td>3       </td><td>1       </td><td>2       </td><td>4       </td><td> 0      </td><td>11      </td><td>10      </td><td>10      </td></tr>\n",
       "\t<tr><td>MS      </td><td>F       </td><td>18      </td><td>R       </td><td>GT3     </td><td>T       </td><td>4       </td><td>4       </td><td>other   </td><td>teacher </td><td>...     </td><td>3       </td><td>2       </td><td>2       </td><td>4       </td><td>2       </td><td>5       </td><td>10      </td><td>14      </td><td>12      </td><td>11      </td></tr>\n",
       "\t<tr><td>MS      </td><td>F       </td><td>19      </td><td>U       </td><td>LE3     </td><td>T       </td><td>3       </td><td>2       </td><td>services</td><td>services</td><td>...     </td><td>3       </td><td>2       </td><td>2       </td><td>1       </td><td>1       </td><td>3       </td><td> 4      </td><td> 7      </td><td> 7      </td><td> 9      </td></tr>\n",
       "\t<tr><td>MS      </td><td>M       </td><td>18      </td><td>R       </td><td>LE3     </td><td>T       </td><td>1       </td><td>2       </td><td>at_home </td><td>services</td><td>...     </td><td>4       </td><td>3       </td><td>3       </td><td>2       </td><td>3       </td><td>3       </td><td> 3      </td><td>14      </td><td>12      </td><td>12      </td></tr>\n",
       "\t<tr><td>MS      </td><td>F       </td><td>17      </td><td>U       </td><td>GT3     </td><td>T       </td><td>2       </td><td>2       </td><td>other   </td><td>at_home </td><td>...     </td><td>3       </td><td>4       </td><td>3       </td><td>1       </td><td>1       </td><td>3       </td><td> 8      </td><td>13      </td><td>11      </td><td>11      </td></tr>\n",
       "\t<tr><td>MS      </td><td>F       </td><td>17      </td><td>R       </td><td>GT3     </td><td>T       </td><td>1       </td><td>2       </td><td>other   </td><td>other   </td><td>...     </td><td>3       </td><td>5       </td><td>5       </td><td>1       </td><td>3       </td><td>1       </td><td>14      </td><td> 6      </td><td> 5      </td><td> 5      </td></tr>\n",
       "\t<tr><td>MS      </td><td>F       </td><td>18      </td><td>R       </td><td>LE3     </td><td>T       </td><td>4       </td><td>4       </td><td>other   </td><td>other   </td><td>...     </td><td>5       </td><td>4       </td><td>4       </td><td>1       </td><td>1       </td><td>1       </td><td> 0      </td><td>19      </td><td>18      </td><td>19      </td></tr>\n",
       "\t<tr><td>MS      </td><td>F       </td><td>18      </td><td>R       </td><td>GT3     </td><td>T       </td><td>1       </td><td>1       </td><td>other   </td><td>other   </td><td>...     </td><td>4       </td><td>3       </td><td>2       </td><td>1       </td><td>2       </td><td>4       </td><td> 2      </td><td> 8      </td><td> 8      </td><td>10      </td></tr>\n",
       "\t<tr><td>MS      </td><td>F       </td><td>20      </td><td>U       </td><td>GT3     </td><td>T       </td><td>4       </td><td>2       </td><td>health  </td><td>other   </td><td>...     </td><td>5       </td><td>4       </td><td>3       </td><td>1       </td><td>1       </td><td>3       </td><td> 4      </td><td>15      </td><td>14      </td><td>15      </td></tr>\n",
       "\t<tr><td>MS      </td><td>F       </td><td>18      </td><td>R       </td><td>LE3     </td><td>T       </td><td>4       </td><td>4       </td><td>teacher </td><td>services</td><td>...     </td><td>5       </td><td>4       </td><td>3       </td><td>3       </td><td>4       </td><td>2       </td><td> 4      </td><td> 8      </td><td> 9      </td><td>10      </td></tr>\n",
       "\t<tr><td>MS      </td><td>F       </td><td>18      </td><td>U       </td><td>GT3     </td><td>T       </td><td>3       </td><td>3       </td><td>other   </td><td>other   </td><td>...     </td><td>4       </td><td>1       </td><td>3       </td><td>1       </td><td>2       </td><td>1       </td><td> 0      </td><td>15      </td><td>15      </td><td>15      </td></tr>\n",
       "\t<tr><td>MS      </td><td>F       </td><td>17      </td><td>R       </td><td>GT3     </td><td>T       </td><td>3       </td><td>1       </td><td>at_home </td><td>other   </td><td>...     </td><td>4       </td><td>5       </td><td>4       </td><td>2       </td><td>3       </td><td>1       </td><td>17      </td><td>10      </td><td>10      </td><td>10      </td></tr>\n",
       "\t<tr><td>MS      </td><td>M       </td><td>18      </td><td>U       </td><td>GT3     </td><td>T       </td><td>4       </td><td>4       </td><td>teacher </td><td>teacher </td><td>...     </td><td>3       </td><td>2       </td><td>4       </td><td>1       </td><td>4       </td><td>2       </td><td> 4      </td><td>15      </td><td>14      </td><td>14      </td></tr>\n",
       "\t<tr><td>MS      </td><td>M       </td><td>18      </td><td>R       </td><td>GT3     </td><td>T       </td><td>2       </td><td>1       </td><td>other   </td><td>other   </td><td>...     </td><td>4       </td><td>4       </td><td>3       </td><td>1       </td><td>3       </td><td>5       </td><td> 5      </td><td> 7      </td><td> 6      </td><td> 7      </td></tr>\n",
       "\t<tr><td>MS      </td><td>M       </td><td>17      </td><td>U       </td><td>GT3     </td><td>T       </td><td>2       </td><td>3       </td><td>other   </td><td>services</td><td>...     </td><td>4       </td><td>4       </td><td>3       </td><td>1       </td><td>1       </td><td>3       </td><td> 2      </td><td>11      </td><td>11      </td><td>10      </td></tr>\n",
       "\t<tr><td>MS      </td><td>M       </td><td>19      </td><td>R       </td><td>GT3     </td><td>T       </td><td>1       </td><td>1       </td><td>other   </td><td>services</td><td>...     </td><td>4       </td><td>3       </td><td>2       </td><td>1       </td><td>3       </td><td>5       </td><td> 0      </td><td> 6      </td><td> 5      </td><td> 0      </td></tr>\n",
       "\t<tr><td>MS      </td><td>M       </td><td>18      </td><td>R       </td><td>GT3     </td><td>T       </td><td>4       </td><td>2       </td><td>other   </td><td>other   </td><td>...     </td><td>5       </td><td>4       </td><td>3       </td><td>4       </td><td>3       </td><td>3       </td><td>14      </td><td> 6      </td><td> 5      </td><td> 5      </td></tr>\n",
       "\t<tr><td>MS      </td><td>F       </td><td>18      </td><td>R       </td><td>GT3     </td><td>T       </td><td>2       </td><td>2       </td><td>at_home </td><td>other   </td><td>...     </td><td>5       </td><td>3       </td><td>3       </td><td>1       </td><td>3       </td><td>4       </td><td> 2      </td><td>10      </td><td> 9      </td><td>10      </td></tr>\n",
       "\t<tr><td>MS      </td><td>F       </td><td>18      </td><td>R       </td><td>GT3     </td><td>T       </td><td>4       </td><td>4       </td><td>teacher </td><td>at_home </td><td>...     </td><td>4       </td><td>4       </td><td>3       </td><td>2       </td><td>2       </td><td>5       </td><td> 7      </td><td> 6      </td><td> 5      </td><td> 6      </td></tr>\n",
       "\t<tr><td>MS      </td><td>F       </td><td>19      </td><td>R       </td><td>GT3     </td><td>T       </td><td>2       </td><td>3       </td><td>services</td><td>other   </td><td>...     </td><td>5       </td><td>4       </td><td>2       </td><td>1       </td><td>2       </td><td>5       </td><td> 0      </td><td> 7      </td><td> 5      </td><td> 0      </td></tr>\n",
       "\t<tr><td>MS      </td><td>F       </td><td>18      </td><td>U       </td><td>LE3     </td><td>T       </td><td>3       </td><td>1       </td><td>teacher </td><td>services</td><td>...     </td><td>4       </td><td>3       </td><td>4       </td><td>1       </td><td>1       </td><td>1       </td><td> 0      </td><td> 7      </td><td> 9      </td><td> 8      </td></tr>\n",
       "\t<tr><td>MS      </td><td>F       </td><td>18      </td><td>U       </td><td>GT3     </td><td>T       </td><td>1       </td><td>1       </td><td>other   </td><td>other   </td><td>...     </td><td>1       </td><td>1       </td><td>1       </td><td>1       </td><td>1       </td><td>5       </td><td> 0      </td><td> 6      </td><td> 5      </td><td> 0      </td></tr>\n",
       "\t<tr><td>MS      </td><td>M       </td><td>20      </td><td>U       </td><td>LE3     </td><td>A       </td><td>2       </td><td>2       </td><td>services</td><td>services</td><td>...     </td><td>5       </td><td>5       </td><td>4       </td><td>4       </td><td>5       </td><td>4       </td><td>11      </td><td> 9      </td><td> 9      </td><td> 9      </td></tr>\n",
       "\t<tr><td>MS      </td><td>M       </td><td>17      </td><td>U       </td><td>LE3     </td><td>T       </td><td>3       </td><td>1       </td><td>services</td><td>services</td><td>...     </td><td>2       </td><td>4       </td><td>5       </td><td>3       </td><td>4       </td><td>2       </td><td> 3      </td><td>14      </td><td>16      </td><td>16      </td></tr>\n",
       "\t<tr><td>MS      </td><td>M       </td><td>21      </td><td>R       </td><td>GT3     </td><td>T       </td><td>1       </td><td>1       </td><td>other   </td><td>other   </td><td>...     </td><td>5       </td><td>5       </td><td>3       </td><td>3       </td><td>3       </td><td>3       </td><td> 3      </td><td>10      </td><td> 8      </td><td> 7      </td></tr>\n",
       "\t<tr><td>MS      </td><td>M       </td><td>18      </td><td>R       </td><td>LE3     </td><td>T       </td><td>3       </td><td>2       </td><td>services</td><td>other   </td><td>...     </td><td>4       </td><td>4       </td><td>1       </td><td>3       </td><td>4       </td><td>5       </td><td> 0      </td><td>11      </td><td>12      </td><td>10      </td></tr>\n",
       "\t<tr><td>MS      </td><td>M       </td><td>19      </td><td>U       </td><td>LE3     </td><td>T       </td><td>1       </td><td>1       </td><td>other   </td><td>at_home </td><td>...     </td><td>3       </td><td>2       </td><td>3       </td><td>3       </td><td>3       </td><td>5       </td><td> 5      </td><td> 8      </td><td> 9      </td><td> 9      </td></tr>\n",
       "</tbody>\n",
       "</table>\n"
      ],
      "text/latex": [
       "\\begin{tabular}{r|lllllllllllllllllllllllllllllllll}\n",
       " school & sex & age & address & famsize & Pstatus & Medu & Fedu & Mjob & Fjob & ... & famrel & freetime & goout & Dalc & Walc & health & absences & G1 & G2 & G3\\\\\n",
       "\\hline\n",
       "\t GP         & F          & 18         & U          & GT3        & A          & 4          & 4          & at\\_home  & teacher    & ...        & 4          & 3          & 4          & 1          & 1          & 3          &  6         &  5         &  6         &  6        \\\\\n",
       "\t GP         & F          & 17         & U          & GT3        & T          & 1          & 1          & at\\_home  & other      & ...        & 5          & 3          & 3          & 1          & 1          & 3          &  4         &  5         &  5         &  6        \\\\\n",
       "\t GP         & F          & 15         & U          & LE3        & T          & 1          & 1          & at\\_home  & other      & ...        & 4          & 3          & 2          & 2          & 3          & 3          & 10         &  7         &  8         & 10        \\\\\n",
       "\t GP       & F        & 15       & U        & GT3      & T        & 4        & 2        & health   & services & ...      & 3        & 2        & 2        & 1        & 1        & 5        &  2       & 15       & 14       & 15      \\\\\n",
       "\t GP       & F        & 16       & U        & GT3      & T        & 3        & 3        & other    & other    & ...      & 4        & 3        & 2        & 1        & 2        & 5        &  4       &  6       & 10       & 10      \\\\\n",
       "\t GP       & M        & 16       & U        & LE3      & T        & 4        & 3        & services & other    & ...      & 5        & 4        & 2        & 1        & 2        & 5        & 10       & 15       & 15       & 15      \\\\\n",
       "\t GP       & M        & 16       & U        & LE3      & T        & 2        & 2        & other    & other    & ...      & 4        & 4        & 4        & 1        & 1        & 3        &  0       & 12       & 12       & 11      \\\\\n",
       "\t GP       & F        & 17       & U        & GT3      & A        & 4        & 4        & other    & teacher  & ...      & 4        & 1        & 4        & 1        & 1        & 1        &  6       &  6       &  5       &  6      \\\\\n",
       "\t GP       & M        & 15       & U        & LE3      & A        & 3        & 2        & services & other    & ...      & 4        & 2        & 2        & 1        & 1        & 1        &  0       & 16       & 18       & 19      \\\\\n",
       "\t GP       & M        & 15       & U        & GT3      & T        & 3        & 4        & other    & other    & ...      & 5        & 5        & 1        & 1        & 1        & 5        &  0       & 14       & 15       & 15      \\\\\n",
       "\t GP       & F        & 15       & U        & GT3      & T        & 4        & 4        & teacher  & health   & ...      & 3        & 3        & 3        & 1        & 2        & 2        &  0       & 10       &  8       &  9      \\\\\n",
       "\t GP       & F        & 15       & U        & GT3      & T        & 2        & 1        & services & other    & ...      & 5        & 2        & 2        & 1        & 1        & 4        &  4       & 10       & 12       & 12      \\\\\n",
       "\t GP       & M        & 15       & U        & LE3      & T        & 4        & 4        & health   & services & ...      & 4        & 3        & 3        & 1        & 3        & 5        &  2       & 14       & 14       & 14      \\\\\n",
       "\t GP       & M        & 15       & U        & GT3      & T        & 4        & 3        & teacher  & other    & ...      & 5        & 4        & 3        & 1        & 2        & 3        &  2       & 10       & 10       & 11      \\\\\n",
       "\t GP       & M        & 15       & U        & GT3      & A        & 2        & 2        & other    & other    & ...      & 4        & 5        & 2        & 1        & 1        & 3        &  0       & 14       & 16       & 16      \\\\\n",
       "\t GP       & F        & 16       & U        & GT3      & T        & 4        & 4        & health   & other    & ...      & 4        & 4        & 4        & 1        & 2        & 2        &  4       & 14       & 14       & 14      \\\\\n",
       "\t GP       & F        & 16       & U        & GT3      & T        & 4        & 4        & services & services & ...      & 3        & 2        & 3        & 1        & 2        & 2        &  6       & 13       & 14       & 14      \\\\\n",
       "\t GP       & F        & 16       & U        & GT3      & T        & 3        & 3        & other    & other    & ...      & 5        & 3        & 2        & 1        & 1        & 4        &  4       &  8       & 10       & 10      \\\\\n",
       "\t GP       & M        & 17       & U        & GT3      & T        & 3        & 2        & services & services & ...      & 5        & 5        & 5        & 2        & 4        & 5        & 16       &  6       &  5       &  5      \\\\\n",
       "\t GP       & M        & 16       & U        & LE3      & T        & 4        & 3        & health   & other    & ...      & 3        & 1        & 3        & 1        & 3        & 5        &  4       &  8       & 10       & 10      \\\\\n",
       "\t GP       & M        & 15       & U        & GT3      & T        & 4        & 3        & teacher  & other    & ...      & 4        & 4        & 1        & 1        & 1        & 1        &  0       & 13       & 14       & 15      \\\\\n",
       "\t GP       & M        & 15       & U        & GT3      & T        & 4        & 4        & health   & health   & ...      & 5        & 4        & 2        & 1        & 1        & 5        &  0       & 12       & 15       & 15      \\\\\n",
       "\t GP       & M        & 16       & U        & LE3      & T        & 4        & 2        & teacher  & other    & ...      & 4        & 5        & 1        & 1        & 3        & 5        &  2       & 15       & 15       & 16      \\\\\n",
       "\t GP       & M        & 16       & U        & LE3      & T        & 2        & 2        & other    & other    & ...      & 5        & 4        & 4        & 2        & 4        & 5        &  0       & 13       & 13       & 12      \\\\\n",
       "\t GP       & F        & 15       & R        & GT3      & T        & 2        & 4        & services & health   & ...      & 4        & 3        & 2        & 1        & 1        & 5        &  2       & 10       &  9       &  8      \\\\\n",
       "\t GP       & F        & 16       & U        & GT3      & T        & 2        & 2        & services & services & ...      & 1        & 2        & 2        & 1        & 3        & 5        & 14       &  6       &  9       &  8      \\\\\n",
       "\t GP       & M        & 15       & U        & GT3      & T        & 2        & 2        & other    & other    & ...      & 4        & 2        & 2        & 1        & 2        & 5        &  2       & 12       & 12       & 11      \\\\\n",
       "\t GP       & M        & 15       & U        & GT3      & T        & 4        & 2        & health   & services & ...      & 2        & 2        & 4        & 2        & 4        & 1        &  4       & 15       & 16       & 15      \\\\\n",
       "\t GP       & M        & 16       & U        & LE3      & A        & 3        & 4        & services & other    & ...      & 5        & 3        & 3        & 1        & 1        & 5        &  4       & 11       & 11       & 11      \\\\\n",
       "\t GP       & M        & 16       & U        & GT3      & T        & 4        & 4        & teacher  & teacher  & ...      & 4        & 4        & 5        & 5        & 5        & 5        & 16       & 10       & 12       & 11      \\\\\n",
       "\t ... & ... & ... & ... & ... & ... & ... & ... & ... & ... &     & ... & ... & ... & ... & ... & ... & ... & ... & ... & ...\\\\\n",
       "\t MS         & M          & 18         & R          & GT3        & T          & 1          & 3          & at\\_home  & other      & ...        & 3          & 3          & 4          & 2          & 4          & 3          &  4         & 10         & 10         & 10        \\\\\n",
       "\t MS       & M        & 18       & U        & LE3      & T        & 4        & 4        & teacher  & services & ...      & 4        & 2        & 2        & 2        & 2        & 5        &  0       & 13       & 13       & 13      \\\\\n",
       "\t MS       & F        & 17       & R        & GT3      & T        & 1        & 1        & other    & services & ...      & 5        & 2        & 1        & 1        & 2        & 1        &  0       &  7       &  6       &  0      \\\\\n",
       "\t MS         & F          & 18         & U          & GT3        & T          & 2          & 3          & at\\_home  & services   & ...        & 5          & 2          & 3          & 1          & 2          & 4          &  0         & 11         & 10         & 10        \\\\\n",
       "\t MS       & F        & 18       & R        & GT3      & T        & 4        & 4        & other    & teacher  & ...      & 3        & 2        & 2        & 4        & 2        & 5        & 10       & 14       & 12       & 11      \\\\\n",
       "\t MS       & F        & 19       & U        & LE3      & T        & 3        & 2        & services & services & ...      & 3        & 2        & 2        & 1        & 1        & 3        &  4       &  7       &  7       &  9      \\\\\n",
       "\t MS         & M          & 18         & R          & LE3        & T          & 1          & 2          & at\\_home  & services   & ...        & 4          & 3          & 3          & 2          & 3          & 3          &  3         & 14         & 12         & 12        \\\\\n",
       "\t MS         & F          & 17         & U          & GT3        & T          & 2          & 2          & other      & at\\_home  & ...        & 3          & 4          & 3          & 1          & 1          & 3          &  8         & 13         & 11         & 11        \\\\\n",
       "\t MS       & F        & 17       & R        & GT3      & T        & 1        & 2        & other    & other    & ...      & 3        & 5        & 5        & 1        & 3        & 1        & 14       &  6       &  5       &  5      \\\\\n",
       "\t MS       & F        & 18       & R        & LE3      & T        & 4        & 4        & other    & other    & ...      & 5        & 4        & 4        & 1        & 1        & 1        &  0       & 19       & 18       & 19      \\\\\n",
       "\t MS       & F        & 18       & R        & GT3      & T        & 1        & 1        & other    & other    & ...      & 4        & 3        & 2        & 1        & 2        & 4        &  2       &  8       &  8       & 10      \\\\\n",
       "\t MS       & F        & 20       & U        & GT3      & T        & 4        & 2        & health   & other    & ...      & 5        & 4        & 3        & 1        & 1        & 3        &  4       & 15       & 14       & 15      \\\\\n",
       "\t MS       & F        & 18       & R        & LE3      & T        & 4        & 4        & teacher  & services & ...      & 5        & 4        & 3        & 3        & 4        & 2        &  4       &  8       &  9       & 10      \\\\\n",
       "\t MS       & F        & 18       & U        & GT3      & T        & 3        & 3        & other    & other    & ...      & 4        & 1        & 3        & 1        & 2        & 1        &  0       & 15       & 15       & 15      \\\\\n",
       "\t MS         & F          & 17         & R          & GT3        & T          & 3          & 1          & at\\_home  & other      & ...        & 4          & 5          & 4          & 2          & 3          & 1          & 17         & 10         & 10         & 10        \\\\\n",
       "\t MS       & M        & 18       & U        & GT3      & T        & 4        & 4        & teacher  & teacher  & ...      & 3        & 2        & 4        & 1        & 4        & 2        &  4       & 15       & 14       & 14      \\\\\n",
       "\t MS       & M        & 18       & R        & GT3      & T        & 2        & 1        & other    & other    & ...      & 4        & 4        & 3        & 1        & 3        & 5        &  5       &  7       &  6       &  7      \\\\\n",
       "\t MS       & M        & 17       & U        & GT3      & T        & 2        & 3        & other    & services & ...      & 4        & 4        & 3        & 1        & 1        & 3        &  2       & 11       & 11       & 10      \\\\\n",
       "\t MS       & M        & 19       & R        & GT3      & T        & 1        & 1        & other    & services & ...      & 4        & 3        & 2        & 1        & 3        & 5        &  0       &  6       &  5       &  0      \\\\\n",
       "\t MS       & M        & 18       & R        & GT3      & T        & 4        & 2        & other    & other    & ...      & 5        & 4        & 3        & 4        & 3        & 3        & 14       &  6       &  5       &  5      \\\\\n",
       "\t MS         & F          & 18         & R          & GT3        & T          & 2          & 2          & at\\_home  & other      & ...        & 5          & 3          & 3          & 1          & 3          & 4          &  2         & 10         &  9         & 10        \\\\\n",
       "\t MS         & F          & 18         & R          & GT3        & T          & 4          & 4          & teacher    & at\\_home  & ...        & 4          & 4          & 3          & 2          & 2          & 5          &  7         &  6         &  5         &  6        \\\\\n",
       "\t MS       & F        & 19       & R        & GT3      & T        & 2        & 3        & services & other    & ...      & 5        & 4        & 2        & 1        & 2        & 5        &  0       &  7       &  5       &  0      \\\\\n",
       "\t MS       & F        & 18       & U        & LE3      & T        & 3        & 1        & teacher  & services & ...      & 4        & 3        & 4        & 1        & 1        & 1        &  0       &  7       &  9       &  8      \\\\\n",
       "\t MS       & F        & 18       & U        & GT3      & T        & 1        & 1        & other    & other    & ...      & 1        & 1        & 1        & 1        & 1        & 5        &  0       &  6       &  5       &  0      \\\\\n",
       "\t MS       & M        & 20       & U        & LE3      & A        & 2        & 2        & services & services & ...      & 5        & 5        & 4        & 4        & 5        & 4        & 11       &  9       &  9       &  9      \\\\\n",
       "\t MS       & M        & 17       & U        & LE3      & T        & 3        & 1        & services & services & ...      & 2        & 4        & 5        & 3        & 4        & 2        &  3       & 14       & 16       & 16      \\\\\n",
       "\t MS       & M        & 21       & R        & GT3      & T        & 1        & 1        & other    & other    & ...      & 5        & 5        & 3        & 3        & 3        & 3        &  3       & 10       &  8       &  7      \\\\\n",
       "\t MS       & M        & 18       & R        & LE3      & T        & 3        & 2        & services & other    & ...      & 4        & 4        & 1        & 3        & 4        & 5        &  0       & 11       & 12       & 10      \\\\\n",
       "\t MS         & M          & 19         & U          & LE3        & T          & 1          & 1          & other      & at\\_home  & ...        & 3          & 2          & 3          & 3          & 3          & 5          &  5         &  8         &  9         &  9        \\\\\n",
       "\\end{tabular}\n"
      ],
      "text/markdown": [
       "\n",
       "| school | sex | age | address | famsize | Pstatus | Medu | Fedu | Mjob | Fjob | ... | famrel | freetime | goout | Dalc | Walc | health | absences | G1 | G2 | G3 |\n",
       "|---|---|---|---|---|---|---|---|---|---|---|---|---|---|---|---|---|---|---|---|---|\n",
       "| GP       | F        | 18       | U        | GT3      | A        | 4        | 4        | at_home  | teacher  | ...      | 4        | 3        | 4        | 1        | 1        | 3        |  6       |  5       |  6       |  6       |\n",
       "| GP       | F        | 17       | U        | GT3      | T        | 1        | 1        | at_home  | other    | ...      | 5        | 3        | 3        | 1        | 1        | 3        |  4       |  5       |  5       |  6       |\n",
       "| GP       | F        | 15       | U        | LE3      | T        | 1        | 1        | at_home  | other    | ...      | 4        | 3        | 2        | 2        | 3        | 3        | 10       |  7       |  8       | 10       |\n",
       "| GP       | F        | 15       | U        | GT3      | T        | 4        | 2        | health   | services | ...      | 3        | 2        | 2        | 1        | 1        | 5        |  2       | 15       | 14       | 15       |\n",
       "| GP       | F        | 16       | U        | GT3      | T        | 3        | 3        | other    | other    | ...      | 4        | 3        | 2        | 1        | 2        | 5        |  4       |  6       | 10       | 10       |\n",
       "| GP       | M        | 16       | U        | LE3      | T        | 4        | 3        | services | other    | ...      | 5        | 4        | 2        | 1        | 2        | 5        | 10       | 15       | 15       | 15       |\n",
       "| GP       | M        | 16       | U        | LE3      | T        | 2        | 2        | other    | other    | ...      | 4        | 4        | 4        | 1        | 1        | 3        |  0       | 12       | 12       | 11       |\n",
       "| GP       | F        | 17       | U        | GT3      | A        | 4        | 4        | other    | teacher  | ...      | 4        | 1        | 4        | 1        | 1        | 1        |  6       |  6       |  5       |  6       |\n",
       "| GP       | M        | 15       | U        | LE3      | A        | 3        | 2        | services | other    | ...      | 4        | 2        | 2        | 1        | 1        | 1        |  0       | 16       | 18       | 19       |\n",
       "| GP       | M        | 15       | U        | GT3      | T        | 3        | 4        | other    | other    | ...      | 5        | 5        | 1        | 1        | 1        | 5        |  0       | 14       | 15       | 15       |\n",
       "| GP       | F        | 15       | U        | GT3      | T        | 4        | 4        | teacher  | health   | ...      | 3        | 3        | 3        | 1        | 2        | 2        |  0       | 10       |  8       |  9       |\n",
       "| GP       | F        | 15       | U        | GT3      | T        | 2        | 1        | services | other    | ...      | 5        | 2        | 2        | 1        | 1        | 4        |  4       | 10       | 12       | 12       |\n",
       "| GP       | M        | 15       | U        | LE3      | T        | 4        | 4        | health   | services | ...      | 4        | 3        | 3        | 1        | 3        | 5        |  2       | 14       | 14       | 14       |\n",
       "| GP       | M        | 15       | U        | GT3      | T        | 4        | 3        | teacher  | other    | ...      | 5        | 4        | 3        | 1        | 2        | 3        |  2       | 10       | 10       | 11       |\n",
       "| GP       | M        | 15       | U        | GT3      | A        | 2        | 2        | other    | other    | ...      | 4        | 5        | 2        | 1        | 1        | 3        |  0       | 14       | 16       | 16       |\n",
       "| GP       | F        | 16       | U        | GT3      | T        | 4        | 4        | health   | other    | ...      | 4        | 4        | 4        | 1        | 2        | 2        |  4       | 14       | 14       | 14       |\n",
       "| GP       | F        | 16       | U        | GT3      | T        | 4        | 4        | services | services | ...      | 3        | 2        | 3        | 1        | 2        | 2        |  6       | 13       | 14       | 14       |\n",
       "| GP       | F        | 16       | U        | GT3      | T        | 3        | 3        | other    | other    | ...      | 5        | 3        | 2        | 1        | 1        | 4        |  4       |  8       | 10       | 10       |\n",
       "| GP       | M        | 17       | U        | GT3      | T        | 3        | 2        | services | services | ...      | 5        | 5        | 5        | 2        | 4        | 5        | 16       |  6       |  5       |  5       |\n",
       "| GP       | M        | 16       | U        | LE3      | T        | 4        | 3        | health   | other    | ...      | 3        | 1        | 3        | 1        | 3        | 5        |  4       |  8       | 10       | 10       |\n",
       "| GP       | M        | 15       | U        | GT3      | T        | 4        | 3        | teacher  | other    | ...      | 4        | 4        | 1        | 1        | 1        | 1        |  0       | 13       | 14       | 15       |\n",
       "| GP       | M        | 15       | U        | GT3      | T        | 4        | 4        | health   | health   | ...      | 5        | 4        | 2        | 1        | 1        | 5        |  0       | 12       | 15       | 15       |\n",
       "| GP       | M        | 16       | U        | LE3      | T        | 4        | 2        | teacher  | other    | ...      | 4        | 5        | 1        | 1        | 3        | 5        |  2       | 15       | 15       | 16       |\n",
       "| GP       | M        | 16       | U        | LE3      | T        | 2        | 2        | other    | other    | ...      | 5        | 4        | 4        | 2        | 4        | 5        |  0       | 13       | 13       | 12       |\n",
       "| GP       | F        | 15       | R        | GT3      | T        | 2        | 4        | services | health   | ...      | 4        | 3        | 2        | 1        | 1        | 5        |  2       | 10       |  9       |  8       |\n",
       "| GP       | F        | 16       | U        | GT3      | T        | 2        | 2        | services | services | ...      | 1        | 2        | 2        | 1        | 3        | 5        | 14       |  6       |  9       |  8       |\n",
       "| GP       | M        | 15       | U        | GT3      | T        | 2        | 2        | other    | other    | ...      | 4        | 2        | 2        | 1        | 2        | 5        |  2       | 12       | 12       | 11       |\n",
       "| GP       | M        | 15       | U        | GT3      | T        | 4        | 2        | health   | services | ...      | 2        | 2        | 4        | 2        | 4        | 1        |  4       | 15       | 16       | 15       |\n",
       "| GP       | M        | 16       | U        | LE3      | A        | 3        | 4        | services | other    | ...      | 5        | 3        | 3        | 1        | 1        | 5        |  4       | 11       | 11       | 11       |\n",
       "| GP       | M        | 16       | U        | GT3      | T        | 4        | 4        | teacher  | teacher  | ...      | 4        | 4        | 5        | 5        | 5        | 5        | 16       | 10       | 12       | 11       |\n",
       "| ... | ... | ... | ... | ... | ... | ... | ... | ... | ... |     | ... | ... | ... | ... | ... | ... | ... | ... | ... | ... |\n",
       "| MS       | M        | 18       | R        | GT3      | T        | 1        | 3        | at_home  | other    | ...      | 3        | 3        | 4        | 2        | 4        | 3        |  4       | 10       | 10       | 10       |\n",
       "| MS       | M        | 18       | U        | LE3      | T        | 4        | 4        | teacher  | services | ...      | 4        | 2        | 2        | 2        | 2        | 5        |  0       | 13       | 13       | 13       |\n",
       "| MS       | F        | 17       | R        | GT3      | T        | 1        | 1        | other    | services | ...      | 5        | 2        | 1        | 1        | 2        | 1        |  0       |  7       |  6       |  0       |\n",
       "| MS       | F        | 18       | U        | GT3      | T        | 2        | 3        | at_home  | services | ...      | 5        | 2        | 3        | 1        | 2        | 4        |  0       | 11       | 10       | 10       |\n",
       "| MS       | F        | 18       | R        | GT3      | T        | 4        | 4        | other    | teacher  | ...      | 3        | 2        | 2        | 4        | 2        | 5        | 10       | 14       | 12       | 11       |\n",
       "| MS       | F        | 19       | U        | LE3      | T        | 3        | 2        | services | services | ...      | 3        | 2        | 2        | 1        | 1        | 3        |  4       |  7       |  7       |  9       |\n",
       "| MS       | M        | 18       | R        | LE3      | T        | 1        | 2        | at_home  | services | ...      | 4        | 3        | 3        | 2        | 3        | 3        |  3       | 14       | 12       | 12       |\n",
       "| MS       | F        | 17       | U        | GT3      | T        | 2        | 2        | other    | at_home  | ...      | 3        | 4        | 3        | 1        | 1        | 3        |  8       | 13       | 11       | 11       |\n",
       "| MS       | F        | 17       | R        | GT3      | T        | 1        | 2        | other    | other    | ...      | 3        | 5        | 5        | 1        | 3        | 1        | 14       |  6       |  5       |  5       |\n",
       "| MS       | F        | 18       | R        | LE3      | T        | 4        | 4        | other    | other    | ...      | 5        | 4        | 4        | 1        | 1        | 1        |  0       | 19       | 18       | 19       |\n",
       "| MS       | F        | 18       | R        | GT3      | T        | 1        | 1        | other    | other    | ...      | 4        | 3        | 2        | 1        | 2        | 4        |  2       |  8       |  8       | 10       |\n",
       "| MS       | F        | 20       | U        | GT3      | T        | 4        | 2        | health   | other    | ...      | 5        | 4        | 3        | 1        | 1        | 3        |  4       | 15       | 14       | 15       |\n",
       "| MS       | F        | 18       | R        | LE3      | T        | 4        | 4        | teacher  | services | ...      | 5        | 4        | 3        | 3        | 4        | 2        |  4       |  8       |  9       | 10       |\n",
       "| MS       | F        | 18       | U        | GT3      | T        | 3        | 3        | other    | other    | ...      | 4        | 1        | 3        | 1        | 2        | 1        |  0       | 15       | 15       | 15       |\n",
       "| MS       | F        | 17       | R        | GT3      | T        | 3        | 1        | at_home  | other    | ...      | 4        | 5        | 4        | 2        | 3        | 1        | 17       | 10       | 10       | 10       |\n",
       "| MS       | M        | 18       | U        | GT3      | T        | 4        | 4        | teacher  | teacher  | ...      | 3        | 2        | 4        | 1        | 4        | 2        |  4       | 15       | 14       | 14       |\n",
       "| MS       | M        | 18       | R        | GT3      | T        | 2        | 1        | other    | other    | ...      | 4        | 4        | 3        | 1        | 3        | 5        |  5       |  7       |  6       |  7       |\n",
       "| MS       | M        | 17       | U        | GT3      | T        | 2        | 3        | other    | services | ...      | 4        | 4        | 3        | 1        | 1        | 3        |  2       | 11       | 11       | 10       |\n",
       "| MS       | M        | 19       | R        | GT3      | T        | 1        | 1        | other    | services | ...      | 4        | 3        | 2        | 1        | 3        | 5        |  0       |  6       |  5       |  0       |\n",
       "| MS       | M        | 18       | R        | GT3      | T        | 4        | 2        | other    | other    | ...      | 5        | 4        | 3        | 4        | 3        | 3        | 14       |  6       |  5       |  5       |\n",
       "| MS       | F        | 18       | R        | GT3      | T        | 2        | 2        | at_home  | other    | ...      | 5        | 3        | 3        | 1        | 3        | 4        |  2       | 10       |  9       | 10       |\n",
       "| MS       | F        | 18       | R        | GT3      | T        | 4        | 4        | teacher  | at_home  | ...      | 4        | 4        | 3        | 2        | 2        | 5        |  7       |  6       |  5       |  6       |\n",
       "| MS       | F        | 19       | R        | GT3      | T        | 2        | 3        | services | other    | ...      | 5        | 4        | 2        | 1        | 2        | 5        |  0       |  7       |  5       |  0       |\n",
       "| MS       | F        | 18       | U        | LE3      | T        | 3        | 1        | teacher  | services | ...      | 4        | 3        | 4        | 1        | 1        | 1        |  0       |  7       |  9       |  8       |\n",
       "| MS       | F        | 18       | U        | GT3      | T        | 1        | 1        | other    | other    | ...      | 1        | 1        | 1        | 1        | 1        | 5        |  0       |  6       |  5       |  0       |\n",
       "| MS       | M        | 20       | U        | LE3      | A        | 2        | 2        | services | services | ...      | 5        | 5        | 4        | 4        | 5        | 4        | 11       |  9       |  9       |  9       |\n",
       "| MS       | M        | 17       | U        | LE3      | T        | 3        | 1        | services | services | ...      | 2        | 4        | 5        | 3        | 4        | 2        |  3       | 14       | 16       | 16       |\n",
       "| MS       | M        | 21       | R        | GT3      | T        | 1        | 1        | other    | other    | ...      | 5        | 5        | 3        | 3        | 3        | 3        |  3       | 10       |  8       |  7       |\n",
       "| MS       | M        | 18       | R        | LE3      | T        | 3        | 2        | services | other    | ...      | 4        | 4        | 1        | 3        | 4        | 5        |  0       | 11       | 12       | 10       |\n",
       "| MS       | M        | 19       | U        | LE3      | T        | 1        | 1        | other    | at_home  | ...      | 3        | 2        | 3        | 3        | 3        | 5        |  5       |  8       |  9       |  9       |\n",
       "\n"
      ],
      "text/plain": [
       "    school sex age address famsize Pstatus Medu Fedu Mjob     Fjob     ...\n",
       "1   GP     F   18  U       GT3     A       4    4    at_home  teacher  ...\n",
       "2   GP     F   17  U       GT3     T       1    1    at_home  other    ...\n",
       "3   GP     F   15  U       LE3     T       1    1    at_home  other    ...\n",
       "4   GP     F   15  U       GT3     T       4    2    health   services ...\n",
       "5   GP     F   16  U       GT3     T       3    3    other    other    ...\n",
       "6   GP     M   16  U       LE3     T       4    3    services other    ...\n",
       "7   GP     M   16  U       LE3     T       2    2    other    other    ...\n",
       "8   GP     F   17  U       GT3     A       4    4    other    teacher  ...\n",
       "9   GP     M   15  U       LE3     A       3    2    services other    ...\n",
       "10  GP     M   15  U       GT3     T       3    4    other    other    ...\n",
       "11  GP     F   15  U       GT3     T       4    4    teacher  health   ...\n",
       "12  GP     F   15  U       GT3     T       2    1    services other    ...\n",
       "13  GP     M   15  U       LE3     T       4    4    health   services ...\n",
       "14  GP     M   15  U       GT3     T       4    3    teacher  other    ...\n",
       "15  GP     M   15  U       GT3     A       2    2    other    other    ...\n",
       "16  GP     F   16  U       GT3     T       4    4    health   other    ...\n",
       "17  GP     F   16  U       GT3     T       4    4    services services ...\n",
       "18  GP     F   16  U       GT3     T       3    3    other    other    ...\n",
       "19  GP     M   17  U       GT3     T       3    2    services services ...\n",
       "20  GP     M   16  U       LE3     T       4    3    health   other    ...\n",
       "21  GP     M   15  U       GT3     T       4    3    teacher  other    ...\n",
       "22  GP     M   15  U       GT3     T       4    4    health   health   ...\n",
       "23  GP     M   16  U       LE3     T       4    2    teacher  other    ...\n",
       "24  GP     M   16  U       LE3     T       2    2    other    other    ...\n",
       "25  GP     F   15  R       GT3     T       2    4    services health   ...\n",
       "26  GP     F   16  U       GT3     T       2    2    services services ...\n",
       "27  GP     M   15  U       GT3     T       2    2    other    other    ...\n",
       "28  GP     M   15  U       GT3     T       4    2    health   services ...\n",
       "29  GP     M   16  U       LE3     A       3    4    services other    ...\n",
       "30  GP     M   16  U       GT3     T       4    4    teacher  teacher  ...\n",
       "... ...    ... ... ...     ...     ...     ...  ...  ...      ...         \n",
       "366 MS     M   18  R       GT3     T       1    3    at_home  other    ...\n",
       "367 MS     M   18  U       LE3     T       4    4    teacher  services ...\n",
       "368 MS     F   17  R       GT3     T       1    1    other    services ...\n",
       "369 MS     F   18  U       GT3     T       2    3    at_home  services ...\n",
       "370 MS     F   18  R       GT3     T       4    4    other    teacher  ...\n",
       "371 MS     F   19  U       LE3     T       3    2    services services ...\n",
       "372 MS     M   18  R       LE3     T       1    2    at_home  services ...\n",
       "373 MS     F   17  U       GT3     T       2    2    other    at_home  ...\n",
       "374 MS     F   17  R       GT3     T       1    2    other    other    ...\n",
       "375 MS     F   18  R       LE3     T       4    4    other    other    ...\n",
       "376 MS     F   18  R       GT3     T       1    1    other    other    ...\n",
       "377 MS     F   20  U       GT3     T       4    2    health   other    ...\n",
       "378 MS     F   18  R       LE3     T       4    4    teacher  services ...\n",
       "379 MS     F   18  U       GT3     T       3    3    other    other    ...\n",
       "380 MS     F   17  R       GT3     T       3    1    at_home  other    ...\n",
       "381 MS     M   18  U       GT3     T       4    4    teacher  teacher  ...\n",
       "382 MS     M   18  R       GT3     T       2    1    other    other    ...\n",
       "383 MS     M   17  U       GT3     T       2    3    other    services ...\n",
       "384 MS     M   19  R       GT3     T       1    1    other    services ...\n",
       "385 MS     M   18  R       GT3     T       4    2    other    other    ...\n",
       "386 MS     F   18  R       GT3     T       2    2    at_home  other    ...\n",
       "387 MS     F   18  R       GT3     T       4    4    teacher  at_home  ...\n",
       "388 MS     F   19  R       GT3     T       2    3    services other    ...\n",
       "389 MS     F   18  U       LE3     T       3    1    teacher  services ...\n",
       "390 MS     F   18  U       GT3     T       1    1    other    other    ...\n",
       "391 MS     M   20  U       LE3     A       2    2    services services ...\n",
       "392 MS     M   17  U       LE3     T       3    1    services services ...\n",
       "393 MS     M   21  R       GT3     T       1    1    other    other    ...\n",
       "394 MS     M   18  R       LE3     T       3    2    services other    ...\n",
       "395 MS     M   19  U       LE3     T       1    1    other    at_home  ...\n",
       "    famrel freetime goout Dalc Walc health absences G1  G2  G3 \n",
       "1   4      3        4     1    1    3       6        5   6   6 \n",
       "2   5      3        3     1    1    3       4        5   5   6 \n",
       "3   4      3        2     2    3    3      10        7   8  10 \n",
       "4   3      2        2     1    1    5       2       15  14  15 \n",
       "5   4      3        2     1    2    5       4        6  10  10 \n",
       "6   5      4        2     1    2    5      10       15  15  15 \n",
       "7   4      4        4     1    1    3       0       12  12  11 \n",
       "8   4      1        4     1    1    1       6        6   5   6 \n",
       "9   4      2        2     1    1    1       0       16  18  19 \n",
       "10  5      5        1     1    1    5       0       14  15  15 \n",
       "11  3      3        3     1    2    2       0       10   8   9 \n",
       "12  5      2        2     1    1    4       4       10  12  12 \n",
       "13  4      3        3     1    3    5       2       14  14  14 \n",
       "14  5      4        3     1    2    3       2       10  10  11 \n",
       "15  4      5        2     1    1    3       0       14  16  16 \n",
       "16  4      4        4     1    2    2       4       14  14  14 \n",
       "17  3      2        3     1    2    2       6       13  14  14 \n",
       "18  5      3        2     1    1    4       4        8  10  10 \n",
       "19  5      5        5     2    4    5      16        6   5   5 \n",
       "20  3      1        3     1    3    5       4        8  10  10 \n",
       "21  4      4        1     1    1    1       0       13  14  15 \n",
       "22  5      4        2     1    1    5       0       12  15  15 \n",
       "23  4      5        1     1    3    5       2       15  15  16 \n",
       "24  5      4        4     2    4    5       0       13  13  12 \n",
       "25  4      3        2     1    1    5       2       10   9   8 \n",
       "26  1      2        2     1    3    5      14        6   9   8 \n",
       "27  4      2        2     1    2    5       2       12  12  11 \n",
       "28  2      2        4     2    4    1       4       15  16  15 \n",
       "29  5      3        3     1    1    5       4       11  11  11 \n",
       "30  4      4        5     5    5    5      16       10  12  11 \n",
       "... ...    ...      ...   ...  ...  ...    ...      ... ... ...\n",
       "366 3      3        4     2    4    3       4       10  10  10 \n",
       "367 4      2        2     2    2    5       0       13  13  13 \n",
       "368 5      2        1     1    2    1       0        7   6   0 \n",
       "369 5      2        3     1    2    4       0       11  10  10 \n",
       "370 3      2        2     4    2    5      10       14  12  11 \n",
       "371 3      2        2     1    1    3       4        7   7   9 \n",
       "372 4      3        3     2    3    3       3       14  12  12 \n",
       "373 3      4        3     1    1    3       8       13  11  11 \n",
       "374 3      5        5     1    3    1      14        6   5   5 \n",
       "375 5      4        4     1    1    1       0       19  18  19 \n",
       "376 4      3        2     1    2    4       2        8   8  10 \n",
       "377 5      4        3     1    1    3       4       15  14  15 \n",
       "378 5      4        3     3    4    2       4        8   9  10 \n",
       "379 4      1        3     1    2    1       0       15  15  15 \n",
       "380 4      5        4     2    3    1      17       10  10  10 \n",
       "381 3      2        4     1    4    2       4       15  14  14 \n",
       "382 4      4        3     1    3    5       5        7   6   7 \n",
       "383 4      4        3     1    1    3       2       11  11  10 \n",
       "384 4      3        2     1    3    5       0        6   5   0 \n",
       "385 5      4        3     4    3    3      14        6   5   5 \n",
       "386 5      3        3     1    3    4       2       10   9  10 \n",
       "387 4      4        3     2    2    5       7        6   5   6 \n",
       "388 5      4        2     1    2    5       0        7   5   0 \n",
       "389 4      3        4     1    1    1       0        7   9   8 \n",
       "390 1      1        1     1    1    5       0        6   5   0 \n",
       "391 5      5        4     4    5    4      11        9   9   9 \n",
       "392 2      4        5     3    4    2       3       14  16  16 \n",
       "393 5      5        3     3    3    3       3       10   8   7 \n",
       "394 4      4        1     3    4    5       0       11  12  10 \n",
       "395 3      2        3     3    3    5       5        8   9   9 "
      ]
     },
     "metadata": {},
     "output_type": "display_data"
    }
   ],
   "source": [
    "df = read.csv('C:/Users/MANI/Documents/R sem 2/linear_regression/studentdata/student-mat.csv',sep=';')\n",
    "df\n"
   ]
  },
  {
   "cell_type": "code",
   "execution_count": 54,
   "metadata": {},
   "outputs": [
    {
     "data": {
      "text/plain": [
       " school   sex          age       address famsize   Pstatus      Medu      \n",
       " GP:349   F:208   Min.   :15.0   R: 88   GT3:281   A: 41   Min.   :0.000  \n",
       " MS: 46   M:187   1st Qu.:16.0   U:307   LE3:114   T:354   1st Qu.:2.000  \n",
       "                  Median :17.0                             Median :3.000  \n",
       "                  Mean   :16.7                             Mean   :2.749  \n",
       "                  3rd Qu.:18.0                             3rd Qu.:4.000  \n",
       "                  Max.   :22.0                             Max.   :4.000  \n",
       "      Fedu             Mjob           Fjob            reason      guardian  \n",
       " Min.   :0.000   at_home : 59   at_home : 20   course    :145   father: 90  \n",
       " 1st Qu.:2.000   health  : 34   health  : 18   home      :109   mother:273  \n",
       " Median :2.000   other   :141   other   :217   other     : 36   other : 32  \n",
       " Mean   :2.522   services:103   services:111   reputation:105               \n",
       " 3rd Qu.:3.000   teacher : 58   teacher : 29                                \n",
       " Max.   :4.000                                                              \n",
       "   traveltime      studytime        failures      schoolsup famsup     paid    \n",
       " Min.   :1.000   Min.   :1.000   Min.   :0.0000   no :344   no :153   no :214  \n",
       " 1st Qu.:1.000   1st Qu.:1.000   1st Qu.:0.0000   yes: 51   yes:242   yes:181  \n",
       " Median :1.000   Median :2.000   Median :0.0000                                \n",
       " Mean   :1.448   Mean   :2.035   Mean   :0.3342                                \n",
       " 3rd Qu.:2.000   3rd Qu.:2.000   3rd Qu.:0.0000                                \n",
       " Max.   :4.000   Max.   :4.000   Max.   :3.0000                                \n",
       " activities nursery   higher    internet  romantic      famrel     \n",
       " no :194    no : 81   no : 20   no : 66   no :263   Min.   :1.000  \n",
       " yes:201    yes:314   yes:375   yes:329   yes:132   1st Qu.:4.000  \n",
       "                                                    Median :4.000  \n",
       "                                                    Mean   :3.944  \n",
       "                                                    3rd Qu.:5.000  \n",
       "                                                    Max.   :5.000  \n",
       "    freetime         goout            Dalc            Walc      \n",
       " Min.   :1.000   Min.   :1.000   Min.   :1.000   Min.   :1.000  \n",
       " 1st Qu.:3.000   1st Qu.:2.000   1st Qu.:1.000   1st Qu.:1.000  \n",
       " Median :3.000   Median :3.000   Median :1.000   Median :2.000  \n",
       " Mean   :3.235   Mean   :3.109   Mean   :1.481   Mean   :2.291  \n",
       " 3rd Qu.:4.000   3rd Qu.:4.000   3rd Qu.:2.000   3rd Qu.:3.000  \n",
       " Max.   :5.000   Max.   :5.000   Max.   :5.000   Max.   :5.000  \n",
       "     health         absences            G1              G2       \n",
       " Min.   :1.000   Min.   : 0.000   Min.   : 3.00   Min.   : 0.00  \n",
       " 1st Qu.:3.000   1st Qu.: 0.000   1st Qu.: 8.00   1st Qu.: 9.00  \n",
       " Median :4.000   Median : 4.000   Median :11.00   Median :11.00  \n",
       " Mean   :3.554   Mean   : 5.709   Mean   :10.91   Mean   :10.71  \n",
       " 3rd Qu.:5.000   3rd Qu.: 8.000   3rd Qu.:13.00   3rd Qu.:13.00  \n",
       " Max.   :5.000   Max.   :75.000   Max.   :19.00   Max.   :19.00  \n",
       "       G3       \n",
       " Min.   : 0.00  \n",
       " 1st Qu.: 8.00  \n",
       " Median :11.00  \n",
       " Mean   :10.42  \n",
       " 3rd Qu.:14.00  \n",
       " Max.   :20.00  "
      ]
     },
     "metadata": {},
     "output_type": "display_data"
    }
   ],
   "source": [
    "summary(df)"
   ]
  },
  {
   "cell_type": "code",
   "execution_count": 55,
   "metadata": {},
   "outputs": [
    {
     "name": "stdout",
     "output_type": "stream",
     "text": [
      "'data.frame':\t395 obs. of  33 variables:\n",
      " $ school    : Factor w/ 2 levels \"GP\",\"MS\": 1 1 1 1 1 1 1 1 1 1 ...\n",
      " $ sex       : Factor w/ 2 levels \"F\",\"M\": 1 1 1 1 1 2 2 1 2 2 ...\n",
      " $ age       : int  18 17 15 15 16 16 16 17 15 15 ...\n",
      " $ address   : Factor w/ 2 levels \"R\",\"U\": 2 2 2 2 2 2 2 2 2 2 ...\n",
      " $ famsize   : Factor w/ 2 levels \"GT3\",\"LE3\": 1 1 2 1 1 2 2 1 2 1 ...\n",
      " $ Pstatus   : Factor w/ 2 levels \"A\",\"T\": 1 2 2 2 2 2 2 1 1 2 ...\n",
      " $ Medu      : int  4 1 1 4 3 4 2 4 3 3 ...\n",
      " $ Fedu      : int  4 1 1 2 3 3 2 4 2 4 ...\n",
      " $ Mjob      : Factor w/ 5 levels \"at_home\",\"health\",..: 1 1 1 2 3 4 3 3 4 3 ...\n",
      " $ Fjob      : Factor w/ 5 levels \"at_home\",\"health\",..: 5 3 3 4 3 3 3 5 3 3 ...\n",
      " $ reason    : Factor w/ 4 levels \"course\",\"home\",..: 1 1 3 2 2 4 2 2 2 2 ...\n",
      " $ guardian  : Factor w/ 3 levels \"father\",\"mother\",..: 2 1 2 2 1 2 2 2 2 2 ...\n",
      " $ traveltime: int  2 1 1 1 1 1 1 2 1 1 ...\n",
      " $ studytime : int  2 2 2 3 2 2 2 2 2 2 ...\n",
      " $ failures  : int  0 0 3 0 0 0 0 0 0 0 ...\n",
      " $ schoolsup : Factor w/ 2 levels \"no\",\"yes\": 2 1 2 1 1 1 1 2 1 1 ...\n",
      " $ famsup    : Factor w/ 2 levels \"no\",\"yes\": 1 2 1 2 2 2 1 2 2 2 ...\n",
      " $ paid      : Factor w/ 2 levels \"no\",\"yes\": 1 1 2 2 2 2 1 1 2 2 ...\n",
      " $ activities: Factor w/ 2 levels \"no\",\"yes\": 1 1 1 2 1 2 1 1 1 2 ...\n",
      " $ nursery   : Factor w/ 2 levels \"no\",\"yes\": 2 1 2 2 2 2 2 2 2 2 ...\n",
      " $ higher    : Factor w/ 2 levels \"no\",\"yes\": 2 2 2 2 2 2 2 2 2 2 ...\n",
      " $ internet  : Factor w/ 2 levels \"no\",\"yes\": 1 2 2 2 1 2 2 1 2 2 ...\n",
      " $ romantic  : Factor w/ 2 levels \"no\",\"yes\": 1 1 1 2 1 1 1 1 1 1 ...\n",
      " $ famrel    : int  4 5 4 3 4 5 4 4 4 5 ...\n",
      " $ freetime  : int  3 3 3 2 3 4 4 1 2 5 ...\n",
      " $ goout     : int  4 3 2 2 2 2 4 4 2 1 ...\n",
      " $ Dalc      : int  1 1 2 1 1 1 1 1 1 1 ...\n",
      " $ Walc      : int  1 1 3 1 2 2 1 1 1 1 ...\n",
      " $ health    : int  3 3 3 5 5 5 3 1 1 5 ...\n",
      " $ absences  : int  6 4 10 2 4 10 0 6 0 0 ...\n",
      " $ G1        : int  5 5 7 15 6 15 12 6 16 14 ...\n",
      " $ G2        : int  6 5 8 14 10 15 12 5 18 15 ...\n",
      " $ G3        : int  6 6 10 15 10 15 11 6 19 15 ...\n"
     ]
    }
   ],
   "source": [
    "str(df)"
   ]
  },
  {
   "cell_type": "code",
   "execution_count": 56,
   "metadata": {},
   "outputs": [
    {
     "data": {
      "text/html": [
       "FALSE"
      ],
      "text/latex": [
       "FALSE"
      ],
      "text/markdown": [
       "FALSE"
      ],
      "text/plain": [
       "[1] FALSE"
      ]
     },
     "metadata": {},
     "output_type": "display_data"
    }
   ],
   "source": [
    "any(is.na(df))"
   ]
  },
  {
   "cell_type": "code",
   "execution_count": 57,
   "metadata": {},
   "outputs": [],
   "source": [
    "library(ggplot2)"
   ]
  },
  {
   "cell_type": "code",
   "execution_count": 58,
   "metadata": {},
   "outputs": [
    {
     "ename": "ERROR",
     "evalue": "Error in library(ggthemes): there is no package called 'ggthemes'\n",
     "output_type": "error",
     "traceback": [
      "Error in library(ggthemes): there is no package called 'ggthemes'\nTraceback:\n",
      "1. library(ggthemes)"
     ]
    }
   ],
   "source": [
    "library(ggthemes)"
   ]
  },
  {
   "cell_type": "markdown",
   "metadata": {},
   "source": [
    "# interpretation: we only require numeric columns for modelling of a linear regression"
   ]
  },
  {
   "cell_type": "code",
   "execution_count": 59,
   "metadata": {},
   "outputs": [],
   "source": [
    "num.cols <- sapply(df, is.numeric)"
   ]
  },
  {
   "cell_type": "code",
   "execution_count": 60,
   "metadata": {},
   "outputs": [],
   "source": [
    "cor.data <- cor(df[,num.cols])"
   ]
  },
  {
   "cell_type": "code",
   "execution_count": 61,
   "metadata": {},
   "outputs": [
    {
     "data": {
      "text/html": [
       "<table>\n",
       "<thead><tr><th></th><th scope=col>age</th><th scope=col>Medu</th><th scope=col>Fedu</th><th scope=col>traveltime</th><th scope=col>studytime</th><th scope=col>failures</th><th scope=col>famrel</th><th scope=col>freetime</th><th scope=col>goout</th><th scope=col>Dalc</th><th scope=col>Walc</th><th scope=col>health</th><th scope=col>absences</th><th scope=col>G1</th><th scope=col>G2</th><th scope=col>G3</th></tr></thead>\n",
       "<tbody>\n",
       "\t<tr><th scope=row>age</th><td> 1.000000000</td><td>-0.163658419</td><td>-0.163438069</td><td> 0.070640721</td><td>-0.004140037</td><td> 0.24366538 </td><td> 0.053940096</td><td> 0.01643439 </td><td> 0.126963880</td><td> 0.131124605</td><td> 0.11727605 </td><td>-0.062187369</td><td> 0.17523008 </td><td>-0.06408150 </td><td>-0.14347405 </td><td>-0.16157944 </td></tr>\n",
       "\t<tr><th scope=row>Medu</th><td>-0.163658419</td><td> 1.000000000</td><td> 0.623455112</td><td>-0.171639305</td><td> 0.064944137</td><td>-0.23667996 </td><td>-0.003914458</td><td> 0.03089087 </td><td> 0.064094438</td><td> 0.019834099</td><td>-0.04712346 </td><td>-0.046877829</td><td> 0.10028482 </td><td> 0.20534100 </td><td> 0.21552717 </td><td> 0.21714750 </td></tr>\n",
       "\t<tr><th scope=row>Fedu</th><td>-0.163438069</td><td> 0.623455112</td><td> 1.000000000</td><td>-0.158194054</td><td>-0.009174639</td><td>-0.25040844 </td><td>-0.001369727</td><td>-0.01284553 </td><td> 0.043104668</td><td> 0.002386429</td><td>-0.01263102 </td><td> 0.014741537</td><td> 0.02447289 </td><td> 0.19026994 </td><td> 0.16489339 </td><td> 0.15245694 </td></tr>\n",
       "\t<tr><th scope=row>traveltime</th><td> 0.070640721</td><td>-0.171639305</td><td>-0.158194054</td><td> 1.000000000</td><td>-0.100909119</td><td> 0.09223875 </td><td>-0.016807986</td><td>-0.01702494 </td><td> 0.028539674</td><td> 0.138325309</td><td> 0.13411575 </td><td> 0.007500606</td><td>-0.01294378 </td><td>-0.09303999 </td><td>-0.15319796 </td><td>-0.11714205 </td></tr>\n",
       "\t<tr><th scope=row>studytime</th><td>-0.004140037</td><td> 0.064944137</td><td>-0.009174639</td><td>-0.100909119</td><td> 1.000000000</td><td>-0.17356303 </td><td> 0.039730704</td><td>-0.14319841 </td><td>-0.063903675</td><td>-0.196019263</td><td>-0.25378473 </td><td>-0.075615863</td><td>-0.06270018 </td><td> 0.16061192 </td><td> 0.13588000 </td><td> 0.09781969 </td></tr>\n",
       "\t<tr><th scope=row>failures</th><td> 0.243665377</td><td>-0.236679963</td><td>-0.250408444</td><td> 0.092238746</td><td>-0.173563031</td><td> 1.00000000 </td><td>-0.044336626</td><td> 0.09198747 </td><td> 0.124560922</td><td> 0.136046931</td><td> 0.14196203 </td><td> 0.065827282</td><td> 0.06372583 </td><td>-0.35471761 </td><td>-0.35589563 </td><td>-0.36041494 </td></tr>\n",
       "\t<tr><th scope=row>famrel</th><td> 0.053940096</td><td>-0.003914458</td><td>-0.001369727</td><td>-0.016807986</td><td> 0.039730704</td><td>-0.04433663 </td><td> 1.000000000</td><td> 0.15070144 </td><td> 0.064568411</td><td>-0.077594357</td><td>-0.11339731 </td><td> 0.094055728</td><td>-0.04435409 </td><td> 0.02216832 </td><td>-0.01828135 </td><td> 0.05136343 </td></tr>\n",
       "\t<tr><th scope=row>freetime</th><td> 0.016434389</td><td> 0.030890867</td><td>-0.012845528</td><td>-0.017024944</td><td>-0.143198407</td><td> 0.09198747 </td><td> 0.150701444</td><td> 1.00000000 </td><td> 0.285018715</td><td> 0.209000848</td><td> 0.14782181 </td><td> 0.075733357</td><td>-0.05807792 </td><td> 0.01261293 </td><td>-0.01377714 </td><td> 0.01130724 </td></tr>\n",
       "\t<tr><th scope=row>goout</th><td> 0.126963880</td><td> 0.064094438</td><td> 0.043104668</td><td> 0.028539674</td><td>-0.063903675</td><td> 0.12456092 </td><td> 0.064568411</td><td> 0.28501871 </td><td> 1.000000000</td><td> 0.266993848</td><td> 0.42038575 </td><td>-0.009577254</td><td> 0.04430222 </td><td>-0.14910397 </td><td>-0.16225003 </td><td>-0.13279147 </td></tr>\n",
       "\t<tr><th scope=row>Dalc</th><td> 0.131124605</td><td> 0.019834099</td><td> 0.002386429</td><td> 0.138325309</td><td>-0.196019263</td><td> 0.13604693 </td><td>-0.077594357</td><td> 0.20900085 </td><td> 0.266993848</td><td> 1.000000000</td><td> 0.64754423 </td><td> 0.077179582</td><td> 0.11190803 </td><td>-0.09415879 </td><td>-0.06412018 </td><td>-0.05466004 </td></tr>\n",
       "\t<tr><th scope=row>Walc</th><td> 0.117276052</td><td>-0.047123460</td><td>-0.012631018</td><td> 0.134115752</td><td>-0.253784731</td><td> 0.14196203 </td><td>-0.113397308</td><td> 0.14782181 </td><td> 0.420385745</td><td> 0.647544230</td><td> 1.00000000 </td><td> 0.092476317</td><td> 0.13629110 </td><td>-0.12617921 </td><td>-0.08492735 </td><td>-0.05193932 </td></tr>\n",
       "\t<tr><th scope=row>health</th><td>-0.062187369</td><td>-0.046877829</td><td> 0.014741537</td><td> 0.007500606</td><td>-0.075615863</td><td> 0.06582728 </td><td> 0.094055728</td><td> 0.07573336 </td><td>-0.009577254</td><td> 0.077179582</td><td> 0.09247632 </td><td> 1.000000000</td><td>-0.02993671 </td><td>-0.07317207 </td><td>-0.09771987 </td><td>-0.06133460 </td></tr>\n",
       "\t<tr><th scope=row>absences</th><td> 0.175230079</td><td> 0.100284818</td><td> 0.024472887</td><td>-0.012943775</td><td>-0.062700175</td><td> 0.06372583 </td><td>-0.044354095</td><td>-0.05807792 </td><td> 0.044302220</td><td> 0.111908026</td><td> 0.13629110 </td><td>-0.029936711</td><td> 1.00000000 </td><td>-0.03100290 </td><td>-0.03177670 </td><td> 0.03424732 </td></tr>\n",
       "\t<tr><th scope=row>G1</th><td>-0.064081497</td><td> 0.205340997</td><td> 0.190269936</td><td>-0.093039992</td><td> 0.160611915</td><td>-0.35471761 </td><td> 0.022168316</td><td> 0.01261293 </td><td>-0.149103967</td><td>-0.094158792</td><td>-0.12617921 </td><td>-0.073172073</td><td>-0.03100290 </td><td> 1.00000000 </td><td> 0.85211807 </td><td> 0.80146793 </td></tr>\n",
       "\t<tr><th scope=row>G2</th><td>-0.143474049</td><td> 0.215527168</td><td> 0.164893393</td><td>-0.153197963</td><td> 0.135879999</td><td>-0.35589563 </td><td>-0.018281347</td><td>-0.01377714 </td><td>-0.162250034</td><td>-0.064120183</td><td>-0.08492735 </td><td>-0.097719866</td><td>-0.03177670 </td><td> 0.85211807 </td><td> 1.00000000 </td><td> 0.90486799 </td></tr>\n",
       "\t<tr><th scope=row>G3</th><td>-0.161579438</td><td> 0.217147496</td><td> 0.152456939</td><td>-0.117142053</td><td> 0.097819690</td><td>-0.36041494 </td><td> 0.051363429</td><td> 0.01130724 </td><td>-0.132791474</td><td>-0.054660041</td><td>-0.05193932 </td><td>-0.061334605</td><td> 0.03424732 </td><td> 0.80146793 </td><td> 0.90486799 </td><td> 1.00000000 </td></tr>\n",
       "</tbody>\n",
       "</table>\n"
      ],
      "text/latex": [
       "\\begin{tabular}{r|llllllllllllllll}\n",
       "  & age & Medu & Fedu & traveltime & studytime & failures & famrel & freetime & goout & Dalc & Walc & health & absences & G1 & G2 & G3\\\\\n",
       "\\hline\n",
       "\tage &  1.000000000 & -0.163658419 & -0.163438069 &  0.070640721 & -0.004140037 &  0.24366538  &  0.053940096 &  0.01643439  &  0.126963880 &  0.131124605 &  0.11727605  & -0.062187369 &  0.17523008  & -0.06408150  & -0.14347405  & -0.16157944 \\\\\n",
       "\tMedu & -0.163658419 &  1.000000000 &  0.623455112 & -0.171639305 &  0.064944137 & -0.23667996  & -0.003914458 &  0.03089087  &  0.064094438 &  0.019834099 & -0.04712346  & -0.046877829 &  0.10028482  &  0.20534100  &  0.21552717  &  0.21714750 \\\\\n",
       "\tFedu & -0.163438069 &  0.623455112 &  1.000000000 & -0.158194054 & -0.009174639 & -0.25040844  & -0.001369727 & -0.01284553  &  0.043104668 &  0.002386429 & -0.01263102  &  0.014741537 &  0.02447289  &  0.19026994  &  0.16489339  &  0.15245694 \\\\\n",
       "\ttraveltime &  0.070640721 & -0.171639305 & -0.158194054 &  1.000000000 & -0.100909119 &  0.09223875  & -0.016807986 & -0.01702494  &  0.028539674 &  0.138325309 &  0.13411575  &  0.007500606 & -0.01294378  & -0.09303999  & -0.15319796  & -0.11714205 \\\\\n",
       "\tstudytime & -0.004140037 &  0.064944137 & -0.009174639 & -0.100909119 &  1.000000000 & -0.17356303  &  0.039730704 & -0.14319841  & -0.063903675 & -0.196019263 & -0.25378473  & -0.075615863 & -0.06270018  &  0.16061192  &  0.13588000  &  0.09781969 \\\\\n",
       "\tfailures &  0.243665377 & -0.236679963 & -0.250408444 &  0.092238746 & -0.173563031 &  1.00000000  & -0.044336626 &  0.09198747  &  0.124560922 &  0.136046931 &  0.14196203  &  0.065827282 &  0.06372583  & -0.35471761  & -0.35589563  & -0.36041494 \\\\\n",
       "\tfamrel &  0.053940096 & -0.003914458 & -0.001369727 & -0.016807986 &  0.039730704 & -0.04433663  &  1.000000000 &  0.15070144  &  0.064568411 & -0.077594357 & -0.11339731  &  0.094055728 & -0.04435409  &  0.02216832  & -0.01828135  &  0.05136343 \\\\\n",
       "\tfreetime &  0.016434389 &  0.030890867 & -0.012845528 & -0.017024944 & -0.143198407 &  0.09198747  &  0.150701444 &  1.00000000  &  0.285018715 &  0.209000848 &  0.14782181  &  0.075733357 & -0.05807792  &  0.01261293  & -0.01377714  &  0.01130724 \\\\\n",
       "\tgoout &  0.126963880 &  0.064094438 &  0.043104668 &  0.028539674 & -0.063903675 &  0.12456092  &  0.064568411 &  0.28501871  &  1.000000000 &  0.266993848 &  0.42038575  & -0.009577254 &  0.04430222  & -0.14910397  & -0.16225003  & -0.13279147 \\\\\n",
       "\tDalc &  0.131124605 &  0.019834099 &  0.002386429 &  0.138325309 & -0.196019263 &  0.13604693  & -0.077594357 &  0.20900085  &  0.266993848 &  1.000000000 &  0.64754423  &  0.077179582 &  0.11190803  & -0.09415879  & -0.06412018  & -0.05466004 \\\\\n",
       "\tWalc &  0.117276052 & -0.047123460 & -0.012631018 &  0.134115752 & -0.253784731 &  0.14196203  & -0.113397308 &  0.14782181  &  0.420385745 &  0.647544230 &  1.00000000  &  0.092476317 &  0.13629110  & -0.12617921  & -0.08492735  & -0.05193932 \\\\\n",
       "\thealth & -0.062187369 & -0.046877829 &  0.014741537 &  0.007500606 & -0.075615863 &  0.06582728  &  0.094055728 &  0.07573336  & -0.009577254 &  0.077179582 &  0.09247632  &  1.000000000 & -0.02993671  & -0.07317207  & -0.09771987  & -0.06133460 \\\\\n",
       "\tabsences &  0.175230079 &  0.100284818 &  0.024472887 & -0.012943775 & -0.062700175 &  0.06372583  & -0.044354095 & -0.05807792  &  0.044302220 &  0.111908026 &  0.13629110  & -0.029936711 &  1.00000000  & -0.03100290  & -0.03177670  &  0.03424732 \\\\\n",
       "\tG1 & -0.064081497 &  0.205340997 &  0.190269936 & -0.093039992 &  0.160611915 & -0.35471761  &  0.022168316 &  0.01261293  & -0.149103967 & -0.094158792 & -0.12617921  & -0.073172073 & -0.03100290  &  1.00000000  &  0.85211807  &  0.80146793 \\\\\n",
       "\tG2 & -0.143474049 &  0.215527168 &  0.164893393 & -0.153197963 &  0.135879999 & -0.35589563  & -0.018281347 & -0.01377714  & -0.162250034 & -0.064120183 & -0.08492735  & -0.097719866 & -0.03177670  &  0.85211807  &  1.00000000  &  0.90486799 \\\\\n",
       "\tG3 & -0.161579438 &  0.217147496 &  0.152456939 & -0.117142053 &  0.097819690 & -0.36041494  &  0.051363429 &  0.01130724  & -0.132791474 & -0.054660041 & -0.05193932  & -0.061334605 &  0.03424732  &  0.80146793  &  0.90486799  &  1.00000000 \\\\\n",
       "\\end{tabular}\n"
      ],
      "text/markdown": [
       "\n",
       "| <!--/--> | age | Medu | Fedu | traveltime | studytime | failures | famrel | freetime | goout | Dalc | Walc | health | absences | G1 | G2 | G3 |\n",
       "|---|---|---|---|---|---|---|---|---|---|---|---|---|---|---|---|---|\n",
       "| age |  1.000000000 | -0.163658419 | -0.163438069 |  0.070640721 | -0.004140037 |  0.24366538  |  0.053940096 |  0.01643439  |  0.126963880 |  0.131124605 |  0.11727605  | -0.062187369 |  0.17523008  | -0.06408150  | -0.14347405  | -0.16157944  |\n",
       "| Medu | -0.163658419 |  1.000000000 |  0.623455112 | -0.171639305 |  0.064944137 | -0.23667996  | -0.003914458 |  0.03089087  |  0.064094438 |  0.019834099 | -0.04712346  | -0.046877829 |  0.10028482  |  0.20534100  |  0.21552717  |  0.21714750  |\n",
       "| Fedu | -0.163438069 |  0.623455112 |  1.000000000 | -0.158194054 | -0.009174639 | -0.25040844  | -0.001369727 | -0.01284553  |  0.043104668 |  0.002386429 | -0.01263102  |  0.014741537 |  0.02447289  |  0.19026994  |  0.16489339  |  0.15245694  |\n",
       "| traveltime |  0.070640721 | -0.171639305 | -0.158194054 |  1.000000000 | -0.100909119 |  0.09223875  | -0.016807986 | -0.01702494  |  0.028539674 |  0.138325309 |  0.13411575  |  0.007500606 | -0.01294378  | -0.09303999  | -0.15319796  | -0.11714205  |\n",
       "| studytime | -0.004140037 |  0.064944137 | -0.009174639 | -0.100909119 |  1.000000000 | -0.17356303  |  0.039730704 | -0.14319841  | -0.063903675 | -0.196019263 | -0.25378473  | -0.075615863 | -0.06270018  |  0.16061192  |  0.13588000  |  0.09781969  |\n",
       "| failures |  0.243665377 | -0.236679963 | -0.250408444 |  0.092238746 | -0.173563031 |  1.00000000  | -0.044336626 |  0.09198747  |  0.124560922 |  0.136046931 |  0.14196203  |  0.065827282 |  0.06372583  | -0.35471761  | -0.35589563  | -0.36041494  |\n",
       "| famrel |  0.053940096 | -0.003914458 | -0.001369727 | -0.016807986 |  0.039730704 | -0.04433663  |  1.000000000 |  0.15070144  |  0.064568411 | -0.077594357 | -0.11339731  |  0.094055728 | -0.04435409  |  0.02216832  | -0.01828135  |  0.05136343  |\n",
       "| freetime |  0.016434389 |  0.030890867 | -0.012845528 | -0.017024944 | -0.143198407 |  0.09198747  |  0.150701444 |  1.00000000  |  0.285018715 |  0.209000848 |  0.14782181  |  0.075733357 | -0.05807792  |  0.01261293  | -0.01377714  |  0.01130724  |\n",
       "| goout |  0.126963880 |  0.064094438 |  0.043104668 |  0.028539674 | -0.063903675 |  0.12456092  |  0.064568411 |  0.28501871  |  1.000000000 |  0.266993848 |  0.42038575  | -0.009577254 |  0.04430222  | -0.14910397  | -0.16225003  | -0.13279147  |\n",
       "| Dalc |  0.131124605 |  0.019834099 |  0.002386429 |  0.138325309 | -0.196019263 |  0.13604693  | -0.077594357 |  0.20900085  |  0.266993848 |  1.000000000 |  0.64754423  |  0.077179582 |  0.11190803  | -0.09415879  | -0.06412018  | -0.05466004  |\n",
       "| Walc |  0.117276052 | -0.047123460 | -0.012631018 |  0.134115752 | -0.253784731 |  0.14196203  | -0.113397308 |  0.14782181  |  0.420385745 |  0.647544230 |  1.00000000  |  0.092476317 |  0.13629110  | -0.12617921  | -0.08492735  | -0.05193932  |\n",
       "| health | -0.062187369 | -0.046877829 |  0.014741537 |  0.007500606 | -0.075615863 |  0.06582728  |  0.094055728 |  0.07573336  | -0.009577254 |  0.077179582 |  0.09247632  |  1.000000000 | -0.02993671  | -0.07317207  | -0.09771987  | -0.06133460  |\n",
       "| absences |  0.175230079 |  0.100284818 |  0.024472887 | -0.012943775 | -0.062700175 |  0.06372583  | -0.044354095 | -0.05807792  |  0.044302220 |  0.111908026 |  0.13629110  | -0.029936711 |  1.00000000  | -0.03100290  | -0.03177670  |  0.03424732  |\n",
       "| G1 | -0.064081497 |  0.205340997 |  0.190269936 | -0.093039992 |  0.160611915 | -0.35471761  |  0.022168316 |  0.01261293  | -0.149103967 | -0.094158792 | -0.12617921  | -0.073172073 | -0.03100290  |  1.00000000  |  0.85211807  |  0.80146793  |\n",
       "| G2 | -0.143474049 |  0.215527168 |  0.164893393 | -0.153197963 |  0.135879999 | -0.35589563  | -0.018281347 | -0.01377714  | -0.162250034 | -0.064120183 | -0.08492735  | -0.097719866 | -0.03177670  |  0.85211807  |  1.00000000  |  0.90486799  |\n",
       "| G3 | -0.161579438 |  0.217147496 |  0.152456939 | -0.117142053 |  0.097819690 | -0.36041494  |  0.051363429 |  0.01130724  | -0.132791474 | -0.054660041 | -0.05193932  | -0.061334605 |  0.03424732  |  0.80146793  |  0.90486799  |  1.00000000  |\n",
       "\n"
      ],
      "text/plain": [
       "           age          Medu         Fedu         traveltime   studytime   \n",
       "age         1.000000000 -0.163658419 -0.163438069  0.070640721 -0.004140037\n",
       "Medu       -0.163658419  1.000000000  0.623455112 -0.171639305  0.064944137\n",
       "Fedu       -0.163438069  0.623455112  1.000000000 -0.158194054 -0.009174639\n",
       "traveltime  0.070640721 -0.171639305 -0.158194054  1.000000000 -0.100909119\n",
       "studytime  -0.004140037  0.064944137 -0.009174639 -0.100909119  1.000000000\n",
       "failures    0.243665377 -0.236679963 -0.250408444  0.092238746 -0.173563031\n",
       "famrel      0.053940096 -0.003914458 -0.001369727 -0.016807986  0.039730704\n",
       "freetime    0.016434389  0.030890867 -0.012845528 -0.017024944 -0.143198407\n",
       "goout       0.126963880  0.064094438  0.043104668  0.028539674 -0.063903675\n",
       "Dalc        0.131124605  0.019834099  0.002386429  0.138325309 -0.196019263\n",
       "Walc        0.117276052 -0.047123460 -0.012631018  0.134115752 -0.253784731\n",
       "health     -0.062187369 -0.046877829  0.014741537  0.007500606 -0.075615863\n",
       "absences    0.175230079  0.100284818  0.024472887 -0.012943775 -0.062700175\n",
       "G1         -0.064081497  0.205340997  0.190269936 -0.093039992  0.160611915\n",
       "G2         -0.143474049  0.215527168  0.164893393 -0.153197963  0.135879999\n",
       "G3         -0.161579438  0.217147496  0.152456939 -0.117142053  0.097819690\n",
       "           failures    famrel       freetime    goout        Dalc        \n",
       "age         0.24366538  0.053940096  0.01643439  0.126963880  0.131124605\n",
       "Medu       -0.23667996 -0.003914458  0.03089087  0.064094438  0.019834099\n",
       "Fedu       -0.25040844 -0.001369727 -0.01284553  0.043104668  0.002386429\n",
       "traveltime  0.09223875 -0.016807986 -0.01702494  0.028539674  0.138325309\n",
       "studytime  -0.17356303  0.039730704 -0.14319841 -0.063903675 -0.196019263\n",
       "failures    1.00000000 -0.044336626  0.09198747  0.124560922  0.136046931\n",
       "famrel     -0.04433663  1.000000000  0.15070144  0.064568411 -0.077594357\n",
       "freetime    0.09198747  0.150701444  1.00000000  0.285018715  0.209000848\n",
       "goout       0.12456092  0.064568411  0.28501871  1.000000000  0.266993848\n",
       "Dalc        0.13604693 -0.077594357  0.20900085  0.266993848  1.000000000\n",
       "Walc        0.14196203 -0.113397308  0.14782181  0.420385745  0.647544230\n",
       "health      0.06582728  0.094055728  0.07573336 -0.009577254  0.077179582\n",
       "absences    0.06372583 -0.044354095 -0.05807792  0.044302220  0.111908026\n",
       "G1         -0.35471761  0.022168316  0.01261293 -0.149103967 -0.094158792\n",
       "G2         -0.35589563 -0.018281347 -0.01377714 -0.162250034 -0.064120183\n",
       "G3         -0.36041494  0.051363429  0.01130724 -0.132791474 -0.054660041\n",
       "           Walc        health       absences    G1          G2         \n",
       "age         0.11727605 -0.062187369  0.17523008 -0.06408150 -0.14347405\n",
       "Medu       -0.04712346 -0.046877829  0.10028482  0.20534100  0.21552717\n",
       "Fedu       -0.01263102  0.014741537  0.02447289  0.19026994  0.16489339\n",
       "traveltime  0.13411575  0.007500606 -0.01294378 -0.09303999 -0.15319796\n",
       "studytime  -0.25378473 -0.075615863 -0.06270018  0.16061192  0.13588000\n",
       "failures    0.14196203  0.065827282  0.06372583 -0.35471761 -0.35589563\n",
       "famrel     -0.11339731  0.094055728 -0.04435409  0.02216832 -0.01828135\n",
       "freetime    0.14782181  0.075733357 -0.05807792  0.01261293 -0.01377714\n",
       "goout       0.42038575 -0.009577254  0.04430222 -0.14910397 -0.16225003\n",
       "Dalc        0.64754423  0.077179582  0.11190803 -0.09415879 -0.06412018\n",
       "Walc        1.00000000  0.092476317  0.13629110 -0.12617921 -0.08492735\n",
       "health      0.09247632  1.000000000 -0.02993671 -0.07317207 -0.09771987\n",
       "absences    0.13629110 -0.029936711  1.00000000 -0.03100290 -0.03177670\n",
       "G1         -0.12617921 -0.073172073 -0.03100290  1.00000000  0.85211807\n",
       "G2         -0.08492735 -0.097719866 -0.03177670  0.85211807  1.00000000\n",
       "G3         -0.05193932 -0.061334605  0.03424732  0.80146793  0.90486799\n",
       "           G3         \n",
       "age        -0.16157944\n",
       "Medu        0.21714750\n",
       "Fedu        0.15245694\n",
       "traveltime -0.11714205\n",
       "studytime   0.09781969\n",
       "failures   -0.36041494\n",
       "famrel      0.05136343\n",
       "freetime    0.01130724\n",
       "goout      -0.13279147\n",
       "Dalc       -0.05466004\n",
       "Walc       -0.05193932\n",
       "health     -0.06133460\n",
       "absences    0.03424732\n",
       "G1          0.80146793\n",
       "G2          0.90486799\n",
       "G3          1.00000000"
      ]
     },
     "metadata": {},
     "output_type": "display_data"
    }
   ],
   "source": [
    "cor.data"
   ]
  },
  {
   "cell_type": "code",
   "execution_count": 62,
   "metadata": {},
   "outputs": [],
   "source": [
    "#install.packages('corrgram',repos = 'http://cran.us.r-project.org')"
   ]
  },
  {
   "cell_type": "code",
   "execution_count": 63,
   "metadata": {},
   "outputs": [
    {
     "name": "stderr",
     "output_type": "stream",
     "text": [
      "Warning message:\n",
      "\"package 'corrplot' is in use and will not be installed\""
     ]
    }
   ],
   "source": [
    "install.packages('corrplot',repos = 'http://cran.us.r-project.org')"
   ]
  },
  {
   "cell_type": "code",
   "execution_count": 64,
   "metadata": {},
   "outputs": [],
   "source": [
    "library(corrplot)\n",
    "library(corrgram)"
   ]
  },
  {
   "cell_type": "code",
   "execution_count": 65,
   "metadata": {},
   "outputs": [
    {
     "data": {
      "image/png": "[encoded data removed]",
      "text/plain": [
       "Plot with title \"\""
      ]
     },
     "metadata": {},
     "output_type": "display_data"
    }
   ],
   "source": [
    "corrplot(cor.data,method='number')"
   ]
  },
  {
   "cell_type": "markdown",
   "metadata": {},
   "source": [
    "# interpretation of correlation the above correlation shows that G1,G2,G3 are highly correlated if the student got good grades in his G1 eventually he will get good grades in G2 and G3...the mothers and fathers education column are correlated and fathers education also correlated with grades...The failures column and grades column are inversely correlated..."
   ]
  },
  {
   "cell_type": "code",
   "execution_count": 66,
   "metadata": {},
   "outputs": [
    {
     "data": {
      "image/png": "[encoded data removed]",
      "text/plain": [
       "plot without title"
      ]
     },
     "metadata": {},
     "output_type": "display_data"
    }
   ],
   "source": [
    "corrgram(df,order=TRUE, lower.panel=panel.shade,upper.panel=panel.pie, text.panel=panel.txt)"
   ]
  },
  {
   "cell_type": "markdown",
   "metadata": {},
   "source": [
    "# the above corrgram shows that full pie chart is perfectly correlated ...as you can see the G1,G2,G3 are correlated looking at their pie charts and failures are inversely correlated and fathers education ,mothers education are correalted and somewhat correlated with grades of students also"
   ]
  },
  {
   "cell_type": "code",
   "execution_count": 67,
   "metadata": {},
   "outputs": [
    {
     "data": {
      "image/png": "[encoded data removed]",
      "text/plain": [
       "plot without title"
      ]
     },
     "metadata": {},
     "output_type": "display_data"
    }
   ],
   "source": [
    "ggplot(df,aes(x=G3)) + geom_histogram(bins=20,alpha=0.4,fill='blue')"
   ]
  },
  {
   "cell_type": "markdown",
   "metadata": {},
   "source": [
    "# we have build a histogram from final grades as you can see that there are many students who got zeros and mean value is around 10...so we will try to build a model and gain insights from model.."
   ]
  },
  {
   "cell_type": "markdown",
   "metadata": {},
   "source": [
    "\n",
    "\n",
    "# building a model multiple linear regression"
   ]
  },
  {
   "cell_type": "code",
   "execution_count": 68,
   "metadata": {},
   "outputs": [],
   "source": [
    "library(caTools)\n",
    "set.seed(101)"
   ]
  },
  {
   "cell_type": "markdown",
   "metadata": {},
   "source": [
    "# we are using the split function for testing and training the data"
   ]
  },
  {
   "cell_type": "code",
   "execution_count": 69,
   "metadata": {},
   "outputs": [],
   "source": [
    "sample <- sample.split(df$G3, SplitRatio = 0.70)"
   ]
  },
  {
   "cell_type": "code",
   "execution_count": 70,
   "metadata": {},
   "outputs": [],
   "source": [
    "train = subset(df, sample == TRUE)"
   ]
  },
  {
   "cell_type": "code",
   "execution_count": 71,
   "metadata": {},
   "outputs": [],
   "source": [
    "test = subset(df, sample == FALSE)"
   ]
  },
  {
   "cell_type": "code",
   "execution_count": 72,
   "metadata": {},
   "outputs": [],
   "source": [
    "model <- lm(G3 ~ .,train)"
   ]
  },
  {
   "cell_type": "code",
   "execution_count": 75,
   "metadata": {},
   "outputs": [
    {
     "data": {
      "text/plain": [
       "\n",
       "Call:\n",
       "lm(formula = G3 ~ ., data = train)\n",
       "\n",
       "Residuals:\n",
       "    Min      1Q  Median      3Q     Max \n",
       "-7.4250 -0.6478  0.2844  1.0442  4.9840 \n",
       "\n",
       "Coefficients:\n",
       "                 Estimate Std. Error t value Pr(>|t|)    \n",
       "(Intercept)       3.70763    2.69488   1.376  0.17019    \n",
       "schoolMS          0.66981    0.47436   1.412  0.15926    \n",
       "sexM              0.25730    0.29257   0.879  0.38006    \n",
       "age              -0.36163    0.12949  -2.793  0.00566 ** \n",
       "addressU          0.08123    0.35652   0.228  0.81996    \n",
       "famsizeLE3        0.12222    0.28709   0.426  0.67070    \n",
       "PstatusT          0.06807    0.43032   0.158  0.87444    \n",
       "Medu              0.11100    0.18757   0.592  0.55455    \n",
       "Fedu             -0.16373    0.15928  -1.028  0.30503    \n",
       "Mjobhealth       -0.63993    0.65314  -0.980  0.32820    \n",
       "Mjobother        -0.15730    0.42323  -0.372  0.71048    \n",
       "Mjobservices     -0.15872    0.46682  -0.340  0.73415    \n",
       "Mjobteacher      -0.04930    0.62335  -0.079  0.93702    \n",
       "Fjobhealth        0.17565    0.83034   0.212  0.83265    \n",
       "Fjobother        -0.29559    0.56012  -0.528  0.59818    \n",
       "Fjobservices     -0.76964    0.59476  -1.294  0.19692    \n",
       "Fjobteacher      -0.27009    0.73824  -0.366  0.71480    \n",
       "reasonhome       -0.41126    0.31857  -1.291  0.19799    \n",
       "reasonother       0.06767    0.45323   0.149  0.88144    \n",
       "reasonreputation  0.13478    0.34735   0.388  0.69834    \n",
       "guardianmother   -0.05442    0.31663  -0.172  0.86369    \n",
       "guardianother     0.01588    0.58375   0.027  0.97832    \n",
       "traveltime       -0.02353    0.19540  -0.120  0.90427    \n",
       "studytime        -0.04294    0.16910  -0.254  0.79979    \n",
       "failures         -0.17219    0.19668  -0.875  0.38220    \n",
       "schoolsupyes      0.20742    0.42358   0.490  0.62481    \n",
       "famsupyes        -0.05329    0.27753  -0.192  0.84789    \n",
       "paidyes           0.31311    0.28284   1.107  0.26941    \n",
       "activitiesyes    -0.26104    0.26687  -0.978  0.32901    \n",
       "nurseryyes       -0.05345    0.31236  -0.171  0.86428    \n",
       "higheryes        -0.94298    0.74005  -1.274  0.20385    \n",
       "internetyes      -0.15834    0.37029  -0.428  0.66932    \n",
       "romanticyes      -0.30048    0.28115  -1.069  0.28627    \n",
       "famrel            0.36601    0.14609   2.505  0.01291 *  \n",
       "freetime          0.08386    0.14247   0.589  0.55668    \n",
       "goout            -0.12457    0.13306  -0.936  0.35015    \n",
       "Dalc             -0.16995    0.20659  -0.823  0.41153    \n",
       "Walc              0.21053    0.14963   1.407  0.16074    \n",
       "health            0.07805    0.09341   0.836  0.40426    \n",
       "absences          0.09547    0.02382   4.008 8.24e-05 ***\n",
       "G1                0.14259    0.07892   1.807  0.07206 .  \n",
       "G2                0.98859    0.06929  14.267  < 2e-16 ***\n",
       "---\n",
       "Signif. codes:  0 '***' 0.001 '**' 0.01 '*' 0.05 '.' 0.1 ' ' 1\n",
       "\n",
       "Residual standard error: 1.962 on 235 degrees of freedom\n",
       "Multiple R-squared:  0.8456,\tAdjusted R-squared:  0.8187 \n",
       "F-statistic: 31.39 on 41 and 235 DF,  p-value: < 2.2e-16\n"
      ]
     },
     "metadata": {},
     "output_type": "display_data"
    }
   ],
   "source": [
    "summary(model)"
   ]
  },
  {
   "cell_type": "markdown",
   "metadata": {},
   "source": [
    "# interpretation the lower the p value the higher statistical significant they are...so we keep these variables to fit in our model.."
   ]
  },
  {
   "cell_type": "code",
   "execution_count": 76,
   "metadata": {},
   "outputs": [],
   "source": [
    "res <- residuals(model)"
   ]
  },
  {
   "cell_type": "code",
   "execution_count": 77,
   "metadata": {},
   "outputs": [],
   "source": [
    "res <- as.data.frame(res)"
   ]
  },
  {
   "cell_type": "code",
   "execution_count": 78,
   "metadata": {},
   "outputs": [
    {
     "data": {
      "text/html": [
       "<table>\n",
       "<thead><tr><th></th><th scope=col>res</th></tr></thead>\n",
       "<tbody>\n",
       "\t<tr><th scope=row>1</th><td> 1.4684389</td></tr>\n",
       "\t<tr><th scope=row>2</th><td> 1.8826707</td></tr>\n",
       "\t<tr><th scope=row>3</th><td> 1.1866990</td></tr>\n",
       "\t<tr><th scope=row>6</th><td>-2.2440152</td></tr>\n",
       "\t<tr><th scope=row>9</th><td> 0.5974865</td></tr>\n",
       "\t<tr><th scope=row>11</th><td> 0.8583062</td></tr>\n",
       "</tbody>\n",
       "</table>\n"
      ],
      "text/latex": [
       "\\begin{tabular}{r|l}\n",
       "  & res\\\\\n",
       "\\hline\n",
       "\t1 &  1.4684389\\\\\n",
       "\t2 &  1.8826707\\\\\n",
       "\t3 &  1.1866990\\\\\n",
       "\t6 & -2.2440152\\\\\n",
       "\t9 &  0.5974865\\\\\n",
       "\t11 &  0.8583062\\\\\n",
       "\\end{tabular}\n"
      ],
      "text/markdown": [
       "\n",
       "| <!--/--> | res |\n",
       "|---|---|\n",
       "| 1 |  1.4684389 |\n",
       "| 2 |  1.8826707 |\n",
       "| 3 |  1.1866990 |\n",
       "| 6 | -2.2440152 |\n",
       "| 9 |  0.5974865 |\n",
       "| 11 |  0.8583062 |\n",
       "\n"
      ],
      "text/plain": [
       "   res       \n",
       "1   1.4684389\n",
       "2   1.8826707\n",
       "3   1.1866990\n",
       "6  -2.2440152\n",
       "9   0.5974865\n",
       "11  0.8583062"
      ]
     },
     "metadata": {},
     "output_type": "display_data"
    }
   ],
   "source": [
    "head(res)"
   ]
  },
  {
   "cell_type": "markdown",
   "metadata": {},
   "source": [
    "# residuals gives a basic difference between observed value and predicted value"
   ]
  },
  {
   "cell_type": "code",
   "execution_count": 79,
   "metadata": {},
   "outputs": [
    {
     "name": "stderr",
     "output_type": "stream",
     "text": [
      "`stat_bin()` using `bins = 30`. Pick better value with `binwidth`.\n"
     ]
    },
    {
     "data": {
      "image/png": "[encoded data removed]",
      "text/plain": [
       "plot without title"
      ]
     },
     "metadata": {},
     "output_type": "display_data"
    }
   ],
   "source": [
    "ggplot(res,aes(res)) +  geom_histogram(fill='blue',alpha=0.5)"
   ]
  },
  {
   "cell_type": "markdown",
   "metadata": {},
   "source": [
    "# in the above graph we have negative values we will remove the negative values using to zero function"
   ]
  },
  {
   "cell_type": "code",
   "execution_count": 82,
   "metadata": {},
   "outputs": [],
   "source": [
    "G3.predictions <- predict(model,test)"
   ]
  },
  {
   "cell_type": "code",
   "execution_count": 81,
   "metadata": {},
   "outputs": [
    {
     "data": {
      "text/html": [
       "<table>\n",
       "<thead><tr><th></th><th scope=col>pred</th><th scope=col>real</th></tr></thead>\n",
       "<tbody>\n",
       "\t<tr><th scope=row>4</th><td>12.682507</td><td>15       </td></tr>\n",
       "\t<tr><th scope=row>5</th><td> 9.433677</td><td>10       </td></tr>\n",
       "\t<tr><th scope=row>7</th><td>11.312310</td><td>11       </td></tr>\n",
       "\t<tr><th scope=row>8</th><td> 3.101530</td><td> 6       </td></tr>\n",
       "\t<tr><th scope=row>10</th><td>15.564674</td><td>15       </td></tr>\n",
       "\t<tr><th scope=row>13</th><td>14.190360</td><td>14       </td></tr>\n",
       "\t<tr><th scope=row>21</th><td>14.601427</td><td>15       </td></tr>\n",
       "\t<tr><th scope=row>25</th><td> 9.191419</td><td> 8       </td></tr>\n",
       "\t<tr><th scope=row>30</th><td>12.352589</td><td>11       </td></tr>\n",
       "\t<tr><th scope=row>32</th><td>16.292243</td><td>17       </td></tr>\n",
       "\t<tr><th scope=row>39</th><td>12.553386</td><td>11       </td></tr>\n",
       "\t<tr><th scope=row>40</th><td>14.573362</td><td>13       </td></tr>\n",
       "\t<tr><th scope=row>42</th><td>13.361456</td><td>12       </td></tr>\n",
       "\t<tr><th scope=row>49</th><td>16.121757</td><td>14       </td></tr>\n",
       "\t<tr><th scope=row>54</th><td> 9.044686</td><td>11       </td></tr>\n",
       "\t<tr><th scope=row>57</th><td>14.614118</td><td>15       </td></tr>\n",
       "\t<tr><th scope=row>61</th><td> 9.508089</td><td>11       </td></tr>\n",
       "\t<tr><th scope=row>62</th><td> 7.571092</td><td>11       </td></tr>\n",
       "\t<tr><th scope=row>64</th><td> 8.847217</td><td> 9       </td></tr>\n",
       "\t<tr><th scope=row>65</th><td> 9.367014</td><td>10       </td></tr>\n",
       "\t<tr><th scope=row>71</th><td>15.645439</td><td>15       </td></tr>\n",
       "\t<tr><th scope=row>75</th><td>16.283467</td><td>11       </td></tr>\n",
       "\t<tr><th scope=row>77</th><td>11.485059</td><td>10       </td></tr>\n",
       "\t<tr><th scope=row>79</th><td> 7.454869</td><td>10       </td></tr>\n",
       "\t<tr><th scope=row>84</th><td>15.908265</td><td>15       </td></tr>\n",
       "\t<tr><th scope=row>86</th><td> 8.259935</td><td> 8       </td></tr>\n",
       "\t<tr><th scope=row>90</th><td> 8.116941</td><td> 7       </td></tr>\n",
       "\t<tr><th scope=row>91</th><td> 5.680344</td><td> 8       </td></tr>\n",
       "\t<tr><th scope=row>101</th><td> 7.217520</td><td> 5       </td></tr>\n",
       "\t<tr><th scope=row>105</th><td>18.387648</td><td>18       </td></tr>\n",
       "\t<tr><th scope=row>...</th><td>...</td><td>...</td></tr>\n",
       "\t<tr><th scope=row>302</th><td>10.445265</td><td>10       </td></tr>\n",
       "\t<tr><th scope=row>307</th><td>17.581928</td><td>18       </td></tr>\n",
       "\t<tr><th scope=row>308</th><td>10.142502</td><td> 8       </td></tr>\n",
       "\t<tr><th scope=row>309</th><td>10.525108</td><td>12       </td></tr>\n",
       "\t<tr><th scope=row>312</th><td>13.384567</td><td>13       </td></tr>\n",
       "\t<tr><th scope=row>313</th><td> 9.774990</td><td>11       </td></tr>\n",
       "\t<tr><th scope=row>316</th><td>12.674051</td><td>11       </td></tr>\n",
       "\t<tr><th scope=row>323</th><td> 9.498840</td><td>11       </td></tr>\n",
       "\t<tr><th scope=row>329</th><td> 8.749197</td><td> 9       </td></tr>\n",
       "\t<tr><th scope=row>330</th><td>13.930318</td><td>14       </td></tr>\n",
       "\t<tr><th scope=row>333</th><td>-2.795582</td><td> 0       </td></tr>\n",
       "\t<tr><th scope=row>339</th><td>14.119452</td><td>17       </td></tr>\n",
       "\t<tr><th scope=row>344</th><td> 6.314688</td><td> 0       </td></tr>\n",
       "\t<tr><th scope=row>345</th><td> 9.031470</td><td>10       </td></tr>\n",
       "\t<tr><th scope=row>347</th><td>15.360903</td><td>16       </td></tr>\n",
       "\t<tr><th scope=row>350</th><td>12.771407</td><td>13       </td></tr>\n",
       "\t<tr><th scope=row>351</th><td> 5.398667</td><td> 8       </td></tr>\n",
       "\t<tr><th scope=row>356</th><td> 7.808663</td><td> 9       </td></tr>\n",
       "\t<tr><th scope=row>359</th><td> 8.793634</td><td>10       </td></tr>\n",
       "\t<tr><th scope=row>360</th><td>16.556011</td><td>16       </td></tr>\n",
       "\t<tr><th scope=row>361</th><td>12.628150</td><td>13       </td></tr>\n",
       "\t<tr><th scope=row>366</th><td> 9.875136</td><td>10       </td></tr>\n",
       "\t<tr><th scope=row>367</th><td>12.621700</td><td>13       </td></tr>\n",
       "\t<tr><th scope=row>369</th><td> 9.334932</td><td>10       </td></tr>\n",
       "\t<tr><th scope=row>379</th><td>14.160218</td><td>15       </td></tr>\n",
       "\t<tr><th scope=row>381</th><td>14.131274</td><td>14       </td></tr>\n",
       "\t<tr><th scope=row>383</th><td> 9.814664</td><td>10       </td></tr>\n",
       "\t<tr><th scope=row>386</th><td> 9.685128</td><td>10       </td></tr>\n",
       "\t<tr><th scope=row>390</th><td> 2.449392</td><td> 0       </td></tr>\n",
       "\t<tr><th scope=row>392</th><td>15.786871</td><td>16       </td></tr>\n",
       "</tbody>\n",
       "</table>\n"
      ],
      "text/latex": [
       "\\begin{tabular}{r|ll}\n",
       "  & pred & real\\\\\n",
       "\\hline\n",
       "\t4 & 12.682507 & 15       \\\\\n",
       "\t5 &  9.433677 & 10       \\\\\n",
       "\t7 & 11.312310 & 11       \\\\\n",
       "\t8 &  3.101530 &  6       \\\\\n",
       "\t10 & 15.564674 & 15       \\\\\n",
       "\t13 & 14.190360 & 14       \\\\\n",
       "\t21 & 14.601427 & 15       \\\\\n",
       "\t25 &  9.191419 &  8       \\\\\n",
       "\t30 & 12.352589 & 11       \\\\\n",
       "\t32 & 16.292243 & 17       \\\\\n",
       "\t39 & 12.553386 & 11       \\\\\n",
       "\t40 & 14.573362 & 13       \\\\\n",
       "\t42 & 13.361456 & 12       \\\\\n",
       "\t49 & 16.121757 & 14       \\\\\n",
       "\t54 &  9.044686 & 11       \\\\\n",
       "\t57 & 14.614118 & 15       \\\\\n",
       "\t61 &  9.508089 & 11       \\\\\n",
       "\t62 &  7.571092 & 11       \\\\\n",
       "\t64 &  8.847217 &  9       \\\\\n",
       "\t65 &  9.367014 & 10       \\\\\n",
       "\t71 & 15.645439 & 15       \\\\\n",
       "\t75 & 16.283467 & 11       \\\\\n",
       "\t77 & 11.485059 & 10       \\\\\n",
       "\t79 &  7.454869 & 10       \\\\\n",
       "\t84 & 15.908265 & 15       \\\\\n",
       "\t86 &  8.259935 &  8       \\\\\n",
       "\t90 &  8.116941 &  7       \\\\\n",
       "\t91 &  5.680344 &  8       \\\\\n",
       "\t101 &  7.217520 &  5       \\\\\n",
       "\t105 & 18.387648 & 18       \\\\\n",
       "\t... & ... & ...\\\\\n",
       "\t302 & 10.445265 & 10       \\\\\n",
       "\t307 & 17.581928 & 18       \\\\\n",
       "\t308 & 10.142502 &  8       \\\\\n",
       "\t309 & 10.525108 & 12       \\\\\n",
       "\t312 & 13.384567 & 13       \\\\\n",
       "\t313 &  9.774990 & 11       \\\\\n",
       "\t316 & 12.674051 & 11       \\\\\n",
       "\t323 &  9.498840 & 11       \\\\\n",
       "\t329 &  8.749197 &  9       \\\\\n",
       "\t330 & 13.930318 & 14       \\\\\n",
       "\t333 & -2.795582 &  0       \\\\\n",
       "\t339 & 14.119452 & 17       \\\\\n",
       "\t344 &  6.314688 &  0       \\\\\n",
       "\t345 &  9.031470 & 10       \\\\\n",
       "\t347 & 15.360903 & 16       \\\\\n",
       "\t350 & 12.771407 & 13       \\\\\n",
       "\t351 &  5.398667 &  8       \\\\\n",
       "\t356 &  7.808663 &  9       \\\\\n",
       "\t359 &  8.793634 & 10       \\\\\n",
       "\t360 & 16.556011 & 16       \\\\\n",
       "\t361 & 12.628150 & 13       \\\\\n",
       "\t366 &  9.875136 & 10       \\\\\n",
       "\t367 & 12.621700 & 13       \\\\\n",
       "\t369 &  9.334932 & 10       \\\\\n",
       "\t379 & 14.160218 & 15       \\\\\n",
       "\t381 & 14.131274 & 14       \\\\\n",
       "\t383 &  9.814664 & 10       \\\\\n",
       "\t386 &  9.685128 & 10       \\\\\n",
       "\t390 &  2.449392 &  0       \\\\\n",
       "\t392 & 15.786871 & 16       \\\\\n",
       "\\end{tabular}\n"
      ],
      "text/markdown": [
       "\n",
       "| <!--/--> | pred | real |\n",
       "|---|---|---|\n",
       "| 4 | 12.682507 | 15        |\n",
       "| 5 |  9.433677 | 10        |\n",
       "| 7 | 11.312310 | 11        |\n",
       "| 8 |  3.101530 |  6        |\n",
       "| 10 | 15.564674 | 15        |\n",
       "| 13 | 14.190360 | 14        |\n",
       "| 21 | 14.601427 | 15        |\n",
       "| 25 |  9.191419 |  8        |\n",
       "| 30 | 12.352589 | 11        |\n",
       "| 32 | 16.292243 | 17        |\n",
       "| 39 | 12.553386 | 11        |\n",
       "| 40 | 14.573362 | 13        |\n",
       "| 42 | 13.361456 | 12        |\n",
       "| 49 | 16.121757 | 14        |\n",
       "| 54 |  9.044686 | 11        |\n",
       "| 57 | 14.614118 | 15        |\n",
       "| 61 |  9.508089 | 11        |\n",
       "| 62 |  7.571092 | 11        |\n",
       "| 64 |  8.847217 |  9        |\n",
       "| 65 |  9.367014 | 10        |\n",
       "| 71 | 15.645439 | 15        |\n",
       "| 75 | 16.283467 | 11        |\n",
       "| 77 | 11.485059 | 10        |\n",
       "| 79 |  7.454869 | 10        |\n",
       "| 84 | 15.908265 | 15        |\n",
       "| 86 |  8.259935 |  8        |\n",
       "| 90 |  8.116941 |  7        |\n",
       "| 91 |  5.680344 |  8        |\n",
       "| 101 |  7.217520 |  5        |\n",
       "| 105 | 18.387648 | 18        |\n",
       "| ... | ... | ... |\n",
       "| 302 | 10.445265 | 10        |\n",
       "| 307 | 17.581928 | 18        |\n",
       "| 308 | 10.142502 |  8        |\n",
       "| 309 | 10.525108 | 12        |\n",
       "| 312 | 13.384567 | 13        |\n",
       "| 313 |  9.774990 | 11        |\n",
       "| 316 | 12.674051 | 11        |\n",
       "| 323 |  9.498840 | 11        |\n",
       "| 329 |  8.749197 |  9        |\n",
       "| 330 | 13.930318 | 14        |\n",
       "| 333 | -2.795582 |  0        |\n",
       "| 339 | 14.119452 | 17        |\n",
       "| 344 |  6.314688 |  0        |\n",
       "| 345 |  9.031470 | 10        |\n",
       "| 347 | 15.360903 | 16        |\n",
       "| 350 | 12.771407 | 13        |\n",
       "| 351 |  5.398667 |  8        |\n",
       "| 356 |  7.808663 |  9        |\n",
       "| 359 |  8.793634 | 10        |\n",
       "| 360 | 16.556011 | 16        |\n",
       "| 361 | 12.628150 | 13        |\n",
       "| 366 |  9.875136 | 10        |\n",
       "| 367 | 12.621700 | 13        |\n",
       "| 369 |  9.334932 | 10        |\n",
       "| 379 | 14.160218 | 15        |\n",
       "| 381 | 14.131274 | 14        |\n",
       "| 383 |  9.814664 | 10        |\n",
       "| 386 |  9.685128 | 10        |\n",
       "| 390 |  2.449392 |  0        |\n",
       "| 392 | 15.786871 | 16        |\n",
       "\n"
      ],
      "text/plain": [
       "    pred      real\n",
       "4   12.682507 15  \n",
       "5    9.433677 10  \n",
       "7   11.312310 11  \n",
       "8    3.101530  6  \n",
       "10  15.564674 15  \n",
       "13  14.190360 14  \n",
       "21  14.601427 15  \n",
       "25   9.191419  8  \n",
       "30  12.352589 11  \n",
       "32  16.292243 17  \n",
       "39  12.553386 11  \n",
       "40  14.573362 13  \n",
       "42  13.361456 12  \n",
       "49  16.121757 14  \n",
       "54   9.044686 11  \n",
       "57  14.614118 15  \n",
       "61   9.508089 11  \n",
       "62   7.571092 11  \n",
       "64   8.847217  9  \n",
       "65   9.367014 10  \n",
       "71  15.645439 15  \n",
       "75  16.283467 11  \n",
       "77  11.485059 10  \n",
       "79   7.454869 10  \n",
       "84  15.908265 15  \n",
       "86   8.259935  8  \n",
       "90   8.116941  7  \n",
       "91   5.680344  8  \n",
       "101  7.217520  5  \n",
       "105 18.387648 18  \n",
       "... ...       ... \n",
       "302 10.445265 10  \n",
       "307 17.581928 18  \n",
       "308 10.142502  8  \n",
       "309 10.525108 12  \n",
       "312 13.384567 13  \n",
       "313  9.774990 11  \n",
       "316 12.674051 11  \n",
       "323  9.498840 11  \n",
       "329  8.749197  9  \n",
       "330 13.930318 14  \n",
       "333 -2.795582  0  \n",
       "339 14.119452 17  \n",
       "344  6.314688  0  \n",
       "345  9.031470 10  \n",
       "347 15.360903 16  \n",
       "350 12.771407 13  \n",
       "351  5.398667  8  \n",
       "356  7.808663  9  \n",
       "359  8.793634 10  \n",
       "360 16.556011 16  \n",
       "361 12.628150 13  \n",
       "366  9.875136 10  \n",
       "367 12.621700 13  \n",
       "369  9.334932 10  \n",
       "379 14.160218 15  \n",
       "381 14.131274 14  \n",
       "383  9.814664 10  \n",
       "386  9.685128 10  \n",
       "390  2.449392  0  \n",
       "392 15.786871 16  "
      ]
     },
     "metadata": {},
     "output_type": "display_data"
    }
   ],
   "source": [
    "results <- cbind(G3.predictions,test$G3) \n",
    "colnames(results) <- c('pred','real')\n",
    "results <- as.data.frame(results)\n",
    "results"
   ]
  },
  {
   "cell_type": "code",
   "execution_count": 83,
   "metadata": {},
   "outputs": [],
   "source": [
    "#removing negative predictions\n",
    "to_zero <- function(x){\n",
    "  if  (x < 0){\n",
    "    return(0)\n",
    "  }else{\n",
    "    return(x)\n",
    "  }\n",
    "}"
   ]
  },
  {
   "cell_type": "code",
   "execution_count": 85,
   "metadata": {},
   "outputs": [
    {
     "name": "stdout",
     "output_type": "stream",
     "text": [
      "         pred real\n",
      "4   12.682507   15\n",
      "5    9.433677   10\n",
      "7   11.312310   11\n",
      "8    3.101530    6\n",
      "10  15.564674   15\n",
      "13  14.190360   14\n",
      "21  14.601427   15\n",
      "25   9.191419    8\n",
      "30  12.352589   11\n",
      "32  16.292243   17\n",
      "39  12.553386   11\n",
      "40  14.573362   13\n",
      "42  13.361456   12\n",
      "49  16.121757   14\n",
      "54   9.044686   11\n",
      "57  14.614118   15\n",
      "61   9.508089   11\n",
      "62   7.571092   11\n",
      "64   8.847217    9\n",
      "65   9.367014   10\n",
      "71  15.645439   15\n",
      "75  16.283467   11\n",
      "77  11.485059   10\n",
      "79   7.454869   10\n",
      "84  15.908265   15\n",
      "86   8.259935    8\n",
      "90   8.116941    7\n",
      "91   5.680344    8\n",
      "101  7.217520    5\n",
      "105 18.387648   18\n",
      "114 21.155541   19\n",
      "116 15.686609   16\n",
      "119  7.929231    8\n",
      "121 14.703735   15\n",
      "129  1.656006    0\n",
      "136  0.000000    0\n",
      "144 14.027183   13\n",
      "149  5.402422    0\n",
      "154  0.000000    0\n",
      "155 10.110241   12\n",
      "156  7.756995    8\n",
      "161  5.009636    0\n",
      "162  8.718964    7\n",
      "164 10.577394   10\n",
      "165  7.015286    7\n",
      "166 12.718437   12\n",
      "170 13.832836   14\n",
      "173 11.229190   10\n",
      "176  8.887442    9\n",
      "177 13.303192   11\n",
      "178  4.400549    6\n",
      "182 12.234432   12\n",
      "184 13.026417    8\n",
      "187 10.757342   11\n",
      "189  5.368688    9\n",
      "191 11.479617   13\n",
      "194  8.695959   10\n",
      "202 10.328584   10\n",
      "204  6.841389    6\n",
      "213 12.494765   14\n",
      "216 15.346879   15\n",
      "221  4.023249    6\n",
      "224 11.606746   13\n",
      "225 11.976024   14\n",
      "230  9.228981   12\n",
      "233  9.525680    9\n",
      "234 12.803778   13\n",
      "235  7.988283    6\n",
      "236  9.972518   10\n",
      "240  6.582129    0\n",
      "244 11.842815   12\n",
      "245  0.000000    0\n",
      "249  3.044462    5\n",
      "252 10.703928   10\n",
      "260  7.027985    0\n",
      "261 18.904091   18\n",
      "262  7.189106    8\n",
      "263 11.585034   12\n",
      "277 14.557157    9\n",
      "278  8.871446    9\n",
      "279  6.509502    8\n",
      "283 11.597208   12\n",
      "291 11.509667   11\n",
      "292 14.121174   15\n",
      "294 18.731743   18\n",
      "295 13.826496   14\n",
      "300 13.668455   16\n",
      "301  8.591545   11\n",
      "302 10.445265   10\n",
      "307 17.581928   18\n",
      "308 10.142502    8\n",
      "309 10.525108   12\n",
      "312 13.384567   13\n",
      "313  9.774990   11\n",
      "316 12.674051   11\n",
      "323  9.498840   11\n",
      "329  8.749197    9\n",
      "330 13.930318   14\n",
      "333  0.000000    0\n",
      "339 14.119452   17\n",
      "344  6.314688    0\n",
      "345  9.031470   10\n",
      "347 15.360903   16\n",
      "350 12.771407   13\n",
      "351  5.398667    8\n",
      "356  7.808663    9\n",
      "359  8.793634   10\n",
      "360 16.556011   16\n",
      "361 12.628150   13\n",
      "366  9.875136   10\n",
      "367 12.621700   13\n",
      "369  9.334932   10\n",
      "379 14.160218   15\n",
      "381 14.131274   14\n",
      "383  9.814664   10\n",
      "386  9.685128   10\n",
      "390  2.449392    0\n",
      "392 15.786871   16\n"
     ]
    }
   ],
   "source": [
    "results$pred <- sapply(results$pred,to_zero)\n",
    "print(results)"
   ]
  },
  {
   "cell_type": "code",
   "execution_count": 86,
   "metadata": {},
   "outputs": [
    {
     "name": "stdout",
     "output_type": "stream",
     "text": [
      "[1] 3.991675\n"
     ]
    },
    {
     "data": {
      "text/html": [
       "1.99791756601486"
      ],
      "text/latex": [
       "1.99791756601486"
      ],
      "text/markdown": [
       "1.99791756601486"
      ],
      "text/plain": [
       "[1] 1.997918"
      ]
     },
     "metadata": {},
     "output_type": "display_data"
    },
    {
     "data": {
      "text/html": [
       "0.804447675832027"
      ],
      "text/latex": [
       "0.804447675832027"
      ],
      "text/markdown": [
       "0.804447675832027"
      ],
      "text/plain": [
       "[1] 0.8044477"
      ]
     },
     "metadata": {},
     "output_type": "display_data"
    }
   ],
   "source": [
    "#evaluate the model\n",
    "mse <- mean((results$real-results$pred)^2)\n",
    "print(mse)\n",
    "\n",
    "mse^0.5\n",
    "\n",
    "SSE = sum((results$pred - results$real)^2)\n",
    "SST = sum( (mean(df$G3) - results$real)^2)\n",
    "\n",
    "R2 = 1 - SSE/SST\n",
    "R2\n"
   ]
  },
  {
   "cell_type": "markdown",
   "metadata": {},
   "source": [
    "# RMSE is measure of how spread out our residuals are..In other words,it tells you how concentrated data is around line best of fit..\n",
    "\n",
    "R2 is used to predict the accuracy of model..Higher the value is better the model is..the value lies between zero and one..\n"
   ]
  },
  {
   "cell_type": "markdown",
   "metadata": {},
   "source": [
    "# simple linear regression"
   ]
  },
  {
   "cell_type": "code",
   "execution_count": 87,
   "metadata": {},
   "outputs": [],
   "source": [
    "model <- lm(G3 ~ G1+G2,train)"
   ]
  },
  {
   "cell_type": "code",
   "execution_count": 88,
   "metadata": {},
   "outputs": [
    {
     "data": {
      "text/plain": [
       "\n",
       "Call:\n",
       "lm(formula = G3 ~ G1 + G2, data = train)\n",
       "\n",
       "Residuals:\n",
       "    Min      1Q  Median      3Q     Max \n",
       "-9.5811 -0.3163  0.3296  0.9949  3.7016 \n",
       "\n",
       "Coefficients:\n",
       "            Estimate Std. Error t value Pr(>|t|)    \n",
       "(Intercept) -1.83232    0.41333  -4.433 1.35e-05 ***\n",
       "G1           0.15027    0.06907   2.176   0.0304 *  \n",
       "G2           0.99107    0.06152  16.110  < 2e-16 ***\n",
       "---\n",
       "Signif. codes:  0 '***' 0.001 '**' 0.01 '*' 0.05 '.' 0.1 ' ' 1\n",
       "\n",
       "Residual standard error: 2.021 on 274 degrees of freedom\n",
       "Multiple R-squared:  0.8091,\tAdjusted R-squared:  0.8077 \n",
       "F-statistic: 580.8 on 2 and 274 DF,  p-value: < 2.2e-16\n"
      ]
     },
     "metadata": {},
     "output_type": "display_data"
    }
   ],
   "source": [
    "summary(model)"
   ]
  },
  {
   "cell_type": "markdown",
   "metadata": {},
   "source": [
    "# interpretation the lower the p value the significant attributes are...so the zero represents three stars and so on"
   ]
  },
  {
   "cell_type": "code",
   "execution_count": 89,
   "metadata": {},
   "outputs": [],
   "source": [
    "res <- residuals(model)"
   ]
  },
  {
   "cell_type": "code",
   "execution_count": 90,
   "metadata": {},
   "outputs": [],
   "source": [
    "res <- as.data.frame(res)"
   ]
  },
  {
   "cell_type": "code",
   "execution_count": 91,
   "metadata": {},
   "outputs": [
    {
     "data": {
      "text/html": [
       "<table>\n",
       "<thead><tr><th></th><th scope=col>res</th></tr></thead>\n",
       "<tbody>\n",
       "\t<tr><th scope=row>1</th><td> 1.1345350</td></tr>\n",
       "\t<tr><th scope=row>2</th><td> 2.1256094</td></tr>\n",
       "\t<tr><th scope=row>3</th><td> 2.8518496</td></tr>\n",
       "\t<tr><th scope=row>6</th><td>-0.2878175</td></tr>\n",
       "\t<tr><th scope=row>9</th><td> 0.5886910</td></tr>\n",
       "\t<tr><th scope=row>11</th><td> 1.4010447</td></tr>\n",
       "</tbody>\n",
       "</table>\n"
      ],
      "text/latex": [
       "\\begin{tabular}{r|l}\n",
       "  & res\\\\\n",
       "\\hline\n",
       "\t1 &  1.1345350\\\\\n",
       "\t2 &  2.1256094\\\\\n",
       "\t3 &  2.8518496\\\\\n",
       "\t6 & -0.2878175\\\\\n",
       "\t9 &  0.5886910\\\\\n",
       "\t11 &  1.4010447\\\\\n",
       "\\end{tabular}\n"
      ],
      "text/markdown": [
       "\n",
       "| <!--/--> | res |\n",
       "|---|---|\n",
       "| 1 |  1.1345350 |\n",
       "| 2 |  2.1256094 |\n",
       "| 3 |  2.8518496 |\n",
       "| 6 | -0.2878175 |\n",
       "| 9 |  0.5886910 |\n",
       "| 11 |  1.4010447 |\n",
       "\n"
      ],
      "text/plain": [
       "   res       \n",
       "1   1.1345350\n",
       "2   2.1256094\n",
       "3   2.8518496\n",
       "6  -0.2878175\n",
       "9   0.5886910\n",
       "11  1.4010447"
      ]
     },
     "metadata": {},
     "output_type": "display_data"
    }
   ],
   "source": [
    "head(res)"
   ]
  },
  {
   "cell_type": "markdown",
   "metadata": {},
   "source": [
    "# residuals gives a basic difference between observed value and predicted value"
   ]
  },
  {
   "cell_type": "code",
   "execution_count": 92,
   "metadata": {},
   "outputs": [
    {
     "name": "stderr",
     "output_type": "stream",
     "text": [
      "`stat_bin()` using `bins = 30`. Pick better value with `binwidth`.\n"
     ]
    },
    {
     "data": {
      "image/png": "[encoded data removed]",
      "text/plain": [
       "plot without title"
      ]
     },
     "metadata": {},
     "output_type": "display_data"
    }
   ],
   "source": [
    "ggplot(res,aes(res)) +  geom_histogram(fill='blue',alpha=0.5)"
   ]
  },
  {
   "cell_type": "markdown",
   "metadata": {},
   "source": [
    "# in the above graph we have negative values we will remove the negative values using to zero function"
   ]
  },
  {
   "cell_type": "code",
   "execution_count": 93,
   "metadata": {},
   "outputs": [],
   "source": [
    "G3.predictions <- predict(model,test)"
   ]
  },
  {
   "cell_type": "code",
   "execution_count": 94,
   "metadata": {},
   "outputs": [
    {
     "data": {
      "text/html": [
       "<table>\n",
       "<thead><tr><th></th><th scope=col>pred</th><th scope=col>real</th></tr></thead>\n",
       "<tbody>\n",
       "\t<tr><th scope=row>4</th><td>14.296743</td><td>15       </td></tr>\n",
       "\t<tr><th scope=row>5</th><td> 8.980031</td><td>10       </td></tr>\n",
       "\t<tr><th scope=row>7</th><td>11.863789</td><td>11       </td></tr>\n",
       "\t<tr><th scope=row>8</th><td> 4.024659</td><td> 6       </td></tr>\n",
       "\t<tr><th scope=row>10</th><td>15.137549</td><td>15       </td></tr>\n",
       "\t<tr><th scope=row>13</th><td>14.146475</td><td>14       </td></tr>\n",
       "\t<tr><th scope=row>21</th><td>13.996207</td><td>15       </td></tr>\n",
       "\t<tr><th scope=row>25</th><td> 8.590030</td><td> 8       </td></tr>\n",
       "\t<tr><th scope=row>30</th><td>11.563253</td><td>11       </td></tr>\n",
       "\t<tr><th scope=row>32</th><td>16.579429</td><td>17       </td></tr>\n",
       "\t<tr><th scope=row>39</th><td>11.863789</td><td>11       </td></tr>\n",
       "\t<tr><th scope=row>40</th><td>13.155400</td><td>13       </td></tr>\n",
       "\t<tr><th scope=row>42</th><td>11.863789</td><td>12       </td></tr>\n",
       "\t<tr><th scope=row>49</th><td>15.287818</td><td>14       </td></tr>\n",
       "\t<tr><th scope=row>54</th><td> 9.280567</td><td>11       </td></tr>\n",
       "\t<tr><th scope=row>57</th><td>15.137549</td><td>15       </td></tr>\n",
       "\t<tr><th scope=row>61</th><td>10.572178</td><td>11       </td></tr>\n",
       "\t<tr><th scope=row>62</th><td> 7.598955</td><td>11       </td></tr>\n",
       "\t<tr><th scope=row>64</th><td> 8.590030</td><td> 9       </td></tr>\n",
       "\t<tr><th scope=row>65</th><td> 9.581104</td><td>10       </td></tr>\n",
       "\t<tr><th scope=row>71</th><td>14.987281</td><td>15       </td></tr>\n",
       "\t<tr><th scope=row>75</th><td>11.713521</td><td>11       </td></tr>\n",
       "\t<tr><th scope=row>77</th><td>10.722447</td><td>10       </td></tr>\n",
       "\t<tr><th scope=row>79</th><td> 7.298419</td><td>10       </td></tr>\n",
       "\t<tr><th scope=row>84</th><td>15.287818</td><td>15       </td></tr>\n",
       "\t<tr><th scope=row>86</th><td> 8.139225</td><td> 8       </td></tr>\n",
       "\t<tr><th scope=row>90</th><td> 5.316270</td><td> 7       </td></tr>\n",
       "\t<tr><th scope=row>91</th><td> 6.157076</td><td> 8       </td></tr>\n",
       "\t<tr><th scope=row>101</th><td> 6.157076</td><td> 5       </td></tr>\n",
       "\t<tr><th scope=row>105</th><td>18.411309</td><td>18       </td></tr>\n",
       "\t<tr><th scope=row>...</th><td>...</td><td>...</td></tr>\n",
       "\t<tr><th scope=row>302</th><td>10.7224468</td><td>10        </td></tr>\n",
       "\t<tr><th scope=row>307</th><td>18.5615773</td><td>18        </td></tr>\n",
       "\t<tr><th scope=row>308</th><td> 8.2894930</td><td> 8        </td></tr>\n",
       "\t<tr><th scope=row>309</th><td>12.3145944</td><td>12        </td></tr>\n",
       "\t<tr><th scope=row>312</th><td>12.1643261</td><td>13        </td></tr>\n",
       "\t<tr><th scope=row>313</th><td>11.0229834</td><td>11        </td></tr>\n",
       "\t<tr><th scope=row>316</th><td>11.0229834</td><td>11        </td></tr>\n",
       "\t<tr><th scope=row>323</th><td>10.7224468</td><td>11        </td></tr>\n",
       "\t<tr><th scope=row>329</th><td> 8.5900297</td><td> 9        </td></tr>\n",
       "\t<tr><th scope=row>330</th><td>14.1464748</td><td>14        </td></tr>\n",
       "\t<tr><th scope=row>333</th><td>-0.7804446</td><td> 0        </td></tr>\n",
       "\t<tr><th scope=row>339</th><td>15.4380859</td><td>17        </td></tr>\n",
       "\t<tr><th scope=row>344</th><td> 7.4486870</td><td> 0        </td></tr>\n",
       "\t<tr><th scope=row>345</th><td> 9.7313724</td><td>10        </td></tr>\n",
       "\t<tr><th scope=row>347</th><td>15.4380859</td><td>16        </td></tr>\n",
       "\t<tr><th scope=row>350</th><td>12.7045955</td><td>13        </td></tr>\n",
       "\t<tr><th scope=row>351</th><td> 6.3073443</td><td> 8        </td></tr>\n",
       "\t<tr><th scope=row>356</th><td> 8.5900297</td><td> 9        </td></tr>\n",
       "\t<tr><th scope=row>359</th><td> 9.5811041</td><td>10        </td></tr>\n",
       "\t<tr><th scope=row>360</th><td>16.7296969</td><td>16        </td></tr>\n",
       "\t<tr><th scope=row>361</th><td>13.0051321</td><td>13        </td></tr>\n",
       "\t<tr><th scope=row>366</th><td> 9.5811041</td><td>10        </td></tr>\n",
       "\t<tr><th scope=row>367</th><td>13.0051321</td><td>13        </td></tr>\n",
       "\t<tr><th scope=row>369</th><td> 9.7313724</td><td>10        </td></tr>\n",
       "\t<tr><th scope=row>379</th><td>15.2878175</td><td>15        </td></tr>\n",
       "\t<tr><th scope=row>381</th><td>14.2967432</td><td>14        </td></tr>\n",
       "\t<tr><th scope=row>383</th><td>10.7224468</td><td>10        </td></tr>\n",
       "\t<tr><th scope=row>386</th><td> 8.5900297</td><td>10        </td></tr>\n",
       "\t<tr><th scope=row>390</th><td> 4.0246589</td><td> 0        </td></tr>\n",
       "\t<tr><th scope=row>392</th><td>16.1286236</td><td>16        </td></tr>\n",
       "</tbody>\n",
       "</table>\n"
      ],
      "text/latex": [
       "\\begin{tabular}{r|ll}\n",
       "  & pred & real\\\\\n",
       "\\hline\n",
       "\t4 & 14.296743 & 15       \\\\\n",
       "\t5 &  8.980031 & 10       \\\\\n",
       "\t7 & 11.863789 & 11       \\\\\n",
       "\t8 &  4.024659 &  6       \\\\\n",
       "\t10 & 15.137549 & 15       \\\\\n",
       "\t13 & 14.146475 & 14       \\\\\n",
       "\t21 & 13.996207 & 15       \\\\\n",
       "\t25 &  8.590030 &  8       \\\\\n",
       "\t30 & 11.563253 & 11       \\\\\n",
       "\t32 & 16.579429 & 17       \\\\\n",
       "\t39 & 11.863789 & 11       \\\\\n",
       "\t40 & 13.155400 & 13       \\\\\n",
       "\t42 & 11.863789 & 12       \\\\\n",
       "\t49 & 15.287818 & 14       \\\\\n",
       "\t54 &  9.280567 & 11       \\\\\n",
       "\t57 & 15.137549 & 15       \\\\\n",
       "\t61 & 10.572178 & 11       \\\\\n",
       "\t62 &  7.598955 & 11       \\\\\n",
       "\t64 &  8.590030 &  9       \\\\\n",
       "\t65 &  9.581104 & 10       \\\\\n",
       "\t71 & 14.987281 & 15       \\\\\n",
       "\t75 & 11.713521 & 11       \\\\\n",
       "\t77 & 10.722447 & 10       \\\\\n",
       "\t79 &  7.298419 & 10       \\\\\n",
       "\t84 & 15.287818 & 15       \\\\\n",
       "\t86 &  8.139225 &  8       \\\\\n",
       "\t90 &  5.316270 &  7       \\\\\n",
       "\t91 &  6.157076 &  8       \\\\\n",
       "\t101 &  6.157076 &  5       \\\\\n",
       "\t105 & 18.411309 & 18       \\\\\n",
       "\t... & ... & ...\\\\\n",
       "\t302 & 10.7224468 & 10        \\\\\n",
       "\t307 & 18.5615773 & 18        \\\\\n",
       "\t308 &  8.2894930 &  8        \\\\\n",
       "\t309 & 12.3145944 & 12        \\\\\n",
       "\t312 & 12.1643261 & 13        \\\\\n",
       "\t313 & 11.0229834 & 11        \\\\\n",
       "\t316 & 11.0229834 & 11        \\\\\n",
       "\t323 & 10.7224468 & 11        \\\\\n",
       "\t329 &  8.5900297 &  9        \\\\\n",
       "\t330 & 14.1464748 & 14        \\\\\n",
       "\t333 & -0.7804446 &  0        \\\\\n",
       "\t339 & 15.4380859 & 17        \\\\\n",
       "\t344 &  7.4486870 &  0        \\\\\n",
       "\t345 &  9.7313724 & 10        \\\\\n",
       "\t347 & 15.4380859 & 16        \\\\\n",
       "\t350 & 12.7045955 & 13        \\\\\n",
       "\t351 &  6.3073443 &  8        \\\\\n",
       "\t356 &  8.5900297 &  9        \\\\\n",
       "\t359 &  9.5811041 & 10        \\\\\n",
       "\t360 & 16.7296969 & 16        \\\\\n",
       "\t361 & 13.0051321 & 13        \\\\\n",
       "\t366 &  9.5811041 & 10        \\\\\n",
       "\t367 & 13.0051321 & 13        \\\\\n",
       "\t369 &  9.7313724 & 10        \\\\\n",
       "\t379 & 15.2878175 & 15        \\\\\n",
       "\t381 & 14.2967432 & 14        \\\\\n",
       "\t383 & 10.7224468 & 10        \\\\\n",
       "\t386 &  8.5900297 & 10        \\\\\n",
       "\t390 &  4.0246589 &  0        \\\\\n",
       "\t392 & 16.1286236 & 16        \\\\\n",
       "\\end{tabular}\n"
      ],
      "text/markdown": [
       "\n",
       "| <!--/--> | pred | real |\n",
       "|---|---|---|\n",
       "| 4 | 14.296743 | 15        |\n",
       "| 5 |  8.980031 | 10        |\n",
       "| 7 | 11.863789 | 11        |\n",
       "| 8 |  4.024659 |  6        |\n",
       "| 10 | 15.137549 | 15        |\n",
       "| 13 | 14.146475 | 14        |\n",
       "| 21 | 13.996207 | 15        |\n",
       "| 25 |  8.590030 |  8        |\n",
       "| 30 | 11.563253 | 11        |\n",
       "| 32 | 16.579429 | 17        |\n",
       "| 39 | 11.863789 | 11        |\n",
       "| 40 | 13.155400 | 13        |\n",
       "| 42 | 11.863789 | 12        |\n",
       "| 49 | 15.287818 | 14        |\n",
       "| 54 |  9.280567 | 11        |\n",
       "| 57 | 15.137549 | 15        |\n",
       "| 61 | 10.572178 | 11        |\n",
       "| 62 |  7.598955 | 11        |\n",
       "| 64 |  8.590030 |  9        |\n",
       "| 65 |  9.581104 | 10        |\n",
       "| 71 | 14.987281 | 15        |\n",
       "| 75 | 11.713521 | 11        |\n",
       "| 77 | 10.722447 | 10        |\n",
       "| 79 |  7.298419 | 10        |\n",
       "| 84 | 15.287818 | 15        |\n",
       "| 86 |  8.139225 |  8        |\n",
       "| 90 |  5.316270 |  7        |\n",
       "| 91 |  6.157076 |  8        |\n",
       "| 101 |  6.157076 |  5        |\n",
       "| 105 | 18.411309 | 18        |\n",
       "| ... | ... | ... |\n",
       "| 302 | 10.7224468 | 10         |\n",
       "| 307 | 18.5615773 | 18         |\n",
       "| 308 |  8.2894930 |  8         |\n",
       "| 309 | 12.3145944 | 12         |\n",
       "| 312 | 12.1643261 | 13         |\n",
       "| 313 | 11.0229834 | 11         |\n",
       "| 316 | 11.0229834 | 11         |\n",
       "| 323 | 10.7224468 | 11         |\n",
       "| 329 |  8.5900297 |  9         |\n",
       "| 330 | 14.1464748 | 14         |\n",
       "| 333 | -0.7804446 |  0         |\n",
       "| 339 | 15.4380859 | 17         |\n",
       "| 344 |  7.4486870 |  0         |\n",
       "| 345 |  9.7313724 | 10         |\n",
       "| 347 | 15.4380859 | 16         |\n",
       "| 350 | 12.7045955 | 13         |\n",
       "| 351 |  6.3073443 |  8         |\n",
       "| 356 |  8.5900297 |  9         |\n",
       "| 359 |  9.5811041 | 10         |\n",
       "| 360 | 16.7296969 | 16         |\n",
       "| 361 | 13.0051321 | 13         |\n",
       "| 366 |  9.5811041 | 10         |\n",
       "| 367 | 13.0051321 | 13         |\n",
       "| 369 |  9.7313724 | 10         |\n",
       "| 379 | 15.2878175 | 15         |\n",
       "| 381 | 14.2967432 | 14         |\n",
       "| 383 | 10.7224468 | 10         |\n",
       "| 386 |  8.5900297 | 10         |\n",
       "| 390 |  4.0246589 |  0         |\n",
       "| 392 | 16.1286236 | 16         |\n",
       "\n"
      ],
      "text/plain": [
       "    pred       real\n",
       "4   14.296743  15  \n",
       "5    8.980031  10  \n",
       "7   11.863789  11  \n",
       "8    4.024659   6  \n",
       "10  15.137549  15  \n",
       "13  14.146475  14  \n",
       "21  13.996207  15  \n",
       "25   8.590030   8  \n",
       "30  11.563253  11  \n",
       "32  16.579429  17  \n",
       "39  11.863789  11  \n",
       "40  13.155400  13  \n",
       "42  11.863789  12  \n",
       "49  15.287818  14  \n",
       "54   9.280567  11  \n",
       "57  15.137549  15  \n",
       "61  10.572178  11  \n",
       "62   7.598955  11  \n",
       "64   8.590030   9  \n",
       "65   9.581104  10  \n",
       "71  14.987281  15  \n",
       "75  11.713521  11  \n",
       "77  10.722447  10  \n",
       "79   7.298419  10  \n",
       "84  15.287818  15  \n",
       "86   8.139225   8  \n",
       "90   5.316270   7  \n",
       "91   6.157076   8  \n",
       "101  6.157076   5  \n",
       "105 18.411309  18  \n",
       "... ...        ... \n",
       "302 10.7224468 10  \n",
       "307 18.5615773 18  \n",
       "308  8.2894930  8  \n",
       "309 12.3145944 12  \n",
       "312 12.1643261 13  \n",
       "313 11.0229834 11  \n",
       "316 11.0229834 11  \n",
       "323 10.7224468 11  \n",
       "329  8.5900297  9  \n",
       "330 14.1464748 14  \n",
       "333 -0.7804446  0  \n",
       "339 15.4380859 17  \n",
       "344  7.4486870  0  \n",
       "345  9.7313724 10  \n",
       "347 15.4380859 16  \n",
       "350 12.7045955 13  \n",
       "351  6.3073443  8  \n",
       "356  8.5900297  9  \n",
       "359  9.5811041 10  \n",
       "360 16.7296969 16  \n",
       "361 13.0051321 13  \n",
       "366  9.5811041 10  \n",
       "367 13.0051321 13  \n",
       "369  9.7313724 10  \n",
       "379 15.2878175 15  \n",
       "381 14.2967432 14  \n",
       "383 10.7224468 10  \n",
       "386  8.5900297 10  \n",
       "390  4.0246589  0  \n",
       "392 16.1286236 16  "
      ]
     },
     "metadata": {},
     "output_type": "display_data"
    }
   ],
   "source": [
    "results <- cbind(G3.predictions,test$G3) \n",
    "colnames(results) <- c('pred','real')\n",
    "results <- as.data.frame(results)\n",
    "results"
   ]
  },
  {
   "cell_type": "code",
   "execution_count": 95,
   "metadata": {},
   "outputs": [],
   "source": [
    "#removing negative predictions\n",
    "to_zero <- function(x){\n",
    "  if  (x < 0){\n",
    "    return(0)\n",
    "  }else{\n",
    "    return(x)\n",
    "  }\n",
    "}"
   ]
  },
  {
   "cell_type": "code",
   "execution_count": 96,
   "metadata": {},
   "outputs": [
    {
     "name": "stdout",
     "output_type": "stream",
     "text": [
      "         pred real\n",
      "4   14.296743   15\n",
      "5    8.980031   10\n",
      "7   11.863789   11\n",
      "8    4.024659    6\n",
      "10  15.137549   15\n",
      "13  14.146475   14\n",
      "21  13.996207   15\n",
      "25   8.590030    8\n",
      "30  11.563253   11\n",
      "32  16.579429   17\n",
      "39  11.863789   11\n",
      "40  13.155400   13\n",
      "42  11.863789   12\n",
      "49  15.287818   14\n",
      "54   9.280567   11\n",
      "57  15.137549   15\n",
      "61  10.572178   11\n",
      "62   7.598955   11\n",
      "64   8.590030    9\n",
      "65   9.581104   10\n",
      "71  14.987281   15\n",
      "75  11.713521   11\n",
      "77  10.722447   10\n",
      "79   7.298419   10\n",
      "84  15.287818   15\n",
      "86   8.139225    8\n",
      "90   5.316270    7\n",
      "91   6.157076    8\n",
      "101  6.157076    5\n",
      "105 18.411309   18\n",
      "114 19.702920   19\n",
      "116 15.287818   16\n",
      "119  6.457613    8\n",
      "121 15.438086   15\n",
      "129  3.183853    0\n",
      "136  0.000000    0\n",
      "144 14.146475   13\n",
      "149  5.166002    0\n",
      "154  0.000000    0\n",
      "155 10.722447   12\n",
      "156  7.749224    8\n",
      "161  5.166002    0\n",
      "162  7.838688    7\n",
      "164  9.581104   10\n",
      "165  6.847614    7\n",
      "166 10.872715   12\n",
      "170 14.146475   14\n",
      "173 11.022983   10\n",
      "176  8.590030    9\n",
      "177 13.005132   11\n",
      "178  4.024659    6\n",
      "182 12.854864   12\n",
      "184  8.439761    8\n",
      "187 11.713521   11\n",
      "189  6.307344    9\n",
      "191 11.713521   13\n",
      "194  8.289493   10\n",
      "202  9.280567   10\n",
      "204  5.166002    6\n",
      "213 12.854864   14\n",
      "216 15.137549   15\n",
      "221  5.015733    6\n",
      "224 12.854864   13\n",
      "225 13.005132   14\n",
      "230  9.881641   12\n",
      "233  8.740298    9\n",
      "234 13.155400   13\n",
      "235  6.457613    6\n",
      "236  8.740298   10\n",
      "240  6.157076    0\n",
      "244 12.014058   12\n",
      "245  0.000000    0\n",
      "249  3.573854    5\n",
      "252  9.130299   10\n",
      "260  8.590030    0\n",
      "261 18.561577   18\n",
      "262  7.298419    8\n",
      "263 12.014058   12\n",
      "277  8.590030    9\n",
      "278  8.439761    9\n",
      "279  7.448687    8\n",
      "283 11.863789   12\n",
      "291 10.872715   11\n",
      "292 15.287818   15\n",
      "294 18.711846   18\n",
      "295 13.155400   14\n",
      "300 15.438086   16\n",
      "301  9.881641   11\n",
      "302 10.722447   10\n",
      "307 18.561577   18\n",
      "308  8.289493    8\n",
      "309 12.314594   12\n",
      "312 12.164326   13\n",
      "313 11.022983   11\n",
      "316 11.022983   11\n",
      "323 10.722447   11\n",
      "329  8.590030    9\n",
      "330 14.146475   14\n",
      "333  0.000000    0\n",
      "339 15.438086   17\n",
      "344  7.448687    0\n",
      "345  9.731372   10\n",
      "347 15.438086   16\n",
      "350 12.704595   13\n",
      "351  6.307344    8\n",
      "356  8.590030    9\n",
      "359  9.581104   10\n",
      "360 16.729697   16\n",
      "361 13.005132   13\n",
      "366  9.581104   10\n",
      "367 13.005132   13\n",
      "369  9.731372   10\n",
      "379 15.287818   15\n",
      "381 14.296743   14\n",
      "383 10.722447   10\n",
      "386  8.590030   10\n",
      "390  4.024659    0\n",
      "392 16.128624   16\n"
     ]
    }
   ],
   "source": [
    "results$pred <- sapply(results$pred,to_zero)\n",
    "print(results)"
   ]
  },
  {
   "cell_type": "code",
   "execution_count": 97,
   "metadata": {},
   "outputs": [
    {
     "name": "stdout",
     "output_type": "stream",
     "text": [
      "[1] 2.962738\n"
     ]
    },
    {
     "data": {
      "text/html": [
       "1.72126063323373"
      ],
      "text/latex": [
       "1.72126063323373"
      ],
      "text/markdown": [
       "1.72126063323373"
      ],
      "text/plain": [
       "[1] 1.721261"
      ]
     },
     "metadata": {},
     "output_type": "display_data"
    },
    {
     "data": {
      "text/html": [
       "0.854855319500746"
      ],
      "text/latex": [
       "0.854855319500746"
      ],
      "text/markdown": [
       "0.854855319500746"
      ],
      "text/plain": [
       "[1] 0.8548553"
      ]
     },
     "metadata": {},
     "output_type": "display_data"
    }
   ],
   "source": [
    "#evaluate the model\n",
    "mse <- mean((results$real-results$pred)^2)\n",
    "print(mse)\n",
    "\n",
    "mse^0.5\n",
    "\n",
    "SSE = sum((results$pred - results$real)^2)\n",
    "SST = sum( (mean(df$G3) - results$real)^2)\n",
    "\n",
    "R2 = 1 - SSE/SST\n",
    "R2\n"
   ]
  },
  {
   "cell_type": "markdown",
   "metadata": {},
   "source": [
    "# # RMSE is measure of how spread out our residuals are..In other words,it tells you how concentrated data is around line best of fit..\n",
    "\n",
    "R2 is used to predict the accuracy of model..Higher the value is better the model is..the value lies between zero and one.."
   ]
  }
 ],
 "metadata": {
  "kernelspec": {
   "display_name": "R",
   "language": "R",
   "name": "ir"
  },
  "language_info": {
   "codemirror_mode": "r",
   "file_extension": ".r",
   "mimetype": "text/x-r-source",
   "name": "R",
   "pygments_lexer": "r",
   "version": "3.6.1"
  }
 },
 "nbformat": 4,
 "nbformat_minor": 2
}
